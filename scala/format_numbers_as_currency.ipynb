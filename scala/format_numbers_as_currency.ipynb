{
 "cells": [
  {
   "cell_type": "markdown",
   "metadata": {
    "deletable": true,
    "editable": true
   },
   "source": [
    "Title: Format Numbers As Currency   \n",
    "Slug: format_numbers_as_currency  \n",
    "Summary: Format Numbers As Currency Using Scala.  \n",
    "Date: 2017-01-03 12:00  \n",
    "Category: Scala  \n",
    "Tags: Basics  \n",
    "Authors: Chris Albon \n",
    "\n",
    "This tutorial was inspired by the awesome [Scala Cookbook](http://amzn.to/2lxbrxN)."
   ]
  },
  {
   "cell_type": "markdown",
   "metadata": {},
   "source": [
    "## Load The NumberFormat Currency Package"
   ]
  },
  {
   "cell_type": "code",
   "execution_count": 26,
   "metadata": {
    "collapsed": false,
    "deletable": true,
    "editable": true
   },
   "outputs": [],
   "source": [
    "// Create a value with the numberformat currency package\n",
    "val format_as_dollars = java.text.NumberFormat.getCurrencyInstance"
   ]
  },
  {
   "cell_type": "markdown",
   "metadata": {},
   "source": [
    "## Format A Number As Dollars"
   ]
  },
  {
   "cell_type": "code",
   "execution_count": 27,
   "metadata": {
    "collapsed": false
   },
   "outputs": [
    {
     "data": {
      "text/plain": [
       "$123.46"
      ]
     },
     "execution_count": 27,
     "metadata": {},
     "output_type": "execute_result"
    }
   ],
   "source": [
    "format_as_dollars.format(123.456789)"
   ]
  },
  {
   "cell_type": "markdown",
   "metadata": {},
   "source": [
    "## Change To A Local Currency\n",
    "\n",
    "Java's locale uses [ISO 3166-1 country codes](https://en.wikipedia.org/wiki/ISO_3166-1_alpha-2)."
   ]
  },
  {
   "cell_type": "code",
   "execution_count": 28,
   "metadata": {
    "collapsed": false
   },
   "outputs": [],
   "source": [
    "// Load the java libraries\n",
    "import java.util.{Currency, Locale}\n",
    "\n",
    "// Create a value with the numberformat currency package\n",
    "val format_as_afghan = java.text.NumberFormat.getCurrencyInstance\n",
    "\n",
    "// Set the locale of Currency to Afganistan\n",
    "val af = Currency.getInstance(new Locale(\"af\", \"AF\"))\n",
    "\n",
    "// Set the locale of the numberformat currency package to the Afghan\n",
    "format_as_afghan.setCurrency(af)"
   ]
  },
  {
   "cell_type": "markdown",
   "metadata": {},
   "source": [
    "## Format A Number As Afghans"
   ]
  },
  {
   "cell_type": "code",
   "execution_count": 29,
   "metadata": {
    "collapsed": false
   },
   "outputs": [
    {
     "data": {
      "text/plain": [
       "AFN123,456.79"
      ]
     },
     "execution_count": 29,
     "metadata": {},
     "output_type": "execute_result"
    }
   ],
   "source": [
    "// Format the currency as Afghans\n",
    "format_as_afghan.format(123456.789)"
   ]
  }
 ],
 "metadata": {
  "kernelspec": {
   "display_name": "Apache Toree - Scala",
   "language": "scala",
   "name": "apache_toree_scala"
  },
  "language_info": {
   "file_extension": ".scala",
   "name": "scala",
   "version": "2.11.8"
  }
 },
 "nbformat": 4,
 "nbformat_minor": 2
}
