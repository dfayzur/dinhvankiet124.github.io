{
 "cells": [
  {
   "cell_type": "markdown",
   "metadata": {
    "deletable": true,
    "editable": true
   },
   "source": [
    "Title: Try, Catch, Finally   \n",
    "Slug: try_catch_finally       \n",
    "Summary: Try, Catch, Finally Using Scala.  \n",
    "Date: 2017-01-03 12:00  \n",
    "Category: Scala  \n",
    "Tags: Basics  \n",
    "Authors: Chris Albon \n",
    "\n",
    "If you want to learn more, check out [Scala Cookbook](http://amzn.to/2lxbrxN) and [Programming in Scala](http://amzn.to/2lEtsLt)."
   ]
  },
  {
   "cell_type": "markdown",
   "metadata": {},
   "source": [
    "## Create Some Operation That Will Cause An Exception"
   ]
  },
  {
   "cell_type": "code",
   "execution_count": 19,
   "metadata": {
    "collapsed": false
   },
   "outputs": [
    {
     "data": {
      "text/plain": [
       "Name: java.lang.NumberFormatException\n",
       "Message: For input string: \"Sixteen\"\n",
       "StackTrace:   at sun.misc.FloatingDecimal.readJavaFormatString(FloatingDecimal.java:2043)\n",
       "  at sun.misc.FloatingDecimal.parseFloat(FloatingDecimal.java:122)\n",
       "  at java.lang.Float.parseFloat(Float.java:451)\n",
       "  at scala.collection.immutable.StringLike$class.toFloat(StringLike.scala:280)\n",
       "  at scala.collection.immutable.StringOps.toFloat(StringOps.scala:29)"
      ]
     },
     "execution_count": 19,
     "metadata": {},
     "output_type": "execute_result"
    }
   ],
   "source": [
    "\"Sixteen\".toFloat"
   ]
  },
  {
   "cell_type": "markdown",
   "metadata": {},
   "source": [
    "## Try, Catch, Finally"
   ]
  },
  {
   "cell_type": "code",
   "execution_count": 21,
   "metadata": {
    "collapsed": false,
    "deletable": true,
    "editable": true
   },
   "outputs": [
    {
     "name": "stdout",
     "output_type": "stream",
     "text": [
      "Something went wrong\n",
      "We are finally done.\n"
     ]
    },
    {
     "data": {
      "text/plain": [
       "()"
      ]
     },
     "execution_count": 21,
     "metadata": {},
     "output_type": "execute_result"
    }
   ],
   "source": [
    "// Try\n",
    "try {\n",
    "    // The bad operation\n",
    "    \"Sixteen\".toFloat\n",
    "// Catch any problems\n",
    "} catch {\n",
    "    // If it is an exception, print something\n",
    "    case e: Exception => println(\"Something went wrong\")\n",
    "} finally {\n",
    "    // Regardless of if there is an error or not, print this\n",
    "    println(\"We are finally done.\")\n",
    "}"
   ]
  }
 ],
 "metadata": {
  "kernelspec": {
   "display_name": "Apache Toree - Scala",
   "language": "scala",
   "name": "apache_toree_scala"
  },
  "language_info": {
   "file_extension": ".scala",
   "name": "scala",
   "version": "2.11.8"
  }
 },
 "nbformat": 4,
 "nbformat_minor": 2
}
