{
 "cells": [
  {
   "cell_type": "markdown",
   "metadata": {},
   "source": [
    "Title: Select From Multiple Tables Simultaneously  \n",
    "Slug: select_from_multiple_tables  \n",
    "Summary: Merge tables in SQL. \n",
    "Date: 2016-05-01 12:00  \n",
    "Category: SQL  \n",
    "Tags: Basics  \n",
    "Authors: Chris Albon  \n",
    "\n",
    "Note: This tutorial was written using [Catherine Devlin's SQL in Jupyter Notebooks library](https://github.com/catherinedevlin/ipython-sql). If you have not using a Jupyter Notebook, you can ignore the two lines of code below and any line containing `%%sql`. Furthermore, this tutorial uses SQLite's flavor of SQL, your version might have some differences in syntax.\n",
    "\n",
    "For more, check out [Learning SQL](http://amzn.to/2jRriHj) by Alan Beaulieu."
   ]
  },
  {
   "cell_type": "code",
   "execution_count": 1,
   "metadata": {},
   "outputs": [],
   "source": [
    "# Ignore\n",
    "%load_ext sql\n",
    "%sql sqlite://\n",
    "%config SqlMagic.feedback = False"
   ]
  },
  {
   "cell_type": "markdown",
   "metadata": {},
   "source": [
    "## Create Two Tables, Criminals And Crimes"
   ]
  },
  {
   "cell_type": "code",
   "execution_count": 2,
   "metadata": {},
   "outputs": [
    {
     "data": {
      "text/plain": [
       "[]"
      ]
     },
     "execution_count": 2,
     "metadata": {},
     "output_type": "execute_result"
    }
   ],
   "source": [
    "%%sql\n",
    "\n",
    "-- Create a table of criminals\n",
    "CREATE TABLE criminals (pid, name, age, sex, city, minor);\n",
    "INSERT INTO criminals VALUES (412, 'James Smith', 15, 'M', 'Santa Rosa', 1);\n",
    "INSERT INTO criminals VALUES (234, 'Bill James', 22, 'M', 'Santa Rosa', 0);\n",
    "INSERT INTO criminals VALUES (632, 'Stacy Miller', 23, 'F', 'Santa Rosa', 0);\n",
    "INSERT INTO criminals VALUES (621, 'Betty Bob', NULL, 'F', 'Petaluma', 1);\n",
    "INSERT INTO criminals VALUES (162, 'Jaden Ado', 49, 'M', NULL, 0);\n",
    "INSERT INTO criminals VALUES (901, 'Gordon Ado', 32, 'F', 'Santa Rosa', 0);\n",
    "INSERT INTO criminals VALUES (512, 'Bill Byson', 21, 'M', 'Santa Rosa', 0);\n",
    "INSERT INTO criminals VALUES (411, 'Bob Iton', NULL, 'M', 'San Francisco', 0);\n",
    "\n",
    "-- Create a table of crimes\n",
    "CREATE TABLE crimes (cid, crime, city, pid_arrested, cash_stolen);\n",
    "INSERT INTO crimes VALUES (1, 'fraud', 'Santa Rosa', 412, 40000);\n",
    "INSERT INTO crimes VALUES (2, 'burglary', 'Petaluma', 234, 2000);\n",
    "INSERT INTO crimes VALUES (3, 'burglary', 'Santa Rosa', 632, 2000);\n",
    "INSERT INTO crimes VALUES (4, NULL, NULL, 621, 3500); \n",
    "INSERT INTO crimes VALUES (5, 'burglary', 'Santa Rosa', 162, 1000); \n",
    "INSERT INTO crimes VALUES (6, NULL, 'Petaluma', 901, 50000); \n",
    "INSERT INTO crimes VALUES (7, 'fraud', 'San Francisco', 412, 60000); \n",
    "INSERT INTO crimes VALUES (8, 'burglary', 'Santa Rosa', 512, 7000); \n",
    "INSERT INTO crimes VALUES (9, 'burglary', 'San Francisco', 411, 3000); \n",
    "INSERT INTO crimes VALUES (10, 'robbery', 'Santa Rosa', 632, 2500); \n",
    "INSERT INTO crimes VALUES (11, 'robbery', 'Santa Rosa', 512, 3000);"
   ]
  },
  {
   "cell_type": "markdown",
   "metadata": {},
   "source": [
    "## View All Unique City Names From Both Tables"
   ]
  },
  {
   "cell_type": "code",
   "execution_count": 3,
   "metadata": {},
   "outputs": [
    {
     "data": {
      "text/html": [
       "<table>\n",
       "    <tr>\n",
       "        <th>city</th>\n",
       "    </tr>\n",
       "    <tr>\n",
       "        <td>None</td>\n",
       "    </tr>\n",
       "    <tr>\n",
       "        <td>Petaluma</td>\n",
       "    </tr>\n",
       "    <tr>\n",
       "        <td>San Francisco</td>\n",
       "    </tr>\n",
       "    <tr>\n",
       "        <td>Santa Rosa</td>\n",
       "    </tr>\n",
       "</table>"
      ],
      "text/plain": [
       "[(None,), ('Petaluma',), ('San Francisco',), ('Santa Rosa',)]"
      ]
     },
     "execution_count": 3,
     "metadata": {},
     "output_type": "execute_result"
    }
   ],
   "source": [
    "%%sql\n",
    "\n",
    "-- Select city name\n",
    "SELECT city \n",
    "\n",
    "-- From criminals table\n",
    "FROM criminals\n",
    "\n",
    "-- Then combine with\n",
    "UNION\n",
    "\n",
    "-- Select city names\n",
    "SELECT city \n",
    "\n",
    "-- From crimes table\n",
    "FROM crimes;"
   ]
  },
  {
   "cell_type": "markdown",
   "metadata": {},
   "source": [
    "## View All City Names From Both Tables"
   ]
  },
  {
   "cell_type": "code",
   "execution_count": 4,
   "metadata": {},
   "outputs": [
    {
     "data": {
      "text/html": [
       "<table>\n",
       "    <tr>\n",
       "        <th>city</th>\n",
       "    </tr>\n",
       "    <tr>\n",
       "        <td>Santa Rosa</td>\n",
       "    </tr>\n",
       "    <tr>\n",
       "        <td>Santa Rosa</td>\n",
       "    </tr>\n",
       "    <tr>\n",
       "        <td>Santa Rosa</td>\n",
       "    </tr>\n",
       "    <tr>\n",
       "        <td>Petaluma</td>\n",
       "    </tr>\n",
       "    <tr>\n",
       "        <td>None</td>\n",
       "    </tr>\n",
       "    <tr>\n",
       "        <td>Santa Rosa</td>\n",
       "    </tr>\n",
       "    <tr>\n",
       "        <td>Santa Rosa</td>\n",
       "    </tr>\n",
       "    <tr>\n",
       "        <td>San Francisco</td>\n",
       "    </tr>\n",
       "    <tr>\n",
       "        <td>Santa Rosa</td>\n",
       "    </tr>\n",
       "    <tr>\n",
       "        <td>Petaluma</td>\n",
       "    </tr>\n",
       "    <tr>\n",
       "        <td>Santa Rosa</td>\n",
       "    </tr>\n",
       "    <tr>\n",
       "        <td>None</td>\n",
       "    </tr>\n",
       "    <tr>\n",
       "        <td>Santa Rosa</td>\n",
       "    </tr>\n",
       "    <tr>\n",
       "        <td>Petaluma</td>\n",
       "    </tr>\n",
       "    <tr>\n",
       "        <td>San Francisco</td>\n",
       "    </tr>\n",
       "    <tr>\n",
       "        <td>Santa Rosa</td>\n",
       "    </tr>\n",
       "    <tr>\n",
       "        <td>San Francisco</td>\n",
       "    </tr>\n",
       "    <tr>\n",
       "        <td>Santa Rosa</td>\n",
       "    </tr>\n",
       "    <tr>\n",
       "        <td>Santa Rosa</td>\n",
       "    </tr>\n",
       "</table>"
      ],
      "text/plain": [
       "[('Santa Rosa',),\n",
       " ('Santa Rosa',),\n",
       " ('Santa Rosa',),\n",
       " ('Petaluma',),\n",
       " (None,),\n",
       " ('Santa Rosa',),\n",
       " ('Santa Rosa',),\n",
       " ('San Francisco',),\n",
       " ('Santa Rosa',),\n",
       " ('Petaluma',),\n",
       " ('Santa Rosa',),\n",
       " (None,),\n",
       " ('Santa Rosa',),\n",
       " ('Petaluma',),\n",
       " ('San Francisco',),\n",
       " ('Santa Rosa',),\n",
       " ('San Francisco',),\n",
       " ('Santa Rosa',),\n",
       " ('Santa Rosa',)]"
      ]
     },
     "execution_count": 4,
     "metadata": {},
     "output_type": "execute_result"
    }
   ],
   "source": [
    "%%sql\n",
    "\n",
    "-- Select city name\n",
    "SELECT city \n",
    "\n",
    "-- From criminals table\n",
    "FROM criminals\n",
    "\n",
    "-- Then combine with\n",
    "UNION ALL\n",
    "\n",
    "-- Select city names\n",
    "SELECT city \n",
    "\n",
    "-- From crimes table\n",
    "FROM crimes;"
   ]
  }
 ],
 "metadata": {
  "anaconda-cloud": {},
  "kernelspec": {
   "display_name": "Python [default]",
   "language": "python",
   "name": "python3"
  },
  "language_info": {
   "codemirror_mode": {
    "name": "ipython",
    "version": 3
   },
   "file_extension": ".py",
   "mimetype": "text/x-python",
   "name": "python",
   "nbconvert_exporter": "python",
   "pygments_lexer": "ipython3",
   "version": "3.5.3"
  }
 },
 "nbformat": 4,
 "nbformat_minor": 1
}
