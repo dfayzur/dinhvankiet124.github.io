{
 "cells": [
  {
   "cell_type": "markdown",
   "metadata": {},
   "source": [
    "Title: Copy Data From One Table To Another  \n",
    "Slug: copy_data_between_tables  \n",
    "Summary: Copy Data From One Table To Another in SQL.    \n",
    "Date: 2016-05-01 12:00  \n",
    "Category: SQL  \n",
    "Tags: Basics  \n",
    "Authors: Chris Albon  \n",
    "\n",
    "Note: This tutorial was written using [Catherine Devlin's SQL in Jupyter Notebooks library](https://github.com/catherinedevlin/ipython-sql). If you have not using a Jupyter Notebook, you can ignore the two lines of code below and any line containing `%%sql`. Furthermore, this tutorial uses SQLite's flavor of SQL, your version might have some differences in syntax.\n",
    "\n",
    "For more, check out [Learning SQL](http://amzn.to/2jRriHj) by Alan Beaulieu."
   ]
  },
  {
   "cell_type": "code",
   "execution_count": 1,
   "metadata": {},
   "outputs": [],
   "source": [
    "# Ignore\n",
    "%load_ext sql\n",
    "%sql sqlite://\n",
    "%config SqlMagic.feedback = False"
   ]
  },
  {
   "cell_type": "markdown",
   "metadata": {},
   "source": [
    "## Create Table"
   ]
  },
  {
   "cell_type": "code",
   "execution_count": 2,
   "metadata": {},
   "outputs": [
    {
     "data": {
      "text/plain": [
       "[]"
      ]
     },
     "execution_count": 2,
     "metadata": {},
     "output_type": "execute_result"
    }
   ],
   "source": [
    "%%sql\n",
    "\n",
    "-- Create a table of criminals_1\n",
    "CREATE TABLE criminals_1 (pid, name, age, sex, city, minor);\n",
    "INSERT INTO criminals_1 VALUES (412, 'James Smith', 15, 'M', 'Santa Rosa', 1);\n",
    "INSERT INTO criminals_1 VALUES (234, 'Bill James', 22, 'M', 'Santa Rosa', 0);\n",
    "INSERT INTO criminals_1 VALUES (632, 'Stacy Miller', 23, 'F', 'Santa Rosa', 0);\n",
    "INSERT INTO criminals_1 VALUES (621, 'Betty Bob', NULL, 'F', 'Petaluma', 1);\n",
    "INSERT INTO criminals_1 VALUES (162, 'Jaden Ado', 49, 'M', NULL, 0);\n",
    "INSERT INTO criminals_1 VALUES (901, 'Gordon Ado', 32, 'F', 'Santa Rosa', 0);\n",
    "INSERT INTO criminals_1 VALUES (512, 'Bill Byson', 21, 'M', 'Santa Rosa', 0);\n",
    "INSERT INTO criminals_1 VALUES (411, 'Bob Iton', NULL, 'M', 'San Francisco', 0);"
   ]
  },
  {
   "cell_type": "markdown",
   "metadata": {},
   "source": [
    "## View Table"
   ]
  },
  {
   "cell_type": "code",
   "execution_count": 3,
   "metadata": {},
   "outputs": [
    {
     "data": {
      "text/html": [
       "<table>\n",
       "    <tr>\n",
       "        <th>pid</th>\n",
       "        <th>name</th>\n",
       "        <th>age</th>\n",
       "        <th>sex</th>\n",
       "        <th>city</th>\n",
       "        <th>minor</th>\n",
       "    </tr>\n",
       "    <tr>\n",
       "        <td>412</td>\n",
       "        <td>James Smith</td>\n",
       "        <td>15</td>\n",
       "        <td>M</td>\n",
       "        <td>Santa Rosa</td>\n",
       "        <td>1</td>\n",
       "    </tr>\n",
       "    <tr>\n",
       "        <td>234</td>\n",
       "        <td>Bill James</td>\n",
       "        <td>22</td>\n",
       "        <td>M</td>\n",
       "        <td>Santa Rosa</td>\n",
       "        <td>0</td>\n",
       "    </tr>\n",
       "    <tr>\n",
       "        <td>632</td>\n",
       "        <td>Stacy Miller</td>\n",
       "        <td>23</td>\n",
       "        <td>F</td>\n",
       "        <td>Santa Rosa</td>\n",
       "        <td>0</td>\n",
       "    </tr>\n",
       "    <tr>\n",
       "        <td>621</td>\n",
       "        <td>Betty Bob</td>\n",
       "        <td>None</td>\n",
       "        <td>F</td>\n",
       "        <td>Petaluma</td>\n",
       "        <td>1</td>\n",
       "    </tr>\n",
       "    <tr>\n",
       "        <td>162</td>\n",
       "        <td>Jaden Ado</td>\n",
       "        <td>49</td>\n",
       "        <td>M</td>\n",
       "        <td>None</td>\n",
       "        <td>0</td>\n",
       "    </tr>\n",
       "    <tr>\n",
       "        <td>901</td>\n",
       "        <td>Gordon Ado</td>\n",
       "        <td>32</td>\n",
       "        <td>F</td>\n",
       "        <td>Santa Rosa</td>\n",
       "        <td>0</td>\n",
       "    </tr>\n",
       "    <tr>\n",
       "        <td>512</td>\n",
       "        <td>Bill Byson</td>\n",
       "        <td>21</td>\n",
       "        <td>M</td>\n",
       "        <td>Santa Rosa</td>\n",
       "        <td>0</td>\n",
       "    </tr>\n",
       "    <tr>\n",
       "        <td>411</td>\n",
       "        <td>Bob Iton</td>\n",
       "        <td>None</td>\n",
       "        <td>M</td>\n",
       "        <td>San Francisco</td>\n",
       "        <td>0</td>\n",
       "    </tr>\n",
       "</table>"
      ],
      "text/plain": [
       "[(412, 'James Smith', 15, 'M', 'Santa Rosa', 1),\n",
       " (234, 'Bill James', 22, 'M', 'Santa Rosa', 0),\n",
       " (632, 'Stacy Miller', 23, 'F', 'Santa Rosa', 0),\n",
       " (621, 'Betty Bob', None, 'F', 'Petaluma', 1),\n",
       " (162, 'Jaden Ado', 49, 'M', None, 0),\n",
       " (901, 'Gordon Ado', 32, 'F', 'Santa Rosa', 0),\n",
       " (512, 'Bill Byson', 21, 'M', 'Santa Rosa', 0),\n",
       " (411, 'Bob Iton', None, 'M', 'San Francisco', 0)]"
      ]
     },
     "execution_count": 3,
     "metadata": {},
     "output_type": "execute_result"
    }
   ],
   "source": [
    "%%sql\n",
    "\n",
    "-- Select all\n",
    "SELECT *\n",
    "\n",
    "-- From the table 'criminals_1'\n",
    "FROM criminals_1"
   ]
  },
  {
   "cell_type": "markdown",
   "metadata": {},
   "source": [
    "## Create New Empty Table"
   ]
  },
  {
   "cell_type": "code",
   "execution_count": 4,
   "metadata": {},
   "outputs": [
    {
     "data": {
      "text/plain": [
       "[]"
      ]
     },
     "execution_count": 4,
     "metadata": {},
     "output_type": "execute_result"
    }
   ],
   "source": [
    "%%sql\n",
    "\n",
    "-- Create a table called criminals_2\n",
    "CREATE TABLE criminals_2 (pid, name, age, sex, city, minor);"
   ]
  },
  {
   "cell_type": "markdown",
   "metadata": {},
   "source": [
    "## Copy Contents Of First Table Into Empty Table"
   ]
  },
  {
   "cell_type": "code",
   "execution_count": 5,
   "metadata": {},
   "outputs": [
    {
     "data": {
      "text/plain": [
       "[]"
      ]
     },
     "execution_count": 5,
     "metadata": {},
     "output_type": "execute_result"
    }
   ],
   "source": [
    "%%sql\n",
    "\n",
    "-- Insert into the empty table\n",
    "INSERT INTO criminals_2\n",
    "\n",
    "-- Everything\n",
    "SELECT * \n",
    "\n",
    "-- From the first table\n",
    "FROM criminals_1;"
   ]
  },
  {
   "cell_type": "markdown",
   "metadata": {},
   "source": [
    "## View Previously Empty Table"
   ]
  },
  {
   "cell_type": "code",
   "execution_count": 6,
   "metadata": {},
   "outputs": [
    {
     "data": {
      "text/html": [
       "<table>\n",
       "    <tr>\n",
       "        <th>pid</th>\n",
       "        <th>name</th>\n",
       "        <th>age</th>\n",
       "        <th>sex</th>\n",
       "        <th>city</th>\n",
       "        <th>minor</th>\n",
       "    </tr>\n",
       "    <tr>\n",
       "        <td>412</td>\n",
       "        <td>James Smith</td>\n",
       "        <td>15</td>\n",
       "        <td>M</td>\n",
       "        <td>Santa Rosa</td>\n",
       "        <td>1</td>\n",
       "    </tr>\n",
       "    <tr>\n",
       "        <td>234</td>\n",
       "        <td>Bill James</td>\n",
       "        <td>22</td>\n",
       "        <td>M</td>\n",
       "        <td>Santa Rosa</td>\n",
       "        <td>0</td>\n",
       "    </tr>\n",
       "    <tr>\n",
       "        <td>632</td>\n",
       "        <td>Stacy Miller</td>\n",
       "        <td>23</td>\n",
       "        <td>F</td>\n",
       "        <td>Santa Rosa</td>\n",
       "        <td>0</td>\n",
       "    </tr>\n",
       "    <tr>\n",
       "        <td>621</td>\n",
       "        <td>Betty Bob</td>\n",
       "        <td>None</td>\n",
       "        <td>F</td>\n",
       "        <td>Petaluma</td>\n",
       "        <td>1</td>\n",
       "    </tr>\n",
       "    <tr>\n",
       "        <td>162</td>\n",
       "        <td>Jaden Ado</td>\n",
       "        <td>49</td>\n",
       "        <td>M</td>\n",
       "        <td>None</td>\n",
       "        <td>0</td>\n",
       "    </tr>\n",
       "    <tr>\n",
       "        <td>901</td>\n",
       "        <td>Gordon Ado</td>\n",
       "        <td>32</td>\n",
       "        <td>F</td>\n",
       "        <td>Santa Rosa</td>\n",
       "        <td>0</td>\n",
       "    </tr>\n",
       "    <tr>\n",
       "        <td>512</td>\n",
       "        <td>Bill Byson</td>\n",
       "        <td>21</td>\n",
       "        <td>M</td>\n",
       "        <td>Santa Rosa</td>\n",
       "        <td>0</td>\n",
       "    </tr>\n",
       "    <tr>\n",
       "        <td>411</td>\n",
       "        <td>Bob Iton</td>\n",
       "        <td>None</td>\n",
       "        <td>M</td>\n",
       "        <td>San Francisco</td>\n",
       "        <td>0</td>\n",
       "    </tr>\n",
       "</table>"
      ],
      "text/plain": [
       "[(412, 'James Smith', 15, 'M', 'Santa Rosa', 1),\n",
       " (234, 'Bill James', 22, 'M', 'Santa Rosa', 0),\n",
       " (632, 'Stacy Miller', 23, 'F', 'Santa Rosa', 0),\n",
       " (621, 'Betty Bob', None, 'F', 'Petaluma', 1),\n",
       " (162, 'Jaden Ado', 49, 'M', None, 0),\n",
       " (901, 'Gordon Ado', 32, 'F', 'Santa Rosa', 0),\n",
       " (512, 'Bill Byson', 21, 'M', 'Santa Rosa', 0),\n",
       " (411, 'Bob Iton', None, 'M', 'San Francisco', 0)]"
      ]
     },
     "execution_count": 6,
     "metadata": {},
     "output_type": "execute_result"
    }
   ],
   "source": [
    "%%sql\n",
    "\n",
    "-- Select everything\n",
    "SELECT *\n",
    "\n",
    "-- From the previously empty table\n",
    "FROM criminals_2"
   ]
  }
 ],
 "metadata": {
  "anaconda-cloud": {},
  "kernelspec": {
   "display_name": "Python [default]",
   "language": "python",
   "name": "python3"
  },
  "language_info": {
   "codemirror_mode": {
    "name": "ipython",
    "version": 3
   },
   "file_extension": ".py",
   "mimetype": "text/x-python",
   "name": "python",
   "nbconvert_exporter": "python",
   "pygments_lexer": "ipython3",
   "version": "3.5.3"
  }
 },
 "nbformat": 4,
 "nbformat_minor": 1
}
