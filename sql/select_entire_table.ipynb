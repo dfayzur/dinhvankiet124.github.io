{
 "cells": [
  {
   "cell_type": "markdown",
   "metadata": {},
   "source": [
    "Title: Select An Entire Table  \n",
    "Slug: select_entire_table  \n",
    "Summary: Select an entire table in SQL. \n",
    "Date: 2016-05-01 12:00  \n",
    "Category: SQL  \n",
    "Tags: Basics  \n",
    "Authors: Chris Albon  \n",
    "\n",
    "Note: This tutorial was written using [Catherine Devlin's SQL in Jupyter Notebooks library](https://github.com/catherinedevlin/ipython-sql). If you have not using a Jupyter Notebook, you can ignore the two lines of code below and any line containing `%%sql`. Furthermore, this tutorial uses SQLite's flavor of SQL, your version might have some differences in syntax."
   ]
  },
  {
   "cell_type": "code",
   "execution_count": 1,
   "metadata": {},
   "outputs": [
    {
     "data": {
      "text/plain": [
       "'Connected: None@None'"
      ]
     },
     "execution_count": 1,
     "metadata": {},
     "output_type": "execute_result"
    }
   ],
   "source": [
    "# Ignore\n",
    "%load_ext sql\n",
    "%sql sqlite://"
   ]
  },
  {
   "cell_type": "markdown",
   "metadata": {},
   "source": [
    "## Create Data"
   ]
  },
  {
   "cell_type": "code",
   "execution_count": 2,
   "metadata": {},
   "outputs": [
    {
     "name": "stdout",
     "output_type": "stream",
     "text": [
      "Done.\n",
      "1 rows affected.\n",
      "1 rows affected.\n",
      "1 rows affected.\n",
      "1 rows affected.\n",
      "1 rows affected.\n",
      "1 rows affected.\n",
      "1 rows affected.\n",
      "1 rows affected.\n",
      "Done.\n",
      "1 rows affected.\n",
      "1 rows affected.\n",
      "1 rows affected.\n",
      "1 rows affected.\n",
      "1 rows affected.\n",
      "1 rows affected.\n",
      "1 rows affected.\n",
      "1 rows affected.\n",
      "1 rows affected.\n",
      "1 rows affected.\n",
      "1 rows affected.\n"
     ]
    },
    {
     "data": {
      "text/plain": [
       "[]"
      ]
     },
     "execution_count": 2,
     "metadata": {},
     "output_type": "execute_result"
    }
   ],
   "source": [
    "%%sql\n",
    "\n",
    "/* Create A Table Of Criminals */\n",
    "CREATE TABLE criminals (pid, name, age, sex, city, minor);\n",
    "INSERT INTO criminals VALUES (412, 'James Smith', 15, 'M', 'Santa Rosa', 1);\n",
    "INSERT INTO criminals VALUES (234, 'Bill James', 22, 'M', 'Santa Rosa', 0);\n",
    "INSERT INTO criminals VALUES (632, 'Stacy Miller', 23, 'F', 'Santa Rosa', 0);\n",
    "INSERT INTO criminals VALUES (621, 'Betty Bob', NULL, 'F', 'Petaluma', 1);\n",
    "INSERT INTO criminals VALUES (162, 'Jaden Ado', 49, 'M', NULL, 0);\n",
    "INSERT INTO criminals VALUES (901, 'Gordon Ado', 32, 'F', 'Santa Rosa', 0);\n",
    "INSERT INTO criminals VALUES (512, 'Bill Byson', 21, 'M', 'Santa Rosa', 0);\n",
    "INSERT INTO criminals VALUES (411, 'Bob Iton', NULL, 'M', 'San Francisco', 0);\n",
    "\n",
    "/* Create A Table Of Crimes */\n",
    "CREATE TABLE crimes (cid, crime, city, pid_arrested, cash_stolen);\n",
    "INSERT INTO crimes VALUES (1, 'fraud', 'Santa Rosa', 412, 40000);\n",
    "INSERT INTO crimes VALUES (1, 'burglary', 'Petaluma', 234, 2000);\n",
    "INSERT INTO crimes VALUES (1, 'burglary', 'Santa Rosa', 632, 2000);\n",
    "INSERT INTO crimes VALUES (1, 'larcony', 'Petaluma', 621, 3500); \n",
    "INSERT INTO crimes VALUES (1, 'burglary', 'Santa Rosa', 162, 1000); \n",
    "INSERT INTO crimes VALUES (1, 'larcony', 'Petaluma', 901, 50000); \n",
    "INSERT INTO crimes VALUES (1, 'fraud', 'San Francisco', 412, 60000); \n",
    "INSERT INTO crimes VALUES (1, 'burglary', 'Santa Rosa', 512, 7000); \n",
    "INSERT INTO crimes VALUES (1, 'burglary', 'San Francisco', 411, 3000); \n",
    "INSERT INTO crimes VALUES (1, 'robbery', 'Santa Rosa', 632, 2500); \n",
    "INSERT INTO crimes VALUES (1, 'robbery', 'Santa Rosa', 512, 3000);"
   ]
  },
  {
   "cell_type": "markdown",
   "metadata": {},
   "source": [
    "## View Both Tables"
   ]
  },
  {
   "cell_type": "code",
   "execution_count": 3,
   "metadata": {},
   "outputs": [
    {
     "name": "stdout",
     "output_type": "stream",
     "text": [
      "Done.\n"
     ]
    },
    {
     "data": {
      "text/html": [
       "<table>\n",
       "    <tr>\n",
       "        <th>pid</th>\n",
       "        <th>name</th>\n",
       "        <th>age</th>\n",
       "        <th>sex</th>\n",
       "        <th>city</th>\n",
       "        <th>minor</th>\n",
       "    </tr>\n",
       "    <tr>\n",
       "        <td>412</td>\n",
       "        <td>James Smith</td>\n",
       "        <td>15</td>\n",
       "        <td>M</td>\n",
       "        <td>Santa Rosa</td>\n",
       "        <td>1</td>\n",
       "    </tr>\n",
       "    <tr>\n",
       "        <td>234</td>\n",
       "        <td>Bill James</td>\n",
       "        <td>22</td>\n",
       "        <td>M</td>\n",
       "        <td>Santa Rosa</td>\n",
       "        <td>0</td>\n",
       "    </tr>\n",
       "    <tr>\n",
       "        <td>632</td>\n",
       "        <td>Stacy Miller</td>\n",
       "        <td>23</td>\n",
       "        <td>F</td>\n",
       "        <td>Santa Rosa</td>\n",
       "        <td>0</td>\n",
       "    </tr>\n",
       "    <tr>\n",
       "        <td>621</td>\n",
       "        <td>Betty Bob</td>\n",
       "        <td>None</td>\n",
       "        <td>F</td>\n",
       "        <td>Petaluma</td>\n",
       "        <td>1</td>\n",
       "    </tr>\n",
       "    <tr>\n",
       "        <td>162</td>\n",
       "        <td>Jaden Ado</td>\n",
       "        <td>49</td>\n",
       "        <td>M</td>\n",
       "        <td>None</td>\n",
       "        <td>0</td>\n",
       "    </tr>\n",
       "    <tr>\n",
       "        <td>901</td>\n",
       "        <td>Gordon Ado</td>\n",
       "        <td>32</td>\n",
       "        <td>F</td>\n",
       "        <td>Santa Rosa</td>\n",
       "        <td>0</td>\n",
       "    </tr>\n",
       "    <tr>\n",
       "        <td>512</td>\n",
       "        <td>Bill Byson</td>\n",
       "        <td>21</td>\n",
       "        <td>M</td>\n",
       "        <td>Santa Rosa</td>\n",
       "        <td>0</td>\n",
       "    </tr>\n",
       "    <tr>\n",
       "        <td>411</td>\n",
       "        <td>Bob Iton</td>\n",
       "        <td>None</td>\n",
       "        <td>M</td>\n",
       "        <td>San Francisco</td>\n",
       "        <td>0</td>\n",
       "    </tr>\n",
       "</table>"
      ],
      "text/plain": [
       "[(412, 'James Smith', 15, 'M', 'Santa Rosa', 1),\n",
       " (234, 'Bill James', 22, 'M', 'Santa Rosa', 0),\n",
       " (632, 'Stacy Miller', 23, 'F', 'Santa Rosa', 0),\n",
       " (621, 'Betty Bob', None, 'F', 'Petaluma', 1),\n",
       " (162, 'Jaden Ado', 49, 'M', None, 0),\n",
       " (901, 'Gordon Ado', 32, 'F', 'Santa Rosa', 0),\n",
       " (512, 'Bill Byson', 21, 'M', 'Santa Rosa', 0),\n",
       " (411, 'Bob Iton', None, 'M', 'San Francisco', 0)]"
      ]
     },
     "execution_count": 3,
     "metadata": {},
     "output_type": "execute_result"
    }
   ],
   "source": [
    "%%sql\n",
    "\n",
    "-- Select everything\n",
    "SELECT *\n",
    "\n",
    "-- From the table 'criminals'\n",
    "FROM criminals"
   ]
  },
  {
   "cell_type": "code",
   "execution_count": 4,
   "metadata": {},
   "outputs": [
    {
     "name": "stdout",
     "output_type": "stream",
     "text": [
      "Done.\n"
     ]
    },
    {
     "data": {
      "text/html": [
       "<table>\n",
       "    <tr>\n",
       "        <th>cid</th>\n",
       "        <th>crime</th>\n",
       "        <th>city</th>\n",
       "        <th>pid_arrested</th>\n",
       "        <th>cash_stolen</th>\n",
       "    </tr>\n",
       "    <tr>\n",
       "        <td>1</td>\n",
       "        <td>fraud</td>\n",
       "        <td>Santa Rosa</td>\n",
       "        <td>412</td>\n",
       "        <td>40000</td>\n",
       "    </tr>\n",
       "    <tr>\n",
       "        <td>1</td>\n",
       "        <td>burglary</td>\n",
       "        <td>Petaluma</td>\n",
       "        <td>234</td>\n",
       "        <td>2000</td>\n",
       "    </tr>\n",
       "    <tr>\n",
       "        <td>1</td>\n",
       "        <td>burglary</td>\n",
       "        <td>Santa Rosa</td>\n",
       "        <td>632</td>\n",
       "        <td>2000</td>\n",
       "    </tr>\n",
       "    <tr>\n",
       "        <td>1</td>\n",
       "        <td>larcony</td>\n",
       "        <td>Petaluma</td>\n",
       "        <td>621</td>\n",
       "        <td>3500</td>\n",
       "    </tr>\n",
       "    <tr>\n",
       "        <td>1</td>\n",
       "        <td>burglary</td>\n",
       "        <td>Santa Rosa</td>\n",
       "        <td>162</td>\n",
       "        <td>1000</td>\n",
       "    </tr>\n",
       "    <tr>\n",
       "        <td>1</td>\n",
       "        <td>larcony</td>\n",
       "        <td>Petaluma</td>\n",
       "        <td>901</td>\n",
       "        <td>50000</td>\n",
       "    </tr>\n",
       "    <tr>\n",
       "        <td>1</td>\n",
       "        <td>fraud</td>\n",
       "        <td>San Francisco</td>\n",
       "        <td>412</td>\n",
       "        <td>60000</td>\n",
       "    </tr>\n",
       "    <tr>\n",
       "        <td>1</td>\n",
       "        <td>burglary</td>\n",
       "        <td>Santa Rosa</td>\n",
       "        <td>512</td>\n",
       "        <td>7000</td>\n",
       "    </tr>\n",
       "    <tr>\n",
       "        <td>1</td>\n",
       "        <td>burglary</td>\n",
       "        <td>San Francisco</td>\n",
       "        <td>411</td>\n",
       "        <td>3000</td>\n",
       "    </tr>\n",
       "    <tr>\n",
       "        <td>1</td>\n",
       "        <td>robbery</td>\n",
       "        <td>Santa Rosa</td>\n",
       "        <td>632</td>\n",
       "        <td>2500</td>\n",
       "    </tr>\n",
       "    <tr>\n",
       "        <td>1</td>\n",
       "        <td>robbery</td>\n",
       "        <td>Santa Rosa</td>\n",
       "        <td>512</td>\n",
       "        <td>3000</td>\n",
       "    </tr>\n",
       "</table>"
      ],
      "text/plain": [
       "[(1, 'fraud', 'Santa Rosa', 412, 40000),\n",
       " (1, 'burglary', 'Petaluma', 234, 2000),\n",
       " (1, 'burglary', 'Santa Rosa', 632, 2000),\n",
       " (1, 'larcony', 'Petaluma', 621, 3500),\n",
       " (1, 'burglary', 'Santa Rosa', 162, 1000),\n",
       " (1, 'larcony', 'Petaluma', 901, 50000),\n",
       " (1, 'fraud', 'San Francisco', 412, 60000),\n",
       " (1, 'burglary', 'Santa Rosa', 512, 7000),\n",
       " (1, 'burglary', 'San Francisco', 411, 3000),\n",
       " (1, 'robbery', 'Santa Rosa', 632, 2500),\n",
       " (1, 'robbery', 'Santa Rosa', 512, 3000)]"
      ]
     },
     "execution_count": 4,
     "metadata": {},
     "output_type": "execute_result"
    }
   ],
   "source": [
    "%%sql\n",
    "\n",
    "-- Select everything\n",
    "SELECT *\n",
    "\n",
    "-- From the table 'crimes'\n",
    "FROM crimes"
   ]
  }
 ],
 "metadata": {
  "anaconda-cloud": {},
  "kernelspec": {
   "display_name": "Python [default]",
   "language": "python",
   "name": "python3"
  },
  "language_info": {
   "codemirror_mode": {
    "name": "ipython",
    "version": 3
   },
   "file_extension": ".py",
   "mimetype": "text/x-python",
   "name": "python",
   "nbconvert_exporter": "python",
   "pygments_lexer": "ipython3",
   "version": "3.5.3"
  }
 },
 "nbformat": 4,
 "nbformat_minor": 1
}
