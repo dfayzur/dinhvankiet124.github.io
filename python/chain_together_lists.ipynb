{
 "cells": [
  {
   "cell_type": "markdown",
   "metadata": {},
   "source": [
    "Title: Chain Together Lists  \n",
    "Slug: chain_together_lists  \n",
    "Summary: Chain Together Lists Using Python.  \n",
    "Date: 2017-02-02 12:00  \n",
    "Category: Python  \n",
    "Tags: Basics  \n",
    "Authors: Chris Albon  "
   ]
  },
  {
   "cell_type": "markdown",
   "metadata": {},
   "source": [
    "## Preliminaries"
   ]
  },
  {
   "cell_type": "code",
   "execution_count": 1,
   "metadata": {
    "collapsed": true
   },
   "outputs": [],
   "source": [
    "from itertools import chain"
   ]
  },
  {
   "cell_type": "markdown",
   "metadata": {},
   "source": [
    "## Create Two Lists"
   ]
  },
  {
   "cell_type": "code",
   "execution_count": 2,
   "metadata": {
    "collapsed": true
   },
   "outputs": [],
   "source": [
    "# Create a list of allies\n",
    "allies = ['Spain', 'Germany', 'Namibia', 'Austria']\n",
    "\n",
    "# Create a list of enemies\n",
    "enemies = ['Mexico', 'United Kingdom', 'France']"
   ]
  },
  {
   "cell_type": "markdown",
   "metadata": {},
   "source": [
    "## Iterate Over Both Lists As A Single Sequence"
   ]
  },
  {
   "cell_type": "code",
   "execution_count": 3,
   "metadata": {
    "collapsed": false
   },
   "outputs": [
    {
     "name": "stdout",
     "output_type": "stream",
     "text": [
      "Spain\n",
      "Germany\n",
      "Namibia\n",
      "Austria\n",
      "Mexico\n",
      "United Kingdom\n",
      "France\n"
     ]
    }
   ],
   "source": [
    "# For each country in allies and enemies\n",
    "for country in chain(allies, enemies):\n",
    "    # print the country\n",
    "    print(country)"
   ]
  }
 ],
 "metadata": {
  "kernelspec": {
   "display_name": "Python [conda root]",
   "language": "python",
   "name": "conda-root-py"
  },
  "language_info": {
   "codemirror_mode": {
    "name": "ipython",
    "version": 3
   },
   "file_extension": ".py",
   "mimetype": "text/x-python",
   "name": "python",
   "nbconvert_exporter": "python",
   "pygments_lexer": "ipython3",
   "version": "3.5.2"
  }
 },
 "nbformat": 4,
 "nbformat_minor": 2
}
