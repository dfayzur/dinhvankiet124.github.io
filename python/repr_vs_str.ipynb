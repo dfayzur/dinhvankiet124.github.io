{
 "cells": [
  {
   "cell_type": "markdown",
   "metadata": {},
   "source": [
    "Title: repr vs. str  \n",
    "Slug: repr_vs_str  \n",
    "Summary: repr vs. str in Python.    \n",
    "Date: 2016-01-23 12:00  \n",
    "Category: Python  \n",
    "Tags: Basics    \n",
    "Authors: Chris Albon  \n",
    "\n",
    "Interesting in learning more? Check out [Fluent Python](http://amzn.to/2jYU506)"
   ]
  },
  {
   "cell_type": "markdown",
   "metadata": {},
   "source": [
    "## Preliminaries"
   ]
  },
  {
   "cell_type": "code",
   "execution_count": 1,
   "metadata": {
    "collapsed": true
   },
   "outputs": [],
   "source": [
    "import datetime"
   ]
  },
  {
   "cell_type": "markdown",
   "metadata": {},
   "source": [
    "## Create A Simple Object"
   ]
  },
  {
   "cell_type": "code",
   "execution_count": 2,
   "metadata": {
    "collapsed": true
   },
   "outputs": [],
   "source": [
    "class Regiment(object):\n",
    "\n",
    "    def __init__(self, date=datetime.datetime.now()):\n",
    "        self.date = date\n",
    "\n",
    "    def __repr__(self):\n",
    "        return date\n",
    "\n",
    "    def __str__(self):\n",
    "        return str(date)"
   ]
  },
  {
   "cell_type": "markdown",
   "metadata": {
    "collapsed": true
   },
   "source": [
    "`__repr__` is for the developer. It is string representation of the object and the code needed to reproduce the object. \n",
    "\n",
    "`__str__` is the output for the end user. It prints what the user wants to see."
   ]
  }
 ],
 "metadata": {
  "anaconda-cloud": {},
  "kernelspec": {
   "display_name": "Python [default]",
   "language": "python",
   "name": "python3"
  },
  "language_info": {
   "codemirror_mode": {
    "name": "ipython",
    "version": 3
   },
   "file_extension": ".py",
   "mimetype": "text/x-python",
   "name": "python",
   "nbconvert_exporter": "python",
   "pygments_lexer": "ipython3",
   "version": "3.5.3"
  }
 },
 "nbformat": 4,
 "nbformat_minor": 1
}
