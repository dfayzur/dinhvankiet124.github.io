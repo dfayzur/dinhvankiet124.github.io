{
 "cells": [
  {
   "cell_type": "markdown",
   "metadata": {},
   "source": [
    "Title: Function Annotation Examples  \n",
    "Slug: function_annotations_examples  \n",
    "Summary: Function Annotation Examples in Python.      \n",
    "Date: 2016-01-23 12:00     \n",
    "Category: Python    \n",
    "Tags: Basics    \n",
    "Authors: Chris Albon  \n",
    "\n",
    "Interesting in learning more? Check out [Fluent Python](http://amzn.to/2jYU506)"
   ]
  },
  {
   "cell_type": "markdown",
   "metadata": {},
   "source": [
    "## Create A Function With Annotations"
   ]
  },
  {
   "cell_type": "code",
   "execution_count": 1,
   "metadata": {
    "collapsed": true
   },
   "outputs": [],
   "source": [
    "''' \n",
    "Create a function. \n",
    "\n",
    "The argument 'text' is the string to print with the default value 'default string'\n",
    "and the argument \n",
    "\n",
    "The argument 'n' is an integer of times to print with the default value of 1. \n",
    "\n",
    "The function should return a string.\n",
    "'''\n",
    "def print_text(text:'string to print'='default string', n:'integer, times to print'=1) -> str:\n",
    "    return text * n"
   ]
  },
  {
   "cell_type": "markdown",
   "metadata": {},
   "source": [
    "## Run The Function"
   ]
  },
  {
   "cell_type": "code",
   "execution_count": 2,
   "metadata": {
    "collapsed": false
   },
   "outputs": [
    {
     "data": {
      "text/plain": [
       "'stringstringstringstring'"
      ]
     },
     "execution_count": 2,
     "metadata": {},
     "output_type": "execute_result"
    }
   ],
   "source": [
    "# Run the function with arguments\n",
    "print_text('string', 4)"
   ]
  },
  {
   "cell_type": "code",
   "execution_count": 3,
   "metadata": {
    "collapsed": false
   },
   "outputs": [
    {
     "data": {
      "text/plain": [
       "'default string'"
      ]
     },
     "execution_count": 3,
     "metadata": {},
     "output_type": "execute_result"
    }
   ],
   "source": [
    "# Run the function with default arguments\n",
    "print_text()"
   ]
  }
 ],
 "metadata": {
  "anaconda-cloud": {},
  "kernelspec": {
   "display_name": "Python [default]",
   "language": "python",
   "name": "python3"
  },
  "language_info": {
   "codemirror_mode": {
    "name": "ipython",
    "version": 3
   },
   "file_extension": ".py",
   "mimetype": "text/x-python",
   "name": "python",
   "nbconvert_exporter": "python",
   "pygments_lexer": "ipython3",
   "version": "3.5.2"
  }
 },
 "nbformat": 4,
 "nbformat_minor": 1
}
