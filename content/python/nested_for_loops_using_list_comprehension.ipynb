{
 "cells": [
  {
   "cell_type": "markdown",
   "metadata": {
    "collapsed": true
   },
   "source": [
    "Title: Nested For Loops Using List Comprehension   \n",
    "Slug: nested_for_loops_using_list_comprehension   \n",
    "Summary: Nested For Loops Using List Comprehension   \n",
    "Date: 2016-11-01 12:00  \n",
    "Category: Python  \n",
    "Tags: Basic  \n",
    "Authors: Chris Albon  "
   ]
  },
  {
   "cell_type": "code",
   "execution_count": 2,
   "metadata": {
    "collapsed": false
   },
   "outputs": [],
   "source": [
    "# Create two lists\n",
    "squads = [\"1st Squad\", '2nd Squad', '3rd Squad']\n",
    "regiments = [\"51st Regiment\", '15th Regiment', '12th Regiment']"
   ]
  },
  {
   "cell_type": "code",
   "execution_count": 6,
   "metadata": {
    "collapsed": false
   },
   "outputs": [
    {
     "data": {
      "text/plain": [
       "[('51st Regiment', '1st Squad'),\n",
       " ('51st Regiment', '2nd Squad'),\n",
       " ('51st Regiment', '3rd Squad'),\n",
       " ('15th Regiment', '1st Squad'),\n",
       " ('15th Regiment', '2nd Squad'),\n",
       " ('15th Regiment', '3rd Squad'),\n",
       " ('12th Regiment', '1st Squad'),\n",
       " ('12th Regiment', '2nd Squad'),\n",
       " ('12th Regiment', '3rd Squad')]"
      ]
     },
     "execution_count": 6,
     "metadata": {},
     "output_type": "execute_result"
    }
   ],
   "source": [
    "# Create a tuple for each regiment in regiments, for each squad in sqauds\n",
    "[(regiment, squad) for regiment in regiments for squad in squads ]"
   ]
  }
 ],
 "metadata": {
  "anaconda-cloud": {},
  "kernelspec": {
   "display_name": "Python [conda root]",
   "language": "python",
   "name": "conda-root-py"
  },
  "language_info": {
   "codemirror_mode": {
    "name": "ipython",
    "version": 3
   },
   "file_extension": ".py",
   "mimetype": "text/x-python",
   "name": "python",
   "nbconvert_exporter": "python",
   "pygments_lexer": "ipython3",
   "version": "3.5.2"
  }
 },
 "nbformat": 4,
 "nbformat_minor": 1
}
