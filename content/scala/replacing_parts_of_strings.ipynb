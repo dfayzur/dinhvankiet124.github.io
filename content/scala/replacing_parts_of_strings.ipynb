{
 "cells": [
  {
   "cell_type": "markdown",
   "metadata": {
    "deletable": true,
    "editable": true
   },
   "source": [
    "Title: Replacing Parts Of Strings  \n",
    "Slug: replacing_parts_of_strings  \n",
    "Summary: Replacing Parts Of Strings Using Scala.  \n",
    "Date: 2017-01-03 12:00  \n",
    "Category: Scala  \n",
    "Tags: Basics  \n",
    "Authors: Chris Albon \n",
    "\n",
    "This tutorial was inspired by the awesome [Scala Cookbook](http://amzn.to/2lxbrxN)."
   ]
  },
  {
   "cell_type": "markdown",
   "metadata": {
    "collapsed": false,
    "deletable": true,
    "editable": true
   },
   "source": [
    "## Create A String"
   ]
  },
  {
   "cell_type": "code",
   "execution_count": 1,
   "metadata": {
    "collapsed": true
   },
   "outputs": [],
   "source": [
    "// Create a string value\n",
    "val text: String = \"Lt. Steve Miller will be leading the attack.\""
   ]
  },
  {
   "cell_type": "markdown",
   "metadata": {
    "collapsed": false,
    "deletable": true,
    "editable": true
   },
   "source": [
    "## Create A Regex Pattern"
   ]
  },
  {
   "cell_type": "code",
   "execution_count": 2,
   "metadata": {
    "collapsed": true
   },
   "outputs": [],
   "source": [
    "// Create a regex pattern for a name\n",
    "val find_steve = \"Steve Miller\".r"
   ]
  },
  {
   "cell_type": "markdown",
   "metadata": {
    "collapsed": false,
    "deletable": true,
    "editable": true
   },
   "source": [
    "## Replace Anything That Matches That Pattern With Something Else"
   ]
  },
  {
   "cell_type": "code",
   "execution_count": 3,
   "metadata": {
    "collapsed": false
   },
   "outputs": [
    {
     "data": {
      "text/plain": [
       "Lt. Peter Jackson will be leading the attack."
      ]
     },
     "execution_count": 3,
     "metadata": {},
     "output_type": "execute_result"
    }
   ],
   "source": [
    "// Replace all instances of the pattern with a different name\n",
    "find_steve.replaceAllIn(text, \"Peter Jackson\")"
   ]
  },
  {
   "cell_type": "markdown",
   "metadata": {},
   "source": [
    "## Replace First Match"
   ]
  },
  {
   "cell_type": "code",
   "execution_count": 7,
   "metadata": {
    "collapsed": false
   },
   "outputs": [
    {
     "data": {
      "text/plain": [
       "Lt. Peter Jackson will be leading the attack."
      ]
     },
     "execution_count": 7,
     "metadata": {},
     "output_type": "execute_result"
    }
   ],
   "source": [
    "// Replace first instance of the pattern with a different name\n",
    "find_steve.replaceFirstIn(text, \"Peter Jackson\")"
   ]
  }
 ],
 "metadata": {
  "kernelspec": {
   "display_name": "Apache Toree - Scala",
   "language": "scala",
   "name": "apache_toree_scala"
  },
  "language_info": {
   "file_extension": ".scala",
   "name": "scala",
   "version": "2.11.8"
  }
 },
 "nbformat": 4,
 "nbformat_minor": 2
}
