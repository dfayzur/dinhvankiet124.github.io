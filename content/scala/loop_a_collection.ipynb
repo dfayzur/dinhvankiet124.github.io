{
 "cells": [
  {
   "cell_type": "markdown",
   "metadata": {
    "deletable": true,
    "editable": true
   },
   "source": [
    "Title: Loop A Collection   \n",
    "Slug: loop_a_collection       \n",
    "Summary: Loop A Collection Using Scala.  \n",
    "Date: 2017-01-03 12:00  \n",
    "Category: Scala  \n",
    "Tags: Basics  \n",
    "Authors: Chris Albon \n",
    "\n",
    "If you want to learn more, check out [Scala Cookbook](http://amzn.to/2lxbrxN) and [Programming in Scala](http://amzn.to/2lEtsLt)."
   ]
  },
  {
   "cell_type": "markdown",
   "metadata": {
    "deletable": true,
    "editable": true
   },
   "source": [
    "## Create A Vector Collection"
   ]
  },
  {
   "cell_type": "code",
   "execution_count": 12,
   "metadata": {
    "collapsed": false,
    "deletable": true,
    "editable": true
   },
   "outputs": [],
   "source": [
    "val vector = Vector(\"Male\", 2, true)"
   ]
  },
  {
   "cell_type": "markdown",
   "metadata": {
    "deletable": true,
    "editable": true
   },
   "source": [
    "## Loop Over The Collection"
   ]
  },
  {
   "cell_type": "code",
   "execution_count": 20,
   "metadata": {
    "collapsed": false,
    "deletable": true,
    "editable": true
   },
   "outputs": [
    {
     "name": "stdout",
     "output_type": "stream",
     "text": [
      "(Male,String)\n",
      "(2,Integer)\n",
      "(true,Boolean)\n"
     ]
    }
   ],
   "source": [
    "// For each item in the collection, print the class type of the element\n",
    "vector.foreach((i: Any) => println(i, i.getClass.getSimpleName))"
   ]
  },
  {
   "cell_type": "code",
   "execution_count": 22,
   "metadata": {
    "collapsed": false
   },
   "outputs": [
    {
     "name": "stdout",
     "output_type": "stream",
     "text": [
      "Man\n",
      "Something Else\n",
      "Something Else\n"
     ]
    }
   ],
   "source": [
    "// For each item in the collection\n",
    "vector.foreach {\n",
    "    // If one of these, print \"Man\"\n",
    "    case \"Male\" | \"M\" | \"Man\" | \"Gentleman\" | \"Boy\" => println(\"Man\")\n",
    "    // For everything else, print \"Something Else\"\n",
    "    case _ => println(\"Something Else\")\n",
    "}"
   ]
  }
 ],
 "metadata": {
  "kernelspec": {
   "display_name": "Apache Toree - Scala",
   "language": "scala",
   "name": "apache_toree_scala"
  },
  "language_info": {
   "file_extension": ".scala",
   "name": "scala",
   "version": "2.11.8"
  }
 },
 "nbformat": 4,
 "nbformat_minor": 2
}
