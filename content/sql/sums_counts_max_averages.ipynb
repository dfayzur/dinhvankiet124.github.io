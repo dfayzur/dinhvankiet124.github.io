{
 "cells": [
  {
   "cell_type": "markdown",
   "metadata": {},
   "source": [
    "Title: Calculate Counts, Sums, Max, and Averages    \n",
    "Slug: sums_counts_max_averages    \n",
    "Summary: Calculate Counts, Sums, and Averages in SQL. \n",
    "Date: 2017-01-16 12:00  \n",
    "Category: SQL  \n",
    "Tags: Basics  \n",
    "Authors: Chris Albon  \n",
    "\n",
    "Note: This tutorial was written using [Catherine Devlin's SQL in Jupyter Notebooks library](https://github.com/catherinedevlin/ipython-sql). If you have not using a Jupyter Notebook, you can ignore the two lines of code below and any line containing `%%sql`. Furthermore, this tutorial uses SQLite's flavor of SQL, your version might have some differences in syntax.\n",
    "\n",
    "For more, check out [Learning SQL](http://amzn.to/2jRriHj) by Alan Beaulieu."
   ]
  },
  {
   "cell_type": "code",
   "execution_count": 1,
   "metadata": {},
   "outputs": [],
   "source": [
    "# Ignore\n",
    "%load_ext sql\n",
    "%sql sqlite://\n",
    "%config SqlMagic.feedback = False"
   ]
  },
  {
   "cell_type": "markdown",
   "metadata": {},
   "source": [
    "## Create Data"
   ]
  },
  {
   "cell_type": "code",
   "execution_count": 2,
   "metadata": {},
   "outputs": [
    {
     "data": {
      "text/plain": [
       "[]"
      ]
     },
     "execution_count": 2,
     "metadata": {},
     "output_type": "execute_result"
    }
   ],
   "source": [
    "%%sql\n",
    "\n",
    "-- Create a table of criminals\n",
    "CREATE TABLE criminals (pid, name, age, sex, city, minor);\n",
    "INSERT INTO criminals VALUES (412, 'James Smith', 15, 'M', 'Santa Rosa', 1);\n",
    "INSERT INTO criminals VALUES (234, 'Bill James', 22, 'M', 'Santa Rosa', 0);\n",
    "INSERT INTO criminals VALUES (632, 'Stacy Miller', 23, 'F', 'San Francisco', 0);\n",
    "INSERT INTO criminals VALUES (901, 'Gordon Ado', 32, 'F', 'San Francisco', 0);\n",
    "INSERT INTO criminals VALUES (512, 'Bill Byson', 21, 'M', 'Petaluma', 0);"
   ]
  },
  {
   "cell_type": "markdown",
   "metadata": {},
   "source": [
    "## View Average Ages By City"
   ]
  },
  {
   "cell_type": "code",
   "execution_count": 3,
   "metadata": {
    "scrolled": true
   },
   "outputs": [
    {
     "data": {
      "text/html": [
       "<table>\n",
       "    <tr>\n",
       "        <th>city</th>\n",
       "        <th>avg(age)</th>\n",
       "    </tr>\n",
       "    <tr>\n",
       "        <td>Petaluma</td>\n",
       "        <td>21.0</td>\n",
       "    </tr>\n",
       "    <tr>\n",
       "        <td>San Francisco</td>\n",
       "        <td>27.5</td>\n",
       "    </tr>\n",
       "    <tr>\n",
       "        <td>Santa Rosa</td>\n",
       "        <td>18.5</td>\n",
       "    </tr>\n",
       "</table>"
      ],
      "text/plain": [
       "[('Petaluma', 21.0), ('San Francisco', 27.5), ('Santa Rosa', 18.5)]"
      ]
     },
     "execution_count": 3,
     "metadata": {},
     "output_type": "execute_result"
    }
   ],
   "source": [
    "%%sql\n",
    "\n",
    "--  Select name and average age,\n",
    "SELECT city, avg(age)\n",
    "\n",
    "--  from the table 'criminals',\n",
    "FROM criminals\n",
    "\n",
    "-- after grouping by city\n",
    "GROUP BY city"
   ]
  },
  {
   "cell_type": "markdown",
   "metadata": {},
   "source": [
    "## View Max Age By City"
   ]
  },
  {
   "cell_type": "code",
   "execution_count": 4,
   "metadata": {},
   "outputs": [
    {
     "data": {
      "text/html": [
       "<table>\n",
       "    <tr>\n",
       "        <th>city</th>\n",
       "        <th>max(age)</th>\n",
       "    </tr>\n",
       "    <tr>\n",
       "        <td>Petaluma</td>\n",
       "        <td>21</td>\n",
       "    </tr>\n",
       "    <tr>\n",
       "        <td>San Francisco</td>\n",
       "        <td>32</td>\n",
       "    </tr>\n",
       "    <tr>\n",
       "        <td>Santa Rosa</td>\n",
       "        <td>22</td>\n",
       "    </tr>\n",
       "</table>"
      ],
      "text/plain": [
       "[('Petaluma', 21), ('San Francisco', 32), ('Santa Rosa', 22)]"
      ]
     },
     "execution_count": 4,
     "metadata": {},
     "output_type": "execute_result"
    }
   ],
   "source": [
    "%%sql\n",
    "\n",
    "--  Select name and average age,\n",
    "SELECT city, max(age)\n",
    "\n",
    "--  from the table 'criminals',\n",
    "FROM criminals\n",
    "\n",
    "-- after grouping by city\n",
    "GROUP BY city"
   ]
  },
  {
   "cell_type": "markdown",
   "metadata": {},
   "source": [
    "## View Count Of Criminals By City"
   ]
  },
  {
   "cell_type": "code",
   "execution_count": 5,
   "metadata": {},
   "outputs": [
    {
     "data": {
      "text/html": [
       "<table>\n",
       "    <tr>\n",
       "        <th>city</th>\n",
       "        <th>count(name)</th>\n",
       "    </tr>\n",
       "    <tr>\n",
       "        <td>Petaluma</td>\n",
       "        <td>1</td>\n",
       "    </tr>\n",
       "    <tr>\n",
       "        <td>San Francisco</td>\n",
       "        <td>2</td>\n",
       "    </tr>\n",
       "    <tr>\n",
       "        <td>Santa Rosa</td>\n",
       "        <td>2</td>\n",
       "    </tr>\n",
       "</table>"
      ],
      "text/plain": [
       "[('Petaluma', 1), ('San Francisco', 2), ('Santa Rosa', 2)]"
      ]
     },
     "execution_count": 5,
     "metadata": {},
     "output_type": "execute_result"
    }
   ],
   "source": [
    "%%sql\n",
    "\n",
    "--  Select name and average age,\n",
    "SELECT city, count(name)\n",
    "\n",
    "--  from the table 'criminals',\n",
    "FROM criminals\n",
    "\n",
    "-- after grouping by city\n",
    "GROUP BY city"
   ]
  },
  {
   "cell_type": "markdown",
   "metadata": {},
   "source": [
    "## View Total Age By City"
   ]
  },
  {
   "cell_type": "code",
   "execution_count": 6,
   "metadata": {},
   "outputs": [
    {
     "data": {
      "text/html": [
       "<table>\n",
       "    <tr>\n",
       "        <th>city</th>\n",
       "        <th>total(age)</th>\n",
       "    </tr>\n",
       "    <tr>\n",
       "        <td>Petaluma</td>\n",
       "        <td>21.0</td>\n",
       "    </tr>\n",
       "    <tr>\n",
       "        <td>San Francisco</td>\n",
       "        <td>55.0</td>\n",
       "    </tr>\n",
       "    <tr>\n",
       "        <td>Santa Rosa</td>\n",
       "        <td>37.0</td>\n",
       "    </tr>\n",
       "</table>"
      ],
      "text/plain": [
       "[('Petaluma', 21.0), ('San Francisco', 55.0), ('Santa Rosa', 37.0)]"
      ]
     },
     "execution_count": 6,
     "metadata": {},
     "output_type": "execute_result"
    }
   ],
   "source": [
    "%%sql\n",
    "\n",
    "--  Select name and average age,\n",
    "SELECT city, total(age)\n",
    "\n",
    "--  from the table 'criminals',\n",
    "FROM criminals\n",
    "\n",
    "-- after grouping by city\n",
    "GROUP BY city"
   ]
  }
 ],
 "metadata": {
  "anaconda-cloud": {},
  "kernelspec": {
   "display_name": "Python [default]",
   "language": "python",
   "name": "python3"
  },
  "language_info": {
   "codemirror_mode": {
    "name": "ipython",
    "version": 3
   },
   "file_extension": ".py",
   "mimetype": "text/x-python",
   "name": "python",
   "nbconvert_exporter": "python",
   "pygments_lexer": "ipython3",
   "version": "3.5.3"
  }
 },
 "nbformat": 4,
 "nbformat_minor": 1
}
