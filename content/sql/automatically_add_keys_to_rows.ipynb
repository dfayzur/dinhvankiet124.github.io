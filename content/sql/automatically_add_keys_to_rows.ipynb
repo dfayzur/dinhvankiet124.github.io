{
 "cells": [
  {
   "cell_type": "markdown",
   "metadata": {},
   "source": [
    "Title: Automatically Add Keys To Rows  \n",
    "Slug: automatically_add_keys_to_rows  \n",
    "Summary: Automatically Add Keys To Rows in SQL.   \n",
    "Date: 2016-05-01 12:00  \n",
    "Category: SQL  \n",
    "Tags: Basics  \n",
    "Authors: Chris Albon  \n",
    "\n",
    "Note: This tutorial was written using [Catherine Devlin's SQL in Jupyter Notebooks library](https://github.com/catherinedevlin/ipython-sql). If you have not using a Jupyter Notebook, you can ignore the two lines of code below and any line containing `%%sql`. Furthermore, this tutorial uses SQLite's flavor of SQL, your version might have some differences in syntax.\n",
    "\n",
    "For more, check out [Learning SQL](http://amzn.to/2jRriHj) by Alan Beaulieu."
   ]
  },
  {
   "cell_type": "code",
   "execution_count": 1,
   "metadata": {},
   "outputs": [],
   "source": [
    "# Ignore\n",
    "%load_ext sql\n",
    "%sql sqlite://\n",
    "%config SqlMagic.feedback = False"
   ]
  },
  {
   "cell_type": "markdown",
   "metadata": {},
   "source": [
    "## Create Data With 'pid' As An Auto-Generated Primary Key"
   ]
  },
  {
   "cell_type": "code",
   "execution_count": 2,
   "metadata": {},
   "outputs": [
    {
     "data": {
      "text/plain": [
       "[]"
      ]
     },
     "execution_count": 2,
     "metadata": {},
     "output_type": "execute_result"
    }
   ],
   "source": [
    "%%sql\n",
    "\n",
    "-- Create a table of criminals with pid being a primary key integer that is auto-incremented\n",
    "CREATE TABLE criminals (pid INTEGER PRIMARY KEY AUTOINCREMENT,\n",
    "                        name, \n",
    "                        age, \n",
    "                        sex, \n",
    "                        city, \n",
    "                        minor);\n",
    "\n",
    "-- Add a single row with a null value for pid\n",
    "INSERT INTO criminals VALUES (NULL, 'James Smith', 15, 'M', 'Santa Rosa', 1);"
   ]
  },
  {
   "cell_type": "markdown",
   "metadata": {},
   "source": [
    "## View Table"
   ]
  },
  {
   "cell_type": "code",
   "execution_count": 3,
   "metadata": {},
   "outputs": [
    {
     "data": {
      "text/html": [
       "<table>\n",
       "    <tr>\n",
       "        <th>pid</th>\n",
       "        <th>name</th>\n",
       "        <th>age</th>\n",
       "        <th>sex</th>\n",
       "        <th>city</th>\n",
       "        <th>minor</th>\n",
       "    </tr>\n",
       "    <tr>\n",
       "        <td>1</td>\n",
       "        <td>James Smith</td>\n",
       "        <td>15</td>\n",
       "        <td>M</td>\n",
       "        <td>Santa Rosa</td>\n",
       "        <td>1</td>\n",
       "    </tr>\n",
       "</table>"
      ],
      "text/plain": [
       "[(1, 'James Smith', 15, 'M', 'Santa Rosa', 1)]"
      ]
     },
     "execution_count": 3,
     "metadata": {},
     "output_type": "execute_result"
    }
   ],
   "source": [
    "%%sql\n",
    "\n",
    "-- Select everything\n",
    "SELECT *\n",
    "\n",
    "-- From the table 'criminals'\n",
    "FROM criminals"
   ]
  },
  {
   "cell_type": "markdown",
   "metadata": {},
   "source": [
    "## Added More Rows With NULL Values For pid"
   ]
  },
  {
   "cell_type": "code",
   "execution_count": 4,
   "metadata": {},
   "outputs": [
    {
     "data": {
      "text/plain": [
       "[]"
      ]
     },
     "execution_count": 4,
     "metadata": {},
     "output_type": "execute_result"
    }
   ],
   "source": [
    "%%sql\n",
    "\n",
    "INSERT INTO criminals VALUES (NULL, 'Bill James', 22, 'M', 'Santa Rosa', 0);\n",
    "INSERT INTO criminals VALUES (NULL, 'Stacy Miller', 23, 'F', 'Santa Rosa', 0);\n",
    "INSERT INTO criminals VALUES (NULL, 'Betty Bob', NULL, 'F', 'Petaluma', 1);\n",
    "INSERT INTO criminals VALUES (NULL, 'Jaden Ado', 49, 'M', NULL, 0);\n",
    "INSERT INTO criminals VALUES (NULL, 'Gordon Ado', 32, 'F', 'Santa Rosa', 0);\n",
    "INSERT INTO criminals VALUES (NULL, 'Bill Byson', 21, 'M', 'Santa Rosa', 0);\n",
    "INSERT INTO criminals VALUES (NULL, 'Bob Iton', NULL, 'M', 'San Francisco', 0);"
   ]
  },
  {
   "cell_type": "markdown",
   "metadata": {},
   "source": [
    "## View Table"
   ]
  },
  {
   "cell_type": "code",
   "execution_count": 5,
   "metadata": {
    "scrolled": true
   },
   "outputs": [
    {
     "data": {
      "text/html": [
       "<table>\n",
       "    <tr>\n",
       "        <th>pid</th>\n",
       "        <th>name</th>\n",
       "        <th>age</th>\n",
       "        <th>sex</th>\n",
       "        <th>city</th>\n",
       "        <th>minor</th>\n",
       "    </tr>\n",
       "    <tr>\n",
       "        <td>1</td>\n",
       "        <td>James Smith</td>\n",
       "        <td>15</td>\n",
       "        <td>M</td>\n",
       "        <td>Santa Rosa</td>\n",
       "        <td>1</td>\n",
       "    </tr>\n",
       "    <tr>\n",
       "        <td>2</td>\n",
       "        <td>Bill James</td>\n",
       "        <td>22</td>\n",
       "        <td>M</td>\n",
       "        <td>Santa Rosa</td>\n",
       "        <td>0</td>\n",
       "    </tr>\n",
       "    <tr>\n",
       "        <td>3</td>\n",
       "        <td>Stacy Miller</td>\n",
       "        <td>23</td>\n",
       "        <td>F</td>\n",
       "        <td>Santa Rosa</td>\n",
       "        <td>0</td>\n",
       "    </tr>\n",
       "    <tr>\n",
       "        <td>4</td>\n",
       "        <td>Betty Bob</td>\n",
       "        <td>None</td>\n",
       "        <td>F</td>\n",
       "        <td>Petaluma</td>\n",
       "        <td>1</td>\n",
       "    </tr>\n",
       "    <tr>\n",
       "        <td>5</td>\n",
       "        <td>Jaden Ado</td>\n",
       "        <td>49</td>\n",
       "        <td>M</td>\n",
       "        <td>None</td>\n",
       "        <td>0</td>\n",
       "    </tr>\n",
       "    <tr>\n",
       "        <td>6</td>\n",
       "        <td>Gordon Ado</td>\n",
       "        <td>32</td>\n",
       "        <td>F</td>\n",
       "        <td>Santa Rosa</td>\n",
       "        <td>0</td>\n",
       "    </tr>\n",
       "    <tr>\n",
       "        <td>7</td>\n",
       "        <td>Bill Byson</td>\n",
       "        <td>21</td>\n",
       "        <td>M</td>\n",
       "        <td>Santa Rosa</td>\n",
       "        <td>0</td>\n",
       "    </tr>\n",
       "    <tr>\n",
       "        <td>8</td>\n",
       "        <td>Bob Iton</td>\n",
       "        <td>None</td>\n",
       "        <td>M</td>\n",
       "        <td>San Francisco</td>\n",
       "        <td>0</td>\n",
       "    </tr>\n",
       "</table>"
      ],
      "text/plain": [
       "[(1, 'James Smith', 15, 'M', 'Santa Rosa', 1),\n",
       " (2, 'Bill James', 22, 'M', 'Santa Rosa', 0),\n",
       " (3, 'Stacy Miller', 23, 'F', 'Santa Rosa', 0),\n",
       " (4, 'Betty Bob', None, 'F', 'Petaluma', 1),\n",
       " (5, 'Jaden Ado', 49, 'M', None, 0),\n",
       " (6, 'Gordon Ado', 32, 'F', 'Santa Rosa', 0),\n",
       " (7, 'Bill Byson', 21, 'M', 'Santa Rosa', 0),\n",
       " (8, 'Bob Iton', None, 'M', 'San Francisco', 0)]"
      ]
     },
     "execution_count": 5,
     "metadata": {},
     "output_type": "execute_result"
    }
   ],
   "source": [
    "%%sql\n",
    "\n",
    "-- Select everything\n",
    "SELECT *\n",
    "\n",
    "-- From the table 'criminals'\n",
    "FROM criminals"
   ]
  }
 ],
 "metadata": {
  "anaconda-cloud": {},
  "kernelspec": {
   "display_name": "Python [default]",
   "language": "python",
   "name": "python3"
  },
  "language_info": {
   "codemirror_mode": {
    "name": "ipython",
    "version": 3
   },
   "file_extension": ".py",
   "mimetype": "text/x-python",
   "name": "python",
   "nbconvert_exporter": "python",
   "pygments_lexer": "ipython3",
   "version": "3.5.3"
  }
 },
 "nbformat": 4,
 "nbformat_minor": 1
}
