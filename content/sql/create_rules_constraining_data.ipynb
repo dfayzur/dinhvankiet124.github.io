{
 "cells": [
  {
   "cell_type": "markdown",
   "metadata": {},
   "source": [
    "Title: Create Data Type And Value Rules\n",
    "Slug: create_rules_constraining_data  \n",
    "Summary: Create Data Type And Value Rules in SQL. \n",
    "Date: 2016-05-01 12:00  \n",
    "Category: SQL  \n",
    "Tags: Basics  \n",
    "Authors: Chris Albon  \n",
    "\n",
    "Note: This tutorial was written using [Catherine Devlin's SQL in Jupyter Notebooks library](https://github.com/catherinedevlin/ipython-sql). If you have not using a Jupyter Notebook, you can ignore the two lines of code below and any line containing `%%sql`. Furthermore, this tutorial uses SQLite's flavor of SQL, your version might have some differences in syntax.\n",
    "\n",
    "For more, check out [Learning SQL](http://amzn.to/2jRriHj) by Alan Beaulieu."
   ]
  },
  {
   "cell_type": "code",
   "execution_count": 1,
   "metadata": {},
   "outputs": [],
   "source": [
    "# Ignore\n",
    "%load_ext sql\n",
    "%sql sqlite://\n",
    "%config SqlMagic.feedback = False"
   ]
  },
  {
   "cell_type": "markdown",
   "metadata": {},
   "source": [
    "## Create New Table With Constraints On What Data Can Be Inserted"
   ]
  },
  {
   "cell_type": "code",
   "execution_count": 2,
   "metadata": {},
   "outputs": [
    {
     "data": {
      "text/plain": [
       "[]"
      ]
     },
     "execution_count": 2,
     "metadata": {},
     "output_type": "execute_result"
    }
   ],
   "source": [
    "%%sql\n",
    "\n",
    "-- Create a table of criminals\n",
    "CREATE TABLE criminals \n",
    "\n",
    "(\n",
    "\n",
    "-- With a prisoner ID (pid) that is a primary key and cannot be null\n",
    " pid    INT PRIMARY KEY     NOT NULL, \n",
    " \n",
    "-- With a name variable whose default value is John Doe\n",
    " name   TEXT                DEFAULT 'John Doe',\n",
    " \n",
    "-- With an age variable that is an integer and has to be between 0 and 100\n",
    " age    INT                 CHECK(0 < age < 100)\n",
    "\n",
    ");\n"
   ]
  },
  {
   "cell_type": "markdown",
   "metadata": {},
   "source": [
    "## Add Data To Table"
   ]
  },
  {
   "cell_type": "code",
   "execution_count": 3,
   "metadata": {},
   "outputs": [
    {
     "data": {
      "text/plain": [
       "[]"
      ]
     },
     "execution_count": 3,
     "metadata": {},
     "output_type": "execute_result"
    }
   ],
   "source": [
    "%%sql\n",
    "\n",
    "INSERT INTO criminals VALUES (412, 'James Smith', 15);\n",
    "INSERT INTO criminals VALUES (234, 'Bill James', 22);\n",
    "INSERT INTO criminals VALUES (632, 'Bill Steve', 23);\n",
    "INSERT INTO criminals VALUES (621, 'Betty Bob', NULL);\n",
    "INSERT INTO criminals VALUES (162, 'Jaden Ado', 49);\n",
    "INSERT INTO criminals VALUES (901, 'Gordon Ado', 32);\n",
    "INSERT INTO criminals VALUES (512, 'Bill Byson', 21);\n",
    "INSERT INTO criminals VALUES (411, 'Bob Iton', NULL);"
   ]
  },
  {
   "cell_type": "markdown",
   "metadata": {},
   "source": [
    "## View Table"
   ]
  },
  {
   "cell_type": "code",
   "execution_count": 4,
   "metadata": {},
   "outputs": [
    {
     "data": {
      "text/html": [
       "<table>\n",
       "    <tr>\n",
       "        <th>pid</th>\n",
       "        <th>name</th>\n",
       "        <th>age</th>\n",
       "    </tr>\n",
       "    <tr>\n",
       "        <td>412</td>\n",
       "        <td>James Smith</td>\n",
       "        <td>15</td>\n",
       "    </tr>\n",
       "    <tr>\n",
       "        <td>234</td>\n",
       "        <td>Bill James</td>\n",
       "        <td>22</td>\n",
       "    </tr>\n",
       "    <tr>\n",
       "        <td>632</td>\n",
       "        <td>Bill Steve</td>\n",
       "        <td>23</td>\n",
       "    </tr>\n",
       "    <tr>\n",
       "        <td>621</td>\n",
       "        <td>Betty Bob</td>\n",
       "        <td>None</td>\n",
       "    </tr>\n",
       "    <tr>\n",
       "        <td>162</td>\n",
       "        <td>Jaden Ado</td>\n",
       "        <td>49</td>\n",
       "    </tr>\n",
       "    <tr>\n",
       "        <td>901</td>\n",
       "        <td>Gordon Ado</td>\n",
       "        <td>32</td>\n",
       "    </tr>\n",
       "    <tr>\n",
       "        <td>512</td>\n",
       "        <td>Bill Byson</td>\n",
       "        <td>21</td>\n",
       "    </tr>\n",
       "    <tr>\n",
       "        <td>411</td>\n",
       "        <td>Bob Iton</td>\n",
       "        <td>None</td>\n",
       "    </tr>\n",
       "</table>"
      ],
      "text/plain": [
       "[(412, 'James Smith', 15),\n",
       " (234, 'Bill James', 22),\n",
       " (632, 'Bill Steve', 23),\n",
       " (621, 'Betty Bob', None),\n",
       " (162, 'Jaden Ado', 49),\n",
       " (901, 'Gordon Ado', 32),\n",
       " (512, 'Bill Byson', 21),\n",
       " (411, 'Bob Iton', None)]"
      ]
     },
     "execution_count": 4,
     "metadata": {},
     "output_type": "execute_result"
    }
   ],
   "source": [
    "%%sql\n",
    "\n",
    "SELECT *\n",
    "\n",
    "FROM criminals"
   ]
  }
 ],
 "metadata": {
  "anaconda-cloud": {},
  "kernelspec": {
   "display_name": "Python [default]",
   "language": "python",
   "name": "python3"
  },
  "language_info": {
   "codemirror_mode": {
    "name": "ipython",
    "version": 3
   },
   "file_extension": ".py",
   "mimetype": "text/x-python",
   "name": "python",
   "nbconvert_exporter": "python",
   "pygments_lexer": "ipython3",
   "version": "3.5.3"
  }
 },
 "nbformat": 4,
 "nbformat_minor": 1
}
