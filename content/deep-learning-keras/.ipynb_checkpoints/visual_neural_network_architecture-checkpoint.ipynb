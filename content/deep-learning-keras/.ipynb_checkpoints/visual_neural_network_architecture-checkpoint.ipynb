{
 "cells": [
  {
   "cell_type": "markdown",
   "metadata": {},
   "source": [
    "Title: Visual Neural Network Architecutre    \n",
    "Slug: visual_neural_network_architecture    \n",
    "Summary: How to visualize neural network architecture in Python.    \n",
    "Date: 2017-09-25 12:00  \n",
    "Category: Deep Learning - Keras  \n",
    "Tags: Basics   \n",
    "Authors: Chris Albon"
   ]
  },
  {
   "cell_type": "markdown",
   "metadata": {},
   "source": [
    "## Preliminaries"
   ]
  },
  {
   "cell_type": "code",
   "execution_count": 1,
   "metadata": {},
   "outputs": [
    {
     "name": "stderr",
     "output_type": "stream",
     "text": [
      "Using TensorFlow backend.\n"
     ]
    }
   ],
   "source": [
    "# Load libraries\n",
    "from keras import models\n",
    "from keras import layers\n",
    "from IPython.display import SVG\n",
    "from keras.utils.vis_utils import model_to_dot\n",
    "from keras.utils import plot_model"
   ]
  },
  {
   "cell_type": "markdown",
   "metadata": {},
   "source": [
    "## Construct Neural Network Architecture"
   ]
  },
  {
   "cell_type": "code",
   "execution_count": 2,
   "metadata": {
    "collapsed": true
   },
   "outputs": [],
   "source": [
    "# Start neural network\n",
    "network = models.Sequential()\n",
    "\n",
    "# Add fully connected layer with a ReLU activation function\n",
    "network.add(layers.Dense(units=16, activation='relu', input_shape=(10,)))\n",
    "\n",
    "# Add fully connected layer with a ReLU activation function\n",
    "network.add(layers.Dense(units=16, activation='relu'))\n",
    "\n",
    "# Add fully connected layer with a sigmoid activation function\n",
    "network.add(layers.Dense(units=1, activation='sigmoid'))"
   ]
  },
  {
   "cell_type": "markdown",
   "metadata": {},
   "source": [
    "## Visualize Network Architecture"
   ]
  },
  {
   "cell_type": "code",
   "execution_count": 6,
   "metadata": {},
   "outputs": [
    {
     "data": {
      "image/svg+xml": [
       "<svg height=\"296pt\" viewBox=\"0.00 0.00 307.56 296.00\" width=\"308pt\" xmlns=\"http://www.w3.org/2000/svg\" xmlns:xlink=\"http://www.w3.org/1999/xlink\">\n",
       "<g class=\"graph\" id=\"graph0\" transform=\"scale(1 1) rotate(0) translate(4 292)\">\n",
       "<title>G</title>\n",
       "<polygon fill=\"white\" points=\"-4,4 -4,-292 303.556,-292 303.556,4 -4,4\" stroke=\"none\"/>\n",
       "<!-- 4920138832 -->\n",
       "<g class=\"node\" id=\"node1\"><title>4920138832</title>\n",
       "<polygon fill=\"none\" points=\"0,-243.5 0,-287.5 299.556,-287.5 299.556,-243.5 0,-243.5\" stroke=\"black\"/>\n",
       "<text font-family=\"Times,serif\" font-size=\"14.00\" text-anchor=\"middle\" x=\"83.6191\" y=\"-261.3\">dense_1_input: InputLayer</text>\n",
       "<polyline fill=\"none\" points=\"167.238,-243.5 167.238,-287.5 \" stroke=\"black\"/>\n",
       "<text font-family=\"Times,serif\" font-size=\"14.00\" text-anchor=\"middle\" x=\"195.073\" y=\"-272.3\">input:</text>\n",
       "<polyline fill=\"none\" points=\"167.238,-265.5 222.907,-265.5 \" stroke=\"black\"/>\n",
       "<text font-family=\"Times,serif\" font-size=\"14.00\" text-anchor=\"middle\" x=\"195.073\" y=\"-250.3\">output:</text>\n",
       "<polyline fill=\"none\" points=\"222.907,-243.5 222.907,-287.5 \" stroke=\"black\"/>\n",
       "<text font-family=\"Times,serif\" font-size=\"14.00\" text-anchor=\"middle\" x=\"261.231\" y=\"-272.3\">(None, 10)</text>\n",
       "<polyline fill=\"none\" points=\"222.907,-265.5 299.556,-265.5 \" stroke=\"black\"/>\n",
       "<text font-family=\"Times,serif\" font-size=\"14.00\" text-anchor=\"middle\" x=\"261.231\" y=\"-250.3\">(None, 10)</text>\n",
       "</g>\n",
       "<!-- 4920138440 -->\n",
       "<g class=\"node\" id=\"node2\"><title>4920138440</title>\n",
       "<polygon fill=\"none\" points=\"31.4932,-162.5 31.4932,-206.5 268.062,-206.5 268.062,-162.5 31.4932,-162.5\" stroke=\"black\"/>\n",
       "<text font-family=\"Times,serif\" font-size=\"14.00\" text-anchor=\"middle\" x=\"83.6191\" y=\"-180.3\">dense_1: Dense</text>\n",
       "<polyline fill=\"none\" points=\"135.745,-162.5 135.745,-206.5 \" stroke=\"black\"/>\n",
       "<text font-family=\"Times,serif\" font-size=\"14.00\" text-anchor=\"middle\" x=\"163.58\" y=\"-191.3\">input:</text>\n",
       "<polyline fill=\"none\" points=\"135.745,-184.5 191.414,-184.5 \" stroke=\"black\"/>\n",
       "<text font-family=\"Times,serif\" font-size=\"14.00\" text-anchor=\"middle\" x=\"163.58\" y=\"-169.3\">output:</text>\n",
       "<polyline fill=\"none\" points=\"191.414,-162.5 191.414,-206.5 \" stroke=\"black\"/>\n",
       "<text font-family=\"Times,serif\" font-size=\"14.00\" text-anchor=\"middle\" x=\"229.738\" y=\"-191.3\">(None, 10)</text>\n",
       "<polyline fill=\"none\" points=\"191.414,-184.5 268.062,-184.5 \" stroke=\"black\"/>\n",
       "<text font-family=\"Times,serif\" font-size=\"14.00\" text-anchor=\"middle\" x=\"229.738\" y=\"-169.3\">(None, 16)</text>\n",
       "</g>\n",
       "<!-- 4920138832&#45;&gt;4920138440 -->\n",
       "<g class=\"edge\" id=\"edge1\"><title>4920138832-&gt;4920138440</title>\n",
       "<path d=\"M149.778,-243.329C149.778,-235.183 149.778,-225.699 149.778,-216.797\" fill=\"none\" stroke=\"black\"/>\n",
       "<polygon fill=\"black\" points=\"153.278,-216.729 149.778,-206.729 146.278,-216.729 153.278,-216.729\" stroke=\"black\"/>\n",
       "</g>\n",
       "<!-- 4920138496 -->\n",
       "<g class=\"node\" id=\"node3\"><title>4920138496</title>\n",
       "<polygon fill=\"none\" points=\"31.4932,-81.5 31.4932,-125.5 268.062,-125.5 268.062,-81.5 31.4932,-81.5\" stroke=\"black\"/>\n",
       "<text font-family=\"Times,serif\" font-size=\"14.00\" text-anchor=\"middle\" x=\"83.6191\" y=\"-99.3\">dense_2: Dense</text>\n",
       "<polyline fill=\"none\" points=\"135.745,-81.5 135.745,-125.5 \" stroke=\"black\"/>\n",
       "<text font-family=\"Times,serif\" font-size=\"14.00\" text-anchor=\"middle\" x=\"163.58\" y=\"-110.3\">input:</text>\n",
       "<polyline fill=\"none\" points=\"135.745,-103.5 191.414,-103.5 \" stroke=\"black\"/>\n",
       "<text font-family=\"Times,serif\" font-size=\"14.00\" text-anchor=\"middle\" x=\"163.58\" y=\"-88.3\">output:</text>\n",
       "<polyline fill=\"none\" points=\"191.414,-81.5 191.414,-125.5 \" stroke=\"black\"/>\n",
       "<text font-family=\"Times,serif\" font-size=\"14.00\" text-anchor=\"middle\" x=\"229.738\" y=\"-110.3\">(None, 16)</text>\n",
       "<polyline fill=\"none\" points=\"191.414,-103.5 268.062,-103.5 \" stroke=\"black\"/>\n",
       "<text font-family=\"Times,serif\" font-size=\"14.00\" text-anchor=\"middle\" x=\"229.738\" y=\"-88.3\">(None, 16)</text>\n",
       "</g>\n",
       "<!-- 4920138440&#45;&gt;4920138496 -->\n",
       "<g class=\"edge\" id=\"edge2\"><title>4920138440-&gt;4920138496</title>\n",
       "<path d=\"M149.778,-162.329C149.778,-154.183 149.778,-144.699 149.778,-135.797\" fill=\"none\" stroke=\"black\"/>\n",
       "<polygon fill=\"black\" points=\"153.278,-135.729 149.778,-125.729 146.278,-135.729 153.278,-135.729\" stroke=\"black\"/>\n",
       "</g>\n",
       "<!-- 4920281016 -->\n",
       "<g class=\"node\" id=\"node4\"><title>4920281016</title>\n",
       "<polygon fill=\"none\" points=\"31.4932,-0.5 31.4932,-44.5 268.062,-44.5 268.062,-0.5 31.4932,-0.5\" stroke=\"black\"/>\n",
       "<text font-family=\"Times,serif\" font-size=\"14.00\" text-anchor=\"middle\" x=\"83.6191\" y=\"-18.3\">dense_3: Dense</text>\n",
       "<polyline fill=\"none\" points=\"135.745,-0.5 135.745,-44.5 \" stroke=\"black\"/>\n",
       "<text font-family=\"Times,serif\" font-size=\"14.00\" text-anchor=\"middle\" x=\"163.58\" y=\"-29.3\">input:</text>\n",
       "<polyline fill=\"none\" points=\"135.745,-22.5 191.414,-22.5 \" stroke=\"black\"/>\n",
       "<text font-family=\"Times,serif\" font-size=\"14.00\" text-anchor=\"middle\" x=\"163.58\" y=\"-7.3\">output:</text>\n",
       "<polyline fill=\"none\" points=\"191.414,-0.5 191.414,-44.5 \" stroke=\"black\"/>\n",
       "<text font-family=\"Times,serif\" font-size=\"14.00\" text-anchor=\"middle\" x=\"229.738\" y=\"-29.3\">(None, 16)</text>\n",
       "<polyline fill=\"none\" points=\"191.414,-22.5 268.062,-22.5 \" stroke=\"black\"/>\n",
       "<text font-family=\"Times,serif\" font-size=\"14.00\" text-anchor=\"middle\" x=\"229.738\" y=\"-7.3\">(None, 1)</text>\n",
       "</g>\n",
       "<!-- 4920138496&#45;&gt;4920281016 -->\n",
       "<g class=\"edge\" id=\"edge3\"><title>4920138496-&gt;4920281016</title>\n",
       "<path d=\"M149.778,-81.3294C149.778,-73.1826 149.778,-63.6991 149.778,-54.7971\" fill=\"none\" stroke=\"black\"/>\n",
       "<polygon fill=\"black\" points=\"153.278,-54.729 149.778,-44.729 146.278,-54.729 153.278,-54.729\" stroke=\"black\"/>\n",
       "</g>\n",
       "</g>\n",
       "</svg>"
      ],
      "text/plain": [
       "<IPython.core.display.SVG object>"
      ]
     },
     "execution_count": 6,
     "metadata": {},
     "output_type": "execute_result"
    }
   ],
   "source": [
    "# Visualize network architecture\n",
    "SVG(model_to_dot(network, show_shapes=True).create(prog='dot', format='svg'))"
   ]
  },
  {
   "cell_type": "markdown",
   "metadata": {},
   "source": [
    "## Save To File"
   ]
  },
  {
   "cell_type": "code",
   "execution_count": 4,
   "metadata": {
    "collapsed": true
   },
   "outputs": [],
   "source": [
    "# Save the visualization as a file\n",
    "plot_model(network, show_shapes=True, to_file='network.png')"
   ]
  }
 ],
 "metadata": {
  "kernelspec": {
   "display_name": "Python [default]",
   "language": "python",
   "name": "python3"
  },
  "language_info": {
   "codemirror_mode": {
    "name": "ipython",
    "version": 3
   },
   "file_extension": ".py",
   "mimetype": "text/x-python",
   "name": "python",
   "nbconvert_exporter": "python",
   "pygments_lexer": "ipython3",
   "version": "3.5.3"
  }
 },
 "nbformat": 4,
 "nbformat_minor": 2
}
