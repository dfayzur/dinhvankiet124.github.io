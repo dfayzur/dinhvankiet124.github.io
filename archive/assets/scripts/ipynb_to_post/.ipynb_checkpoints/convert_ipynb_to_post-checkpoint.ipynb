{
 "cells": [
  {
   "cell_type": "code",
   "execution_count": 89,
   "metadata": {
    "collapsed": true
   },
   "outputs": [],
   "source": [
    "#!/usr/bin/python\n",
    "from bs4 import BeautifulSoup\n",
    "import sys"
   ]
  },
  {
   "cell_type": "code",
   "execution_count": 90,
   "metadata": {
    "collapsed": false
   },
   "outputs": [
    {
     "ename": "AttributeError",
     "evalue": "'NoneType' object has no attribute 'text'",
     "output_type": "error",
     "traceback": [
      "\u001b[0;31m---------------------------------------------------------------------------\u001b[0m",
      "\u001b[0;31mAttributeError\u001b[0m                            Traceback (most recent call last)",
      "\u001b[0;32m<ipython-input-90-f829bceff2a7>\u001b[0m in \u001b[0;36m<module>\u001b[0;34m()\u001b[0m\n\u001b[1;32m     13\u001b[0m     \u001b[0msoup\u001b[0m \u001b[0;34m=\u001b[0m \u001b[0mBeautifulSoup\u001b[0m\u001b[0;34m(\u001b[0m\u001b[0mnotebook\u001b[0m\u001b[0;34m)\u001b[0m\u001b[0;34m\u001b[0m\u001b[0m\n\u001b[1;32m     14\u001b[0m     \u001b[0;31m# Find the title of the notebook\u001b[0m\u001b[0;34m\u001b[0m\u001b[0;34m\u001b[0m\u001b[0m\n\u001b[0;32m---> 15\u001b[0;31m     \u001b[0mtitle\u001b[0m \u001b[0;34m=\u001b[0m \u001b[0msoup\u001b[0m\u001b[0;34m.\u001b[0m\u001b[0mfind\u001b[0m\u001b[0;34m(\u001b[0m\u001b[0;34m\"h1\"\u001b[0m\u001b[0;34m)\u001b[0m\u001b[0;34m.\u001b[0m\u001b[0mtext\u001b[0m\u001b[0;34m.\u001b[0m\u001b[0mstrip\u001b[0m\u001b[0;34m(\u001b[0m\u001b[0;34m'¶'\u001b[0m\u001b[0;34m)\u001b[0m\u001b[0;34m\u001b[0m\u001b[0m\n\u001b[0m\u001b[1;32m     16\u001b[0m     \u001b[0;31m# Replace the post's placeholder title with the notebook's title\u001b[0m\u001b[0;34m\u001b[0m\u001b[0;34m\u001b[0m\u001b[0m\n\u001b[1;32m     17\u001b[0m     \u001b[0mheader_title\u001b[0m \u001b[0;34m=\u001b[0m \u001b[0mheader_title\u001b[0m\u001b[0;34m.\u001b[0m\u001b[0mreplace\u001b[0m\u001b[0;34m(\u001b[0m\u001b[0;34m'REPLACE_ME'\u001b[0m\u001b[0;34m,\u001b[0m \u001b[0mtitle\u001b[0m\u001b[0;34m)\u001b[0m\u001b[0;34m\u001b[0m\u001b[0m\n",
      "\u001b[0;31mAttributeError\u001b[0m: 'NoneType' object has no attribute 'text'"
     ]
    }
   ],
   "source": [
    "filename = str(sys.argv[1])\n",
    "\n",
    "header_before_title = '<!DOCTYPE html><html lang=\"en\"><head><meta charset=\"utf-8\">'\n",
    "header_title = '<title>REPLACE_ME</title>'\n",
    "header_after_header = '<meta name=\"description\" content=\"\"><meta name=\"viewport\" content=\"width=device-width, initial-scale=1.0\"><link href=\"../css/normalize.css\" rel=\"stylesheet\" media=\"all\"> <link href=\"../css/styles.css\" rel=\"stylesheet\" media=\"all\"> <link href=\"../css/notebooks.css\" rel=\"stylesheet\" media=\"all\"> <link href=\\'http://fonts.googleapis.com/css?family=Source+Serif+Pro:400,700\\' rel=\\'stylesheet\\' type=\\'text/css\\'> <!--[if lt IE 9]><script src=\"js/html5shiv-printshiv.js\" media=\"all\"></script><![endif]--> </head> <body> <header role=\"banner\"> <div class=\"row\"> <h2><a href=\"http://chrisalbon.com\">Chris Albon</a></h2> <nav role=\"navigation\"> <a href=\"html/miscellaneous/about.html\">About</a> | <a href=\"https://github.com/chrisalbon\">GitHub</a> | <a href=\"https://twitter.com/chrisalbon\">Twitter</a> </nav> </div> </header> <div class=\"wrap\"> <main role=\"main\"> <div class=\"notebook\"> <!-- end of header section --> <!-- PASTE IPYTHON NOTEBOOK BELOW THIS LINE -->'\n",
    "footer = '<!-- PASTE IPYTHON NOTEBOOK ABOVE THIS LINE --> <!-- start of footer section --> </div> </main> </div> <footer role=\"contentinfo\"> Copyright &copy; Chris Albon, <time datetime=\"2015\">2015</time> </footer> <!-- Load Google Analytics --> <script> (function(i,s,o,g,r,a,m){i[\\'GoogleAnalyticsObject\\']=r;i[r]=i[r]||function(){(i[r].q=i[r].q||[]).push(arguments)},i[r].l=1*new Date();a=s.createElement(o), m=s.getElementsByTagName(o)[0];a.async=1;a.src=g;m.parentNode.insertBefore(a,m) })(window,document,\\'script\\',\\'//www.google-analytics.com/analytics.js\\',\\'ga\\'); ga(\\'create\\', \\'UA-66582-32\\', \\'auto\\'); ga(\\'send\\', \\'pageview\\'); </script> <!-- End of Google Analytics --> <!-- Loading mathjax macro --> <!-- Load mathjax --> <script src=\"https://cdn.mathjax.org/mathjax/latest/MathJax.js?config=TeX-AMS_HTML\"></script> <!-- MathJax configuration --> <script type=\"text/x-mathjax-config\"> MathJax.Hub.Config({tex2jax: {inlineMath: [ [\\'$\\',\\'$\\'], [\"\\\\(\",\"\\\\)\"] ], displayMath: [ [\\'$$\\',\\'$$\\'], [\"\\\\[\",\"\\\\]\"] ], processEscapes: true, processEnvironments: true }, // Center justify equations in code and markdown cells. Elsewhere // we use CSS to left justify single line equations in code cells. displayAlign: \\'center\\', \"HTML-CSS\": {styles: {\\'.MathJax_Display\\': {\"margin\": 0}}, linebreaks: { automatic: true } } }); </script> <!-- End of mathjax configuration --> </body> </html>'\n",
    "\n",
    "# Open notebook html file as f\n",
    "with open(\"test.ipynb\", \"r\") as f:\n",
    "    # Read file as notebook\n",
    "    notebook = f.read()\n",
    "    # convert the notebook file as soup\n",
    "    soup = BeautifulSoup(notebook)\n",
    "    # Find the title of the notebook\n",
    "    title = soup.find(\"h1\").text.strip('¶')\n",
    "    # Replace the post's placeholder title with the notebook's title\n",
    "    header_title = header_title.replace('REPLACE_ME', title)\n",
    "# Close the file\n",
    "f.close()"
   ]
  },
  {
   "cell_type": "code",
   "execution_count": 93,
   "metadata": {
    "collapsed": true
   },
   "outputs": [],
   "source": [
    "with open(\"test.html\", \"r\") as f:\n",
    "    # Read file as notebook\n",
    "    notebook = f.read()\n",
    "    # convert the notebook file as soup\n",
    "    soup = BeautifulSoup(notebook)\n"
   ]
  },
  {
   "cell_type": "code",
   "execution_count": 97,
   "metadata": {
    "collapsed": false
   },
   "outputs": [
    {
     "data": {
      "text/plain": [
       "'Applying Conditional Functions To List Items¶'"
      ]
     },
     "execution_count": 97,
     "metadata": {},
     "output_type": "execute_result"
    }
   ],
   "source": [
    "soup.find(\"h1\").text"
   ]
  },
  {
   "cell_type": "code",
   "execution_count": 99,
   "metadata": {
    "collapsed": false
   },
   "outputs": [
    {
     "data": {
      "text/plain": [
       "'Applying Conditional Functions To List Item'"
      ]
     },
     "execution_count": 99,
     "metadata": {},
     "output_type": "execute_result"
    }
   ],
   "source": [
    "soup.find(\"h1\").text[:-1]"
   ]
  },
  {
   "cell_type": "code",
   "execution_count": null,
   "metadata": {
    "collapsed": true
   },
   "outputs": [],
   "source": []
  }
 ],
 "metadata": {
  "kernelspec": {
   "display_name": "Python 3",
   "language": "python",
   "name": "python3"
  },
  "language_info": {
   "codemirror_mode": {
    "name": "ipython",
    "version": 3
   },
   "file_extension": ".py",
   "mimetype": "text/x-python",
   "name": "python",
   "nbconvert_exporter": "python",
   "pygments_lexer": "ipython3",
   "version": "3.4.3"
  }
 },
 "nbformat": 4,
 "nbformat_minor": 0
}
