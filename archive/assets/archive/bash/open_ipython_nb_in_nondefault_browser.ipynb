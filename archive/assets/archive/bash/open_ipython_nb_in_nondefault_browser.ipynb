{
 "cells": [
  {
   "cell_type": "markdown",
   "metadata": {},
   "source": [
    "# Load IPython Notebook In Non-Default Browser\n",
    "\n",
    "The one part of IPython Notebooks that I don't like is not having a dedicated IDE for it. As an effective workaround, I started using Firefox as my general use browser and Chrome as my IPython Notebook \"IDE\".\n",
    "\n",
    "However, by default IPython Notebooks loads the defaault browser (which in my is Firefox). The following bash script loads my Python 3 environment and then opens IPython Notebook in Chrome.\n",
    "\n",
    "Note: I have commented out all the commands so it doesn't run while in IPython."
   ]
  },
  {
   "cell_type": "code",
   "execution_count": 3,
   "metadata": {
    "collapsed": false
   },
   "outputs": [],
   "source": [
    "%%bash\n",
    "\n",
    "# Set the bash hashbang\n",
    "# #!/bin/bash\n",
    "\n",
    "# Activate my Python 3 environment\n",
    "# source activate py3k\n",
    "\n",
    "# Open IPython Notebook using Chrome\n",
    "# BROWSER=/Applications/Google\\ Chrome.app/Contents/MacOS/Google\\ Chrome ipython notebook"
   ]
  }
 ],
 "metadata": {
  "kernelspec": {
   "display_name": "Python 3",
   "language": "python",
   "name": "python3"
  },
  "language_info": {
   "codemirror_mode": {
    "name": "ipython",
    "version": 3
   },
   "file_extension": ".py",
   "mimetype": "text/x-python",
   "name": "python",
   "nbconvert_exporter": "python",
   "pygments_lexer": "ipython3",
   "version": "3.4.3"
  }
 },
 "nbformat": 4,
 "nbformat_minor": 0
}
