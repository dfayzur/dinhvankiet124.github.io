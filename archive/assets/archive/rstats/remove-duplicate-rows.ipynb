{
 "cells": [
  {
   "cell_type": "markdown",
   "metadata": {},
   "source": [
    "# Remove Duplicate Rows\n",
    "Original source: the r book"
   ]
  },
  {
   "cell_type": "code",
   "execution_count": 1,
   "metadata": {
    "collapsed": true
   },
   "outputs": [],
   "source": [
    "# create a dataframe with simulated values\n",
    "x <- c(1,2,3,1,2,2)\n",
    "y <- c(1,6,3,1,2,2)\n",
    "z <- c(1,2,3,1,2,2)\n",
    "a <- c(1,5,6,1,2,2)\n",
    "data <- data.frame(x, y, z, a)\n",
    "rm(x, y, z, a)"
   ]
  },
  {
   "cell_type": "code",
   "execution_count": 2,
   "metadata": {
    "collapsed": false
   },
   "outputs": [
    {
     "data": {
      "text/plain": [
       "  x y z a\n",
       "4 1 1 1 1\n",
       "6 2 2 2 2"
      ]
     },
     "execution_count": 2,
     "metadata": {},
     "output_type": "execute_result"
    }
   ],
   "source": [
    "# find all the rows that are the same\n",
    "duplicates <- data[duplicated(data),];duplicates"
   ]
  },
  {
   "cell_type": "code",
   "execution_count": 3,
   "metadata": {
    "collapsed": false
   },
   "outputs": [
    {
     "data": {
      "text/plain": [
       "  x y z a\n",
       "1 1 1 1 1\n",
       "2 2 6 2 5\n",
       "3 3 3 3 6\n",
       "5 2 2 2 2"
      ]
     },
     "execution_count": 3,
     "metadata": {},
     "output_type": "execute_result"
    }
   ],
   "source": [
    "# find all the rows that are unique\n",
    "not.duplicates <- unique(data);not.duplicates"
   ]
  }
 ],
 "metadata": {
  "kernelspec": {
   "display_name": "R",
   "language": "",
   "name": "ir"
  },
  "language_info": {
   "codemirror_mode": "r",
   "file_extension": ".r",
   "mimetype": "text/x-r-source",
   "name": "R",
   "pygments_lexer": "r"
  }
 },
 "nbformat": 4,
 "nbformat_minor": 0
}
