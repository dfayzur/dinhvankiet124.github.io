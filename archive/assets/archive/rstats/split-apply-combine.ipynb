{
 "cells": [
  {
   "cell_type": "markdown",
   "metadata": {},
   "source": [
    "# Split, Apply, Combine\n",
    "Original source: Learning R"
   ]
  },
  {
   "cell_type": "code",
   "execution_count": 5,
   "metadata": {
    "collapsed": false
   },
   "outputs": [
    {
     "data": {
      "text/plain": [
       "          war.name deaths\n",
       "1             WWII    938\n",
       "2             WWII   9480\n",
       "3              WWI   2049\n",
       "4              WWI   1039\n",
       "5  Franco-Prussian   3928\n",
       "6  Franco-Prussian   9202\n",
       "7  Franco-Prussian  10933\n",
       "8         Boer War  40293\n",
       "9         Boer War  10394\n",
       "10        Boer War  20394"
      ]
     },
     "execution_count": 5,
     "metadata": {},
     "output_type": "execute_result"
    }
   ],
   "source": [
    "# generate fake data with multiple lines for a single observation\n",
    "war.name <- c(\"WWII\", \"WWII\", \"WWI\", \"WWI\", \"Franco-Prussian\", \"Franco-Prussian\", \"Franco-Prussian\", \"Boer War\", \"Boer War\", \"Boer War\")\n",
    "deaths <- c(938, 9480, 2049, 1039, 3928, 9202, 10933, 40293, 10394, 20394)\n",
    "casualties <- data.frame(war.name, deaths); casualties"
   ]
  },
  {
   "cell_type": "markdown",
   "metadata": {},
   "source": [
    "Using the split function we can calculate the average deaths for each war, even though they are split on different lines."
   ]
  },
  {
   "cell_type": "code",
   "execution_count": 6,
   "metadata": {
    "collapsed": true
   },
   "outputs": [],
   "source": [
    "## split the deaths by war.name\n",
    "casualties.by.war <- with(casualties, split(deaths, war.name))"
   ]
  },
  {
   "cell_type": "code",
   "execution_count": 7,
   "metadata": {
    "collapsed": true
   },
   "outputs": [],
   "source": [
    "## calculate the list mean war deaths for each war\n",
    "list.of.means.by.war <- lapply(casualties.by.war, mean)"
   ]
  },
  {
   "cell_type": "code",
   "execution_count": 8,
   "metadata": {
    "collapsed": true
   },
   "outputs": [],
   "source": [
    "# convert the list into a vector\n",
    "mean.by.war <- unlist(list.of.means.by.war)"
   ]
  }
 ],
 "metadata": {
  "kernelspec": {
   "display_name": "R",
   "language": "",
   "name": "ir"
  },
  "language_info": {
   "codemirror_mode": "r",
   "file_extension": ".r",
   "mimetype": "text/x-r-source",
   "name": "R",
   "pygments_lexer": "r"
  }
 },
 "nbformat": 4,
 "nbformat_minor": 0
}
