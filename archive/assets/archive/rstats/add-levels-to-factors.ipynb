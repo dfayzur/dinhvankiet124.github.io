{
 "cells": [
  {
   "cell_type": "markdown",
   "metadata": {},
   "source": [
    "# Adding Levels To A Factor (i.e. adding Categories To A Nominal Variable)\n",
    "\n",
    "A Factor object is used to unordered categories, that is categories where each one is different but considered equal (e.g. types of fruit, names, gender, countries, etc.) One common problem people have with factors is trying to add a level (i.e. add a category) to a factor. The reason is that in order to manipulate factors, you have to manipulate it's levels, not the names of each category."
   ]
  },
  {
   "cell_type": "code",
   "execution_count": 5,
   "metadata": {
    "collapsed": true
   },
   "outputs": [],
   "source": [
    "# create simulated distract name data\n",
    "district <- c(\"NORTH\", \"NORTHWEST\", \"CENTRAL\", \"SOUTH\", \"SOUTHWEST\", \"EAST\")\n",
    "\n",
    "# remake district categories with the combination of district categories and a new SOUTH CENTRAL category\n",
    "levels(district) <- c(district, \"SOUTH CENTRAL\")"
   ]
  },
  {
   "cell_type": "code",
   "execution_count": 6,
   "metadata": {
    "collapsed": false
   },
   "outputs": [
    {
     "data": {
      "text/plain": [
       "[1] \"NORTH\"         \"NORTHWEST\"     \"CENTRAL\"       \"SOUTH\"        \n",
       "[5] \"SOUTHWEST\"     \"EAST\"          \"SOUTH CENTRAL\""
      ]
     },
     "execution_count": 6,
     "metadata": {},
     "output_type": "execute_result"
    }
   ],
   "source": [
    "levels(district)"
   ]
  }
 ],
 "metadata": {
  "kernelspec": {
   "display_name": "R",
   "language": "",
   "name": "ir"
  },
  "language_info": {
   "codemirror_mode": "r",
   "file_extension": ".r",
   "mimetype": "text/x-r-source",
   "name": "R",
   "pygments_lexer": "r"
  }
 },
 "nbformat": 4,
 "nbformat_minor": 0
}
