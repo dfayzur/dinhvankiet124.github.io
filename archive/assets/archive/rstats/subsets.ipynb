{
 "cells": [
  {
   "cell_type": "markdown",
   "metadata": {},
   "source": [
    "# Subsetting Data\n",
    "Original source: http://rforpublichealth.blogspot.com/2012/10/quick-and-easy-subsetting.html"
   ]
  },
  {
   "cell_type": "code",
   "execution_count": 4,
   "metadata": {
    "collapsed": true
   },
   "outputs": [],
   "source": [
    "# create some simulated data\n",
    "ID <- 1:10\n",
    "Age <- c(26, 65, 15, 7, 88, 43, 28, 66 ,45, 12)\n",
    "Sex <- c(1, 0, 1, 1, 0 ,1, 1, 1, 0, 1)\n",
    "Weight <- c(132, 122, 184, 145, 118, NA, 128, 154, 166, 164)\n",
    "Height <- c(60, 63, 57, 59, 64, NA, 67, 65, NA, 60)\n",
    "Married <- c(0, 0, 0, 0, 0, 0, 1, 1, 0, 1)"
   ]
  },
  {
   "cell_type": "code",
   "execution_count": 5,
   "metadata": {
    "collapsed": false
   },
   "outputs": [
    {
     "data": {
      "text/plain": [
       "   ID Age Sex Weight Height Married\n",
       "1   1  26   1    132     60       0\n",
       "2   2  65   0    122     63       0\n",
       "3   3  15   1    184     57       0\n",
       "4   4   7   1    145     59       0\n",
       "5   5  88   0    118     64       0\n",
       "6   6  43   1     NA     NA       0\n",
       "7   7  28   1    128     67       1\n",
       "8   8  66   1    154     65       1\n",
       "9   9  45   0    166     NA       0\n",
       "10 10  12   1    164     60       1"
      ]
     },
     "execution_count": 5,
     "metadata": {},
     "output_type": "execute_result"
    }
   ],
   "source": [
    "# create a dataframe of the simulated data\n",
    "mydata <- data.frame(ID, Age, Sex, Weight, Height, Married)\n",
    "mydata"
   ]
  },
  {
   "cell_type": "code",
   "execution_count": 6,
   "metadata": {
    "collapsed": false
   },
   "outputs": [
    {
     "data": {
      "text/plain": [
       "  ID Age Weight\n",
       "2  2  65    122\n",
       "5  5  88    118"
      ]
     },
     "execution_count": 6,
     "metadata": {},
     "output_type": "execute_result"
    }
   ],
   "source": [
    "# create a new variable called sub.data that is the subset of mydata, containing all rows where Age is less than 50 and sex is 0 and the columns ID, Age, and Weight\n",
    "sub.data<-subset(mydata, Age>50 & Sex==0, select=c(ID, Age, Weight))\n",
    "sub.data"
   ]
  }
 ],
 "metadata": {
  "kernelspec": {
   "display_name": "R",
   "language": "",
   "name": "ir"
  },
  "language_info": {
   "codemirror_mode": "r",
   "file_extension": ".r",
   "mimetype": "text/x-r-source",
   "name": "R",
   "pygments_lexer": "r"
  }
 },
 "nbformat": 4,
 "nbformat_minor": 0
}
