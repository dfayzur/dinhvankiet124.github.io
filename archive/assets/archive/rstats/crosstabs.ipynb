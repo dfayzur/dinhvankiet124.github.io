{
 "cells": [
  {
   "cell_type": "markdown",
   "metadata": {},
   "source": [
    "# Crosstabs"
   ]
  },
  {
   "cell_type": "code",
   "execution_count": 4,
   "metadata": {
    "collapsed": false
   },
   "outputs": [],
   "source": [
    "# create some simulated disaster data\n",
    "event <- c(\"flood\",\"fire\",\"flood\",\"fire\",\"riot\",\"flood\",\"riot\",\"riot\",\"flood\");\n",
    "location <- c(\"africa\", \"asia\", \"europe\",\"africa\", \"asia\", \"europe\",\"africa\", \"asia\", \"europe\")\n",
    "disaster <- data.frame(event, location)\n",
    "rm(event, location)"
   ]
  },
  {
   "cell_type": "code",
   "execution_count": 5,
   "metadata": {
    "collapsed": false
   },
   "outputs": [
    {
     "data": {
      "text/plain": [
       "   Var1 Freq\n",
       "1  fire    2\n",
       "2 flood    4\n",
       "3  riot    3"
      ]
     },
     "execution_count": 5,
     "metadata": {},
     "output_type": "execute_result"
    }
   ],
   "source": [
    "# create a variable that is the frequency counts of different types of disaster events\n",
    "event.counts.df <- as.data.frame(table(disaster$event));event.counts.df"
   ]
  },
  {
   "cell_type": "code",
   "execution_count": 6,
   "metadata": {
    "collapsed": false
   },
   "outputs": [
    {
     "data": {
      "text/plain": [
       "       \n",
       "        africa asia europe\n",
       "  fire       1    1      0\n",
       "  flood      1    0      3\n",
       "  riot       1    2      0"
      ]
     },
     "execution_count": 6,
     "metadata": {},
     "output_type": "execute_result"
    }
   ],
   "source": [
    "# create a crosstab of event types by location\n",
    "disaster.crosstab <- table(disaster$event, disaster$location); disaster.crosstab"
   ]
  }
 ],
 "metadata": {
  "kernelspec": {
   "display_name": "R",
   "language": "",
   "name": "ir"
  },
  "language_info": {
   "codemirror_mode": "r",
   "file_extension": ".r",
   "mimetype": "text/x-r-source",
   "name": "R",
   "pygments_lexer": "r"
  }
 },
 "nbformat": 4,
 "nbformat_minor": 0
}
