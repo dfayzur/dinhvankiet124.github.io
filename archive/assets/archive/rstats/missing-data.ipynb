{
 "cells": [
  {
   "cell_type": "markdown",
   "metadata": {},
   "source": [
    "# Missing values"
   ]
  },
  {
   "cell_type": "code",
   "execution_count": 1,
   "metadata": {
    "collapsed": true
   },
   "outputs": [],
   "source": [
    "# Sometimes we do not have all the data we want. When that happens, we can represent that in R as missing value, represented as NA.\n",
    "number.of.pets <- c(2, 5, NA, NA) # create a vector that with 2, 5, and two missing values."
   ]
  },
  {
   "cell_type": "code",
   "execution_count": 2,
   "metadata": {
    "collapsed": false
   },
   "outputs": [
    {
     "data": {
      "text/plain": [
       "[1] FALSE FALSE  TRUE  TRUE"
      ]
     },
     "execution_count": 2,
     "metadata": {},
     "output_type": "execute_result"
    }
   ],
   "source": [
    "# We can use the is.na() function to identify missing data.\n",
    "unknown.number.of.pets <- is.na(number.of.pets) # Create a variable called unknown.number.of.pets that finds missing data in the variable number.of.pets.\n",
    "unknown.number.of.pets"
   ]
  }
 ],
 "metadata": {
  "kernelspec": {
   "display_name": "R",
   "language": "",
   "name": "ir"
  },
  "language_info": {
   "codemirror_mode": "r",
   "file_extension": ".r",
   "mimetype": "text/x-r-source",
   "name": "R",
   "pygments_lexer": "r"
  }
 },
 "nbformat": 4,
 "nbformat_minor": 0
}
