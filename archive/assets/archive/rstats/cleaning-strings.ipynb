{
 "cells": [
  {
   "cell_type": "markdown",
   "metadata": {},
   "source": [
    "# Cleaning Strings\n",
    "Original source: Learning R\n",
    "\n",
    "R includes grep, grepl, regexpr, sub, and gsub to handle strings. However they can be clunky, so the stringr package provides a \"UI\" for these functions to making working with them easier."
   ]
  },
  {
   "cell_type": "code",
   "execution_count": 11,
   "metadata": {
    "collapsed": false
   },
   "outputs": [],
   "source": [
    "# Load LearningR package\n",
    "library(learningr)\n",
    "\n",
    "# Load english_monarchs data from the LearningR package\n",
    "data(english_monarchs, package = \"learningr\")\n",
    "\n",
    "# Load Stringr Library\n",
    "library(stringr)"
   ]
  },
  {
   "cell_type": "code",
   "execution_count": 12,
   "metadata": {
    "collapsed": false,
    "scrolled": true
   },
   "outputs": [
    {
     "data": {
      "text/plain": [
       "  [1] FALSE FALSE FALSE FALSE FALSE FALSE FALSE FALSE FALSE FALSE FALSE FALSE\n",
       " [13] FALSE FALSE FALSE FALSE  TRUE  TRUE  TRUE  TRUE FALSE  TRUE  TRUE  TRUE\n",
       " [25]  TRUE  TRUE FALSE FALSE FALSE FALSE FALSE FALSE FALSE FALSE FALSE FALSE\n",
       " [37] FALSE FALSE FALSE FALSE FALSE FALSE FALSE FALSE FALSE FALSE FALSE FALSE\n",
       " [49] FALSE FALSE FALSE FALSE FALSE FALSE FALSE FALSE FALSE FALSE FALSE FALSE\n",
       " [61] FALSE FALSE FALSE FALSE FALSE FALSE FALSE FALSE FALSE FALSE FALSE FALSE\n",
       " [73] FALSE FALSE FALSE FALSE FALSE FALSE FALSE FALSE FALSE  TRUE  TRUE  TRUE\n",
       " [85]  TRUE  TRUE  TRUE  TRUE  TRUE FALSE FALSE FALSE FALSE FALSE  TRUE FALSE\n",
       " [97] FALSE FALSE FALSE FALSE FALSE FALSE FALSE FALSE FALSE FALSE FALSE FALSE\n",
       "[109] FALSE FALSE FALSE FALSE FALSE FALSE FALSE FALSE FALSE FALSE FALSE FALSE\n",
       "[121] FALSE FALSE FALSE FALSE FALSE FALSE FALSE FALSE FALSE FALSE FALSE FALSE\n",
       "[133] FALSE FALSE FALSE FALSE FALSE FALSE FALSE FALSE FALSE FALSE FALSE FALSE\n",
       "[145] FALSE FALSE FALSE FALSE FALSE FALSE FALSE FALSE FALSE FALSE FALSE FALSE\n",
       "[157] FALSE FALSE FALSE FALSE FALSE FALSE FALSE FALSE FALSE FALSE FALSE FALSE\n",
       "[169] FALSE FALSE FALSE FALSE FALSE FALSE FALSE FALSE FALSE FALSE FALSE FALSE\n",
       "[181] FALSE FALSE FALSE FALSE FALSE FALSE FALSE FALSE FALSE FALSE FALSE FALSE\n",
       "[193] FALSE FALSE FALSE FALSE FALSE FALSE FALSE FALSE FALSE FALSE FALSE FALSE\n",
       "[205] FALSE FALSE FALSE FALSE FALSE FALSE FALSE FALSE FALSE FALSE FALSE FALSE\n",
       "[217] FALSE FALSE FALSE FALSE FALSE FALSE FALSE FALSE FALSE FALSE FALSE FALSE\n",
       "[229] FALSE FALSE FALSE FALSE FALSE FALSE FALSE FALSE FALSE FALSE FALSE FALSE\n",
       "[241] FALSE FALSE FALSE FALSE FALSE FALSE FALSE FALSE FALSE FALSE FALSE FALSE\n",
       "[253] FALSE FALSE FALSE FALSE FALSE FALSE FALSE"
      ]
     },
     "execution_count": 12,
     "metadata": {},
     "output_type": "execute_result"
    }
   ],
   "source": [
    "# detect commas in the domain variable, meaning that during that time a monarch had multiple territories (domains)\n",
    "multiple_kingdoms <- str_detect(english_monarchs$domain, fixed(\",\")); multiple_kingdoms"
   ]
  },
  {
   "cell_type": "code",
   "execution_count": 13,
   "metadata": {
    "collapsed": false
   },
   "outputs": [
    {
     "data": {
      "text/plain": [
       "                          name                    domain\n",
       "17                        Offa       East Anglia, Mercia\n",
       "18                        Offa East Anglia, Kent, Mercia\n",
       "19           Offa and Ecgfrith East Anglia, Kent, Mercia\n",
       "20                    Ecgfrith East Anglia, Kent, Mercia\n",
       "22                C\\u009cnwulf East Anglia, Kent, Mercia\n",
       "23   C\\u009cnwulf and Cynehelm East Anglia, Kent, Mercia\n",
       "24                C\\u009cnwulf East Anglia, Kent, Mercia\n",
       "25                    Ceolwulf East Anglia, Kent, Mercia\n",
       "26                   Beornwulf       East Anglia, Mercia\n",
       "82      Ecgbehrt and Æthelwulf              Kent, Wessex\n",
       "83      Ecgbehrt and Æthelwulf      Kent, Mercia, Wessex\n",
       "84      Ecgbehrt and Æthelwulf              Kent, Wessex\n",
       "85    Æthelwulf and Æðelstan I              Kent, Wessex\n",
       "86                   Æthelwulf              Kent, Wessex\n",
       "87 Æthelwulf and Æðelberht III              Kent, Wessex\n",
       "88               Æðelberht III              Kent, Wessex\n",
       "89                  Æthelred I              Kent, Wessex\n",
       "95                       Oswiu       Mercia, Northumbria"
      ]
     },
     "execution_count": 13,
     "metadata": {},
     "output_type": "execute_result"
    }
   ],
   "source": [
    "# index domains where multiple_kingdoms is true. Show name and domain columns for those rows where it is true. \n",
    "english_monarchs[multiple_kingdoms, c(\"name\", \"domain\")]"
   ]
  },
  {
   "cell_type": "code",
   "execution_count": 14,
   "metadata": {
    "collapsed": true
   },
   "outputs": [],
   "source": [
    "# detect either a comma or an \"and\" in the ruler variable, meaning that a domain had multiple rulers\n",
    "multiple_rulers <- str_detect(english_monarchs$name, \",|and\")"
   ]
  },
  {
   "cell_type": "code",
   "execution_count": 15,
   "metadata": {
    "collapsed": false
   },
   "outputs": [
    {
     "data": {
      "text/plain": [
       " [1] Sigeberht and Ecgric                       \n",
       " [2] Hun, Beonna and Alberht                    \n",
       " [3] Offa and Ecgfrith                          \n",
       " [4] C\\u009cnwulf and Cynehelm                  \n",
       " [5] Sighere and Sebbi                          \n",
       " [6] Sigeheard and Swaefred                     \n",
       " [7] Eorcenberht and Eormenred                  \n",
       " [8] Oswine, Swæfbehrt, Swæfheard               \n",
       " [9] Swæfbehrt, Swæfheard, Wihtred              \n",
       "[10] Æðelberht II, Ælfric and Eadberht I        \n",
       "[11] Æðelberht II and Eardwulf                  \n",
       "[12] Eadberht II, Eanmund and Sigered           \n",
       "[13] Heaberht and Ecgbehrt II                   \n",
       "[14] Ecgbehrt and Æthelwulf                     \n",
       "[15] Ecgbehrt and Æthelwulf                     \n",
       "[16] Ecgbehrt and Æthelwulf                     \n",
       "[17] Æthelwulf and Æðelstan I                   \n",
       "[18] Æthelwulf and Æðelberht III                \n",
       "[19] Penda and Eowa                             \n",
       "[20] Penda and Peada                            \n",
       "[21] Æthelred, Lord of the Mercians             \n",
       "[22] Æthelflæd, Lady of the Mercians            \n",
       "[23] Ælfwynn, Second Lady of the Mercians       \n",
       "[24] Hálfdan and Eowils                         \n",
       "[25] Noðhelm and Watt                           \n",
       "[26] Noðhelm and Bryni                          \n",
       "[27] Noðhelm and Osric                          \n",
       "[28] Noðhelm and Æðelstan                       \n",
       "[29] Ælfwald, Oslac and Osmund                  \n",
       "[30] Ælfwald, Ealdwulf, Oslac and Osmund        \n",
       "[31] Ælfwald, Ealdwulf, Oslac, Osmund and Oswald\n",
       "[32] Cenwalh and Seaxburh                       \n",
       "211 Levels: Adda Æðelbehrt Æðelberht I ... Wulfhere"
      ]
     },
     "execution_count": 15,
     "metadata": {},
     "output_type": "execute_result"
    }
   ],
   "source": [
    "# index domains where multiple rulers was true and that data isn't missing\n",
    "english_monarchs$name[multiple_rulers & !is.na(multiple_rulers)]\n",
    "\n",
    "# since individual rulers are split up by a comma or an and, we can split them up. The output is a list.\n",
    "individual_rulers <- str_split(english_monarchs$name, \", | and \")"
   ]
  },
  {
   "cell_type": "code",
   "execution_count": 16,
   "metadata": {
    "collapsed": false
   },
   "outputs": [
    {
     "data": {
      "text/plain": [
       "[[1]]\n",
       "[1] \"Sigeberht\" \"Ecgric\"   \n",
       "\n",
       "[[2]]\n",
       "[1] \"Hun\"     \"Beonna\"  \"Alberht\"\n",
       "\n",
       "[[3]]\n",
       "[1] \"Offa\"     \"Ecgfrith\"\n",
       "\n",
       "[[4]]\n",
       "[1] \"C\\u009cnwulf\" \"Cynehelm\"    \n",
       "\n",
       "[[5]]\n",
       "[1] \"Sighere\" \"Sebbi\"  \n",
       "\n",
       "[[6]]\n",
       "[1] \"Sigeheard\" \"Swaefred\" \n"
      ]
     },
     "execution_count": 16,
     "metadata": {},
     "output_type": "execute_result"
    }
   ],
   "source": [
    "# take a look at the data\n",
    "head(individual_rulers[sapply(individual_rulers, length) > 1])"
   ]
  }
 ],
 "metadata": {
  "kernelspec": {
   "display_name": "R",
   "language": "",
   "name": "ir"
  },
  "language_info": {
   "codemirror_mode": "r",
   "file_extension": ".r",
   "mimetype": "text/x-r-source",
   "name": "R",
   "pygments_lexer": "r"
  }
 },
 "nbformat": 4,
 "nbformat_minor": 0
}
