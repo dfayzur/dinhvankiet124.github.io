{
 "cells": [
  {
   "cell_type": "markdown",
   "metadata": {},
   "source": [
    "# Sorting Columns Of A Data Frame\n",
    "Original source: http://stackoverflow.com/questions/1296646/how-to-sort-a-dataframe-by-columns-in-r"
   ]
  },
  {
   "cell_type": "code",
   "execution_count": 4,
   "metadata": {
    "collapsed": true
   },
   "outputs": [],
   "source": [
    "# create some simulated data\n",
    "df <- data.frame(score = c(runif(5)), team = c(letters[1:5]), state = c(state.name[1:5]))"
   ]
  },
  {
   "cell_type": "code",
   "execution_count": 5,
   "metadata": {
    "collapsed": false
   },
   "outputs": [
    {
     "data": {
      "text/plain": [
       "       score team      state\n",
       "1 0.99573538    a    Alabama\n",
       "2 0.82771332    b     Alaska\n",
       "5 0.61670246    e California\n",
       "3 0.32848427    c    Arizona\n",
       "4 0.04267817    d   Arkansas"
      ]
     },
     "execution_count": 5,
     "metadata": {},
     "output_type": "execute_result"
    }
   ],
   "source": [
    "# sort by decending score, THEN sort by ascending team letter\n",
    "df[with(df, order(-score, team)), ]"
   ]
  }
 ],
 "metadata": {
  "kernelspec": {
   "display_name": "R",
   "language": "",
   "name": "ir"
  },
  "language_info": {
   "codemirror_mode": "r",
   "file_extension": ".r",
   "mimetype": "text/x-r-source",
   "name": "R",
   "pygments_lexer": "r"
  }
 },
 "nbformat": 4,
 "nbformat_minor": 0
}
