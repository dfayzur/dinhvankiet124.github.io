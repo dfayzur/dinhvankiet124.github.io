{
 "cells": [
  {
   "cell_type": "markdown",
   "metadata": {},
   "source": [
    "# Flow Control\n",
    "\n",
    "This is the same as conditional statements."
   ]
  },
  {
   "cell_type": "markdown",
   "metadata": {},
   "source": [
    "## If\n",
    "\n",
    "If always needs a logical statement in its brackets."
   ]
  },
  {
   "cell_type": "code",
   "execution_count": 1,
   "metadata": {
    "collapsed": false
   },
   "outputs": [
    {
     "name": "stderr",
     "output_type": "stream",
     "text": [
      "This is true.\n"
     ]
    }
   ],
   "source": [
    "# If TRUE, say so.\n",
    "if(TRUE) message(\"This is true.\")"
   ]
  },
  {
   "cell_type": "code",
   "execution_count": 2,
   "metadata": {
    "collapsed": true
   },
   "outputs": [],
   "source": [
    "# If FALSE, say so.\n",
    "if(FALSE) message(\"Wrong.\")"
   ]
  },
  {
   "cell_type": "code",
   "execution_count": 3,
   "metadata": {
    "collapsed": false
   },
   "outputs": [
    {
     "name": "stderr",
     "output_type": "stream",
     "text": [
      "The number is under .5\n"
     ]
    }
   ],
   "source": [
    "# If the random number generated is over .5, execute what is inside the top brackets, else execute what is inside the bottom brackets\n",
    "if(runif(1) > 0.5)\n",
    "{\n",
    "  message(\"The number is over .5\")\n",
    "} else\n",
    "{\n",
    "  message(\"The number is under .5\")\n",
    "}"
   ]
  },
  {
   "cell_type": "markdown",
   "metadata": {},
   "source": [
    "## ELSE IF"
   ]
  },
  {
   "cell_type": "code",
   "execution_count": 4,
   "metadata": {
    "collapsed": true
   },
   "outputs": [],
   "source": [
    "# Generate a random number between 0 and 1\n",
    "x <- runif(1)"
   ]
  },
  {
   "cell_type": "code",
   "execution_count": 5,
   "metadata": {
    "collapsed": false
   },
   "outputs": [
    {
     "name": "stderr",
     "output_type": "stream",
     "text": [
      "x is greater than 0.25\n"
     ]
    }
   ],
   "source": [
    "# Execute different message commands depending on the value of the number.\n",
    "if(x > 0.25)\n",
    "{\n",
    "  message(\"x is greater than 0.25\")\n",
    "} else if(x > 0.5)\n",
    "{\n",
    "  message(\"x is greater than 0.50\")\n",
    "} else if(x > 0.75)\n",
    "{\n",
    "  message(\"x is greater than 0.75\")\n",
    "} else if(x > 0.95)\n",
    "{\n",
    "  message(\"x is greater than 0.95\")\n",
    "}"
   ]
  },
  {
   "cell_type": "markdown",
   "metadata": {},
   "source": [
    "## IFELSE On Every Element In A Vector"
   ]
  },
  {
   "cell_type": "markdown",
   "metadata": {},
   "source": [
    "IFELSE is for the flow control of entire vectors"
   ]
  },
  {
   "cell_type": "code",
   "execution_count": 6,
   "metadata": {
    "collapsed": true
   },
   "outputs": [],
   "source": [
    "# Generate 10 random elements between 0 and 1\n",
    "y <- runif(10)"
   ]
  },
  {
   "cell_type": "code",
   "execution_count": 7,
   "metadata": {
    "collapsed": false
   },
   "outputs": [
    {
     "data": {
      "text/plain": [
       " [1] \"Low\"  \"Low\"  \"High\" \"Low\"  \"Low\"  \"High\" \"Low\"  \"Low\"  \"Low\"  \"High\""
      ]
     },
     "execution_count": 7,
     "metadata": {},
     "output_type": "execute_result"
    }
   ],
   "source": [
    "# If an element is above .5, mark as \"high\", else, mark as \"low\"\n",
    "ifelse(y > 0.5, \"High\", \"Low\")"
   ]
  }
 ],
 "metadata": {
  "kernelspec": {
   "display_name": "R",
   "language": "",
   "name": "ir"
  },
  "language_info": {
   "codemirror_mode": "r",
   "file_extension": ".r",
   "mimetype": "text/x-r-source",
   "name": "R",
   "pygments_lexer": "r"
  }
 },
 "nbformat": 4,
 "nbformat_minor": 0
}
