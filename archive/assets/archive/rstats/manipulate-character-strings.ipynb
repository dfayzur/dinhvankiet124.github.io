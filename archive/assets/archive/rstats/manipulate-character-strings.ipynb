{
 "cells": [
  {
   "cell_type": "markdown",
   "metadata": {},
   "source": [
    "# Manipulating Character Strings (i.e. text)\n",
    "\n",
    "R can handle a number of types of data, including numbers and text. In R, the text is refered to as character strings and is always wrapped in double quotation marks. In other words, if something is inside quotation marks, it is treated as text.\n",
    "\n",
    "R has a number of functions avaliable for manipulating text."
   ]
  },
  {
   "cell_type": "code",
   "execution_count": 23,
   "metadata": {
    "collapsed": true
   },
   "outputs": [],
   "source": [
    "# create simulated district crime name\n",
    "district <- factor(c(\"NORTH\", \"NORTHWEST\", \"CENTRAL\", \"SOUTH\", \"SOUTHWEST\", \"WESTERN\"))"
   ]
  },
  {
   "cell_type": "markdown",
   "metadata": {},
   "source": [
    "## Count the number of characters in each individual character string in an object"
   ]
  },
  {
   "cell_type": "code",
   "execution_count": 24,
   "metadata": {
    "collapsed": false
   },
   "outputs": [
    {
     "data": {
      "text/plain": [
       "[1] \"CENTRAL\"   \"NORTH\"     \"NORTHWEST\" \"SOUTH\"     \"SOUTHWEST\" \"WESTERN\"  "
      ]
     },
     "execution_count": 24,
     "metadata": {},
     "output_type": "execute_result"
    }
   ],
   "source": [
    "# display each district's name\n",
    "levels(district) "
   ]
  },
  {
   "cell_type": "markdown",
   "metadata": {},
   "source": [
    "## You can also display text without quotes, although it is rare you would want to do so."
   ]
  },
  {
   "cell_type": "code",
   "execution_count": 25,
   "metadata": {
    "collapsed": false
   },
   "outputs": [
    {
     "data": {
      "text/plain": [
       "[1] \"CENTRAL\"   \"NORTH\"     \"NORTHWEST\" \"SOUTH\"     \"SOUTHWEST\" \"WESTERN\"  "
      ]
     },
     "execution_count": 25,
     "metadata": {},
     "output_type": "execute_result"
    }
   ],
   "source": [
    "# display each police district's name\n",
    "levels(district) "
   ]
  },
  {
   "cell_type": "code",
   "execution_count": 26,
   "metadata": {
    "collapsed": false
   },
   "outputs": [
    {
     "data": {
      "text/plain": [
       "[1] CENTRAL   NORTH     NORTHWEST SOUTH     SOUTHWEST WESTERN  "
      ]
     },
     "execution_count": 26,
     "metadata": {},
     "output_type": "execute_result"
    }
   ],
   "source": [
    "# display each police district's name without quotes\n",
    "noquote(levels(district)) "
   ]
  },
  {
   "cell_type": "markdown",
   "metadata": {},
   "source": [
    "## R can add characters to a vector of character strings using the paste function"
   ]
  },
  {
   "cell_type": "code",
   "execution_count": 27,
   "metadata": {
    "collapsed": false
   },
   "outputs": [
    {
     "data": {
      "text/plain": [
       "[1] \"CENTRAL DISTRICT\"   \"NORTH DISTRICT\"     \"NORTHWEST DISTRICT\"\n",
       "[4] \"SOUTH DISTRICT\"     \"SOUTHWEST DISTRICT\" \"WESTERN DISTRICT\"  "
      ]
     },
     "execution_count": 27,
     "metadata": {},
     "output_type": "execute_result"
    }
   ],
   "source": [
    "# Add \"DISTRICT\" to the name of each police district\n",
    "paste(levels(district), \"DISTRICT\") "
   ]
  },
  {
   "cell_type": "markdown",
   "metadata": {},
   "source": [
    "## Extracting Segments Of Character Strings using Substring Function"
   ]
  },
  {
   "cell_type": "code",
   "execution_count": 28,
   "metadata": {
    "collapsed": false
   },
   "outputs": [
    {
     "data": {
      "text/plain": [
       "[1] \"NORTH\" \"NORTH\" \"CENTR\" \"SOUTH\" \"SOUTH\" \"WESTE\""
      ]
     },
     "execution_count": 28,
     "metadata": {},
     "output_type": "execute_result"
    }
   ],
   "source": [
    "# Extract characters from district names, starting at the 1st character and ending at the 5th character\n",
    "substr(district, 1, 5) "
   ]
  }
 ],
 "metadata": {
  "kernelspec": {
   "display_name": "R",
   "language": "",
   "name": "ir"
  },
  "language_info": {
   "codemirror_mode": "r",
   "file_extension": ".r",
   "mimetype": "text/x-r-source",
   "name": "R",
   "pygments_lexer": "r"
  }
 },
 "nbformat": 4,
 "nbformat_minor": 0
}
