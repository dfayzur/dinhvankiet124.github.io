{
 "cells": [
  {
   "cell_type": "markdown",
   "metadata": {},
   "source": [
    "# Importing a JSON file into R"
   ]
  },
  {
   "cell_type": "markdown",
   "metadata": {},
   "source": [
    "Source: http://stackoverflow.com/questions/13004813/downloading-json-data-into-r?lq=1"
   ]
  },
  {
   "cell_type": "code",
   "execution_count": null,
   "metadata": {
    "collapsed": true
   },
   "outputs": [],
   "source": [
    "# Load libraries\n",
    "library(RJSONIO)\n",
    "library(RCurl)"
   ]
  },
  {
   "cell_type": "code",
   "execution_count": null,
   "metadata": {
    "collapsed": true
   },
   "outputs": [],
   "source": [
    "# grab the data\n",
    "raw_data <- getURL(\"http://swapi.co/api/people/1/?format=json\")"
   ]
  },
  {
   "cell_type": "code",
   "execution_count": null,
   "metadata": {
    "collapsed": true
   },
   "outputs": [],
   "source": [
    "# Then covert from JSON into a list in R\n",
    "data <- fromJSON(raw_data)\n",
    "length(data)"
   ]
  },
  {
   "cell_type": "code",
   "execution_count": null,
   "metadata": {
    "collapsed": true
   },
   "outputs": [],
   "source": [
    "# We can coerce this to a data.frame\n",
    "final_data <- do.call(rbind, data)"
   ]
  },
  {
   "cell_type": "code",
   "execution_count": 23,
   "metadata": {
    "collapsed": false
   },
   "outputs": [
    {
     "data": {
      "text/plain": [
       "[1] 16"
      ]
     },
     "execution_count": 23,
     "metadata": {},
     "output_type": "execute_result"
    }
   ],
   "source": [
    "# Then write it to a flat csv file\n",
    "# write.csv(final_data, \"final_data.csv\")"
   ]
  },
  {
   "cell_type": "code",
   "execution_count": 24,
   "metadata": {
    "collapsed": false
   },
   "outputs": [
    {
     "data": {
      "text/plain": [
       "           [,1]                               \n",
       "name       \"Luke Skywalker\"                   \n",
       "height     \"172\"                              \n",
       "mass       \"77\"                               \n",
       "hair_color \"blond\"                            \n",
       "skin_color \"fair\"                             \n",
       "eye_color  \"blue\"                             \n",
       "birth_year \"19BBY\"                            \n",
       "gender     \"male\"                             \n",
       "homeworld  \"http://swapi.co/api/planets/1/\"   \n",
       "films      \"http://swapi.co/api/films/1/\"     \n",
       "species    \"http://swapi.co/api/species/1/\"   \n",
       "vehicles   \"http://swapi.co/api/vehicles/14/\" \n",
       "starships  \"http://swapi.co/api/starships/12/\"\n",
       "created    \"2014-12-09T13:50:51.644000Z\"      \n",
       "edited     \"2014-12-20T21:17:56.891000Z\"      \n",
       "url        \"http://swapi.co/api/people/1/\"    \n",
       "           [,2]                               \n",
       "name       \"Luke Skywalker\"                   \n",
       "height     \"172\"                              \n",
       "mass       \"77\"                               \n",
       "hair_color \"blond\"                            \n",
       "skin_color \"fair\"                             \n",
       "eye_color  \"blue\"                             \n",
       "birth_year \"19BBY\"                            \n",
       "gender     \"male\"                             \n",
       "homeworld  \"http://swapi.co/api/planets/1/\"   \n",
       "films      \"http://swapi.co/api/films/2/\"     \n",
       "species    \"http://swapi.co/api/species/1/\"   \n",
       "vehicles   \"http://swapi.co/api/vehicles/30/\" \n",
       "starships  \"http://swapi.co/api/starships/22/\"\n",
       "created    \"2014-12-09T13:50:51.644000Z\"      \n",
       "edited     \"2014-12-20T21:17:56.891000Z\"      \n",
       "url        \"http://swapi.co/api/people/1/\"    \n",
       "           [,3]                               \n",
       "name       \"Luke Skywalker\"                   \n",
       "height     \"172\"                              \n",
       "mass       \"77\"                               \n",
       "hair_color \"blond\"                            \n",
       "skin_color \"fair\"                             \n",
       "eye_color  \"blue\"                             \n",
       "birth_year \"19BBY\"                            \n",
       "gender     \"male\"                             \n",
       "homeworld  \"http://swapi.co/api/planets/1/\"   \n",
       "films      \"http://swapi.co/api/films/3/\"     \n",
       "species    \"http://swapi.co/api/species/1/\"   \n",
       "vehicles   \"http://swapi.co/api/vehicles/14/\" \n",
       "starships  \"http://swapi.co/api/starships/12/\"\n",
       "created    \"2014-12-09T13:50:51.644000Z\"      \n",
       "edited     \"2014-12-20T21:17:56.891000Z\"      \n",
       "url        \"http://swapi.co/api/people/1/\"    \n",
       "           [,4]                               \n",
       "name       \"Luke Skywalker\"                   \n",
       "height     \"172\"                              \n",
       "mass       \"77\"                               \n",
       "hair_color \"blond\"                            \n",
       "skin_color \"fair\"                             \n",
       "eye_color  \"blue\"                             \n",
       "birth_year \"19BBY\"                            \n",
       "gender     \"male\"                             \n",
       "homeworld  \"http://swapi.co/api/planets/1/\"   \n",
       "films      \"http://swapi.co/api/films/6/\"     \n",
       "species    \"http://swapi.co/api/species/1/\"   \n",
       "vehicles   \"http://swapi.co/api/vehicles/30/\" \n",
       "starships  \"http://swapi.co/api/starships/22/\"\n",
       "created    \"2014-12-09T13:50:51.644000Z\"      \n",
       "edited     \"2014-12-20T21:17:56.891000Z\"      \n",
       "url        \"http://swapi.co/api/people/1/\"    "
      ]
     },
     "execution_count": 24,
     "metadata": {},
     "output_type": "execute_result"
    }
   ],
   "source": [
    "final_data"
   ]
  }
 ],
 "metadata": {
  "kernelspec": {
   "display_name": "R",
   "language": "",
   "name": "ir"
  },
  "language_info": {
   "codemirror_mode": "r",
   "file_extension": ".r",
   "mimetype": "text/x-r-source",
   "name": "R",
   "pygments_lexer": "r"
  }
 },
 "nbformat": 4,
 "nbformat_minor": 0
}
