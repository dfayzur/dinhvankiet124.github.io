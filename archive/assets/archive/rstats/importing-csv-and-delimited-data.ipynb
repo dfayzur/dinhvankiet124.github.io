{
 "cells": [
  {
   "cell_type": "markdown",
   "metadata": {},
   "source": [
    "# Importing CSV and Delimited Data\n",
    "Original source: Learning R\n",
    "\n",
    "**Note: This tutorial won't work until you change the URL to the CSV and remove the comment tags.**"
   ]
  },
  {
   "cell_type": "code",
   "execution_count": 10,
   "metadata": {
    "collapsed": false
   },
   "outputs": [],
   "source": [
    "# Flat Files Offline\n",
    "# testdata <- read.table(\"d:/data/mydata.dat\", header=TRUE) # valid"
   ]
  },
  {
   "cell_type": "code",
   "execution_count": 11,
   "metadata": {
    "collapsed": true
   },
   "outputs": [],
   "source": [
    "## Read.csv is like read.table but the default seperator and adds a header"
   ]
  },
  {
   "cell_type": "code",
   "execution_count": 12,
   "metadata": {
    "collapsed": false
   },
   "outputs": [],
   "source": [
    "# Flat File Online\n",
    "# testdata2 <- read.table(\"http://science.nature.nps.gov/im/monitor/stats/R/data/ MyData.csv\", header=TRUE, sep=\",\")"
   ]
  },
  {
   "cell_type": "code",
   "execution_count": 13,
   "metadata": {
    "collapsed": false
   },
   "outputs": [],
   "source": [
    "# Specify . As Denoting A Missing Value\n",
    "# testdata <- read.table(\"mydata.csv\", header=TRUE, sep=\",\", na.strings=\".\")"
   ]
  }
 ],
 "metadata": {
  "kernelspec": {
   "display_name": "R",
   "language": "",
   "name": "ir"
  },
  "language_info": {
   "codemirror_mode": "r",
   "file_extension": ".r",
   "mimetype": "text/x-r-source",
   "name": "R",
   "pygments_lexer": "r"
  }
 },
 "nbformat": 4,
 "nbformat_minor": 0
}
