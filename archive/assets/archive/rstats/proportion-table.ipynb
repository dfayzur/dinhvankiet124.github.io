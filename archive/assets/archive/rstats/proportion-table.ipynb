{
 "cells": [
  {
   "cell_type": "markdown",
   "metadata": {},
   "source": [
    "# Proporton Table\n",
    "Original source: The R Book"
   ]
  },
  {
   "cell_type": "code",
   "execution_count": 1,
   "metadata": {
    "collapsed": false
   },
   "outputs": [
    {
     "data": {
      "text/plain": [
       "     [,1] [,2] [,3] [,4] [,5]\n",
       "[1,]   77   79   14   94    7\n",
       "[2,]  100   54   86   28   60\n",
       "[3,]   38   99   77   84   81\n",
       "[4,]   75   93   19   21   39"
      ]
     },
     "execution_count": 1,
     "metadata": {},
     "output_type": "execute_result"
    }
   ],
   "source": [
    "# create a matrix of simulated count data\n",
    "counts <- matrix(sample(1:100, 20, replace=T), nrow=4); counts"
   ]
  },
  {
   "cell_type": "code",
   "execution_count": 2,
   "metadata": {
    "collapsed": false
   },
   "outputs": [
    {
     "data": {
      "text/plain": [
       "          [,1]      [,2]       [,3]       [,4]       [,5]\n",
       "[1,] 0.2841328 0.2915129 0.05166052 0.34686347 0.02583026\n",
       "[2,] 0.3048780 0.1646341 0.26219512 0.08536585 0.18292683\n",
       "[3,] 0.1002639 0.2612137 0.20316623 0.22163588 0.21372032\n",
       "[4,] 0.3036437 0.3765182 0.07692308 0.08502024 0.15789474"
      ]
     },
     "execution_count": 2,
     "metadata": {},
     "output_type": "execute_result"
    }
   ],
   "source": [
    "# calculate each cell's proportion of the entire row's total counts\n",
    "prop.table(counts,1)"
   ]
  },
  {
   "cell_type": "code",
   "execution_count": 3,
   "metadata": {
    "collapsed": false
   },
   "outputs": [
    {
     "data": {
      "text/plain": [
       "          [,1]      [,2]       [,3]       [,4]       [,5]\n",
       "[1,] 0.2655172 0.2430769 0.07142857 0.41409692 0.03743316\n",
       "[2,] 0.3448276 0.1661538 0.43877551 0.12334802 0.32085561\n",
       "[3,] 0.1310345 0.3046154 0.39285714 0.37004405 0.43315508\n",
       "[4,] 0.2586207 0.2861538 0.09693878 0.09251101 0.20855615"
      ]
     },
     "execution_count": 3,
     "metadata": {},
     "output_type": "execute_result"
    }
   ],
   "source": [
    "# calculate each cell's proportion of the entire columns's total counts\n",
    "prop.table(counts,2)"
   ]
  }
 ],
 "metadata": {
  "kernelspec": {
   "display_name": "R",
   "language": "",
   "name": "ir"
  },
  "language_info": {
   "codemirror_mode": "r",
   "file_extension": ".r",
   "mimetype": "text/x-r-source",
   "name": "R",
   "pygments_lexer": "r"
  }
 },
 "nbformat": 4,
 "nbformat_minor": 0
}
