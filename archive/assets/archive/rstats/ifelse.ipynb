{
 "cells": [
  {
   "cell_type": "markdown",
   "metadata": {},
   "source": [
    "# Using ifelse"
   ]
  },
  {
   "cell_type": "code",
   "execution_count": 1,
   "metadata": {
    "collapsed": true
   },
   "outputs": [],
   "source": [
    "# create some simulated data\n",
    "ID <- 1:10\n",
    "Age <- c(26, 65, 15, 7, 88, 43, 28, 66 ,45, 12)\n",
    "Sex <- c(1, 0, 1, 1, 0 ,1, 1, 1, 0, 1)\n",
    "Weight <- c(132, 122, 184, 145, 118, NA, 128, 154, 166, 164)\n",
    "Height <- c(60, 63, 57, 59, 64, NA, 67, 65, NA, 60)\n",
    "Married <- c(0, 0, 0, 0, 0, 0, 1, 1, 0, 1)"
   ]
  },
  {
   "cell_type": "code",
   "execution_count": 2,
   "metadata": {
    "collapsed": true
   },
   "outputs": [],
   "source": [
    "# create a dataframe of the simulated data\n",
    "mydata <- data.frame(ID, Age, Sex, Weight, Height, Married)"
   ]
  },
  {
   "cell_type": "markdown",
   "metadata": {},
   "source": [
    "## Simple example"
   ]
  },
  {
   "cell_type": "code",
   "execution_count": 3,
   "metadata": {
    "collapsed": true
   },
   "outputs": [],
   "source": [
    "# create a new variable called Old that, if Age is greater than 40, is 1, else the value is 0\n",
    "mydata$Old<-ifelse(mydata$Age>40,1,0)"
   ]
  },
  {
   "cell_type": "markdown",
   "metadata": {},
   "source": [
    "## Nested ifelse() allows us to have more than 1 ruleset"
   ]
  },
  {
   "cell_type": "code",
   "execution_count": 4,
   "metadata": {
    "collapsed": true
   },
   "outputs": [],
   "source": [
    "# create a new variable called Agegroup2. If Age is greater than 10 and less than 20, Agegroup 2 will have a value of 1. If not, it executes a new ifelse that if Age is over 20, codes the value as 2, else 0.\n",
    "mydata$Agegroup2<-ifelse(mydata$Age>10 & mydata$Age<20,1,     \n",
    "                         ifelse(mydata$Age>20, 2,0))"
   ]
  },
  {
   "cell_type": "code",
   "execution_count": 5,
   "metadata": {
    "collapsed": true
   },
   "outputs": [],
   "source": [
    "# create a new variable called Height.recode. if Height is missing, then 9999, else, keep Height's original value\n",
    "mydata$Height.recode<-ifelse(is.na(mydata$Height),\n",
    "                             9999, \n",
    "                             mydata$Height)"
   ]
  }
 ],
 "metadata": {
  "kernelspec": {
   "display_name": "R",
   "language": "",
   "name": "ir"
  },
  "language_info": {
   "codemirror_mode": "r",
   "file_extension": ".r",
   "mimetype": "text/x-r-source",
   "name": "R",
   "pygments_lexer": "r"
  }
 },
 "nbformat": 4,
 "nbformat_minor": 0
}
