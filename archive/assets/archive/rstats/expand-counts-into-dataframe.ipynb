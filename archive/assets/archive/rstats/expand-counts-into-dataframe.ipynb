{
 "cells": [
  {
   "cell_type": "markdown",
   "metadata": {},
   "source": [
    "# Expand A Table Of Counts Into A Dataframe\n",
    "Original source: The R Book"
   ]
  },
  {
   "cell_type": "code",
   "execution_count": 1,
   "metadata": {
    "collapsed": true
   },
   "outputs": [],
   "source": [
    "# create a dataframe of simulated values\n",
    "count <- c(2, 3, 4, 1)\n",
    "sex <- c(\"male\", \"female\", \"male\", \"female\")\n",
    "nationality <- c(\"USA\", \"USA\", \"UK\", \"UK\")\n",
    "data.df <- data.frame(count, sex, nationality)\n",
    "rm(count, sex, nationality)"
   ]
  },
  {
   "cell_type": "code",
   "execution_count": 2,
   "metadata": {
    "collapsed": true
   },
   "outputs": [],
   "source": [
    "# apply a function that repeats a row the number of times it appears in data.df$count\n",
    "data.expand <- lapply(data.df,function(x)rep(x, data.df$count))"
   ]
  },
  {
   "cell_type": "code",
   "execution_count": 3,
   "metadata": {
    "collapsed": true
   },
   "outputs": [],
   "source": [
    "# convert it to a data frame\n",
    "data.expand.df <- as.data.frame(data.expand)"
   ]
  },
  {
   "cell_type": "code",
   "execution_count": 4,
   "metadata": {
    "collapsed": false
   },
   "outputs": [
    {
     "data": {
      "text/plain": [
       "      sex nationality\n",
       "1    male         USA\n",
       "2    male         USA\n",
       "3  female         USA\n",
       "4  female         USA\n",
       "5  female         USA\n",
       "6    male          UK\n",
       "7    male          UK\n",
       "8    male          UK\n",
       "9    male          UK\n",
       "10 female          UK"
      ]
     },
     "execution_count": 4,
     "metadata": {},
     "output_type": "execute_result"
    }
   ],
   "source": [
    "# remove the no-longer-needed count column\n",
    "data.expand.df <- data.expand.df[,-1]; data.expand.df"
   ]
  }
 ],
 "metadata": {
  "kernelspec": {
   "display_name": "R",
   "language": "",
   "name": "ir"
  },
  "language_info": {
   "codemirror_mode": "r",
   "file_extension": ".r",
   "mimetype": "text/x-r-source",
   "name": "R",
   "pygments_lexer": "r"
  }
 },
 "nbformat": 4,
 "nbformat_minor": 0
}
