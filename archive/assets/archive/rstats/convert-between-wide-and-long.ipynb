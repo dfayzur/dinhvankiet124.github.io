{
 "cells": [
  {
   "cell_type": "markdown",
   "metadata": {},
   "source": [
    "# Converting Between Wide And Long Form Data\n",
    "Original Source: Learning R"
   ]
  },
  {
   "cell_type": "code",
   "execution_count": 6,
   "metadata": {
    "collapsed": true
   },
   "outputs": [],
   "source": [
    "# Load the reshape library\n",
    "library(reshape2)"
   ]
  },
  {
   "cell_type": "code",
   "execution_count": 7,
   "metadata": {
    "collapsed": true
   },
   "outputs": [],
   "source": [
    "# Generate five subjects, each with five measurements\n",
    "name <- c(\"Jack\", \"Jill\", \"Steve\", \"Jake\", \"Bill\")\n",
    "obs1 <- runif(5)\n",
    "obs2 <- runif(5)\n",
    "obs3 <- runif(5)\n",
    "obs4 <- runif(5)\n",
    "obs5 <- runif(5)"
   ]
  },
  {
   "cell_type": "code",
   "execution_count": 8,
   "metadata": {
    "collapsed": true
   },
   "outputs": [],
   "source": [
    "# create a wide form data frame. That is, one row per person, one column per measurement\n",
    "survey.wide <- data.frame(name, obs1, obs2, obs3, obs4, obs5)"
   ]
  },
  {
   "cell_type": "code",
   "execution_count": 9,
   "metadata": {
    "collapsed": true
   },
   "outputs": [],
   "source": [
    "# convert from wide to long. id.vars denotes the variable to make the transition by and measure.vars denotes the variables to flip\n",
    "survey.long <- melt(survey.wide, id.vars = \"name\", measure.vars = c(\"obs1\", \"obs2\", \"obs3\", \"obs4\", \"obs5\"))"
   ]
  },
  {
   "cell_type": "code",
   "execution_count": 10,
   "metadata": {
    "collapsed": false
   },
   "outputs": [
    {
     "data": {
      "text/plain": [
       "    name variable      value\n",
       "1   Jack     obs1 0.74041288\n",
       "2   Jill     obs1 0.52529347\n",
       "3  Steve     obs1 0.97317970\n",
       "4   Jake     obs1 0.85910345\n",
       "5   Bill     obs1 0.55121888\n",
       "6   Jack     obs2 0.03121784\n",
       "7   Jill     obs2 0.30319273\n",
       "8  Steve     obs2 0.05282432\n",
       "9   Jake     obs2 0.31912928\n",
       "10  Bill     obs2 0.15419403\n",
       "11  Jack     obs3 0.11751059\n",
       "12  Jill     obs3 0.15045148\n",
       "13 Steve     obs3 0.45201750\n",
       "14  Jake     obs3 0.99880524\n",
       "15  Bill     obs3 0.73128530\n",
       "16  Jack     obs4 0.09517355\n",
       "17  Jill     obs4 0.97003014\n",
       "18 Steve     obs4 0.57478533\n",
       "19  Jake     obs4 0.68951869\n",
       "20  Bill     obs4 0.17464191\n",
       "21  Jack     obs5 0.85086481\n",
       "22  Jill     obs5 0.45689664\n",
       "23 Steve     obs5 0.80029436\n",
       "24  Jake     obs5 0.14644067\n",
       "25  Bill     obs5 0.36649096"
      ]
     },
     "execution_count": 10,
     "metadata": {},
     "output_type": "execute_result"
    }
   ],
   "source": [
    "survey.long"
   ]
  },
  {
   "cell_type": "code",
   "execution_count": 11,
   "metadata": {
    "collapsed": true
   },
   "outputs": [],
   "source": [
    "# convert long to wide\n",
    "survey.wide.2 <- dcast(survey.long, name ~ variable)"
   ]
  },
  {
   "cell_type": "code",
   "execution_count": 12,
   "metadata": {
    "collapsed": false
   },
   "outputs": [
    {
     "data": {
      "text/plain": [
       "   name      obs1       obs2      obs3       obs4      obs5\n",
       "1  Bill 0.5512189 0.15419403 0.7312853 0.17464191 0.3664910\n",
       "2  Jack 0.7404129 0.03121784 0.1175106 0.09517355 0.8508648\n",
       "3  Jake 0.8591035 0.31912928 0.9988052 0.68951869 0.1464407\n",
       "4  Jill 0.5252935 0.30319273 0.1504515 0.97003014 0.4568966\n",
       "5 Steve 0.9731797 0.05282432 0.4520175 0.57478533 0.8002944"
      ]
     },
     "execution_count": 12,
     "metadata": {},
     "output_type": "execute_result"
    }
   ],
   "source": [
    "survey.wide.2"
   ]
  }
 ],
 "metadata": {
  "kernelspec": {
   "display_name": "R",
   "language": "",
   "name": "ir"
  },
  "language_info": {
   "codemirror_mode": "r",
   "file_extension": ".r",
   "mimetype": "text/x-r-source",
   "name": "R",
   "pygments_lexer": "r"
  }
 },
 "nbformat": 4,
 "nbformat_minor": 0
}
