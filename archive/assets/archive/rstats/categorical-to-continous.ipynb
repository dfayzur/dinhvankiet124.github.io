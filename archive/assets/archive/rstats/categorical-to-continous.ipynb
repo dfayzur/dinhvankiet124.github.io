{
 "cells": [
  {
   "cell_type": "markdown",
   "metadata": {},
   "source": [
    "# Converting Categorical Variables To Continuous\n",
    "Original source: Learning R"
   ]
  },
  {
   "cell_type": "code",
   "execution_count": 1,
   "metadata": {
    "collapsed": true
   },
   "outputs": [],
   "source": [
    "# Create some dirty data that because of the mispelling is imported as a character string\n",
    "dirty <- data.frame(x <- c(\"1.23\", \"4..56\", \"7.89\"))"
   ]
  },
  {
   "cell_type": "code",
   "execution_count": 2,
   "metadata": {
    "collapsed": false
   },
   "outputs": [
    {
     "name": "stderr",
     "output_type": "stream",
     "text": [
      "Warning message:\n",
      "In factor_to_numeric(dirty$x): NAs introduced by coercion"
     ]
    },
    {
     "data": {
      "text/plain": [
       "[1] 1.23   NA 7.89"
      ]
     },
     "execution_count": 2,
     "metadata": {},
     "output_type": "execute_result"
    }
   ],
   "source": [
    "# Convert the elements to numeric\n",
    "factor_to_numeric <- function(f)\n",
    "{\n",
    "  as.numeric(levels(f))[as.integer(f)]  \n",
    "}\n",
    "\n",
    "# The data is converted, but the 4..56 is treated as an NA\n",
    "factor_to_numeric(dirty$x)"
   ]
  }
 ],
 "metadata": {
  "kernelspec": {
   "display_name": "R",
   "language": "",
   "name": "ir"
  },
  "language_info": {
   "codemirror_mode": "r",
   "file_extension": ".r",
   "mimetype": "text/x-r-source",
   "name": "R",
   "pygments_lexer": "r"
  }
 },
 "nbformat": 4,
 "nbformat_minor": 0
}
