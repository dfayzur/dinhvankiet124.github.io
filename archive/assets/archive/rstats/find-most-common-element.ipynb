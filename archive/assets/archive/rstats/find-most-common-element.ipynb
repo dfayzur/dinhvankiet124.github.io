{
 "cells": [
  {
   "cell_type": "markdown",
   "metadata": {},
   "source": [
    "# Finding the most common element\n",
    "Original source: http://www.unc.edu/~jasperlm/Rsnippets.html"
   ]
  },
  {
   "cell_type": "code",
   "execution_count": 1,
   "metadata": {
    "collapsed": true
   },
   "outputs": [],
   "source": [
    "# Create a list of wars\n",
    "wars <- c(\"Spanish Civil War\", \"Spanish Civil War\", \"Spanish Civil War\", \"Spanish Civil War\", \"WWII\", \"WWII\")"
   ]
  },
  {
   "cell_type": "code",
   "execution_count": 2,
   "metadata": {
    "collapsed": true
   },
   "outputs": [],
   "source": [
    "# Create a function that finds the most common element in an object\n",
    "most.common <- function(x) {\n",
    "  count <- sapply(unique(x), function(i) sum(x==i, na.rm=TRUE))\n",
    "  unique(x)[which(count==max(count))]\n",
    "}"
   ]
  },
  {
   "cell_type": "code",
   "execution_count": 3,
   "metadata": {
    "collapsed": false
   },
   "outputs": [
    {
     "data": {
      "text/plain": [
       "[1] \"Spanish Civil War\""
      ]
     },
     "execution_count": 3,
     "metadata": {},
     "output_type": "execute_result"
    }
   ],
   "source": [
    "# Run the function on the list of wars\n",
    "most.common(wars)"
   ]
  }
 ],
 "metadata": {
  "kernelspec": {
   "display_name": "R",
   "language": "",
   "name": "ir"
  },
  "language_info": {
   "codemirror_mode": "r",
   "file_extension": ".r",
   "mimetype": "text/x-r-source",
   "name": "R",
   "pygments_lexer": "r"
  }
 },
 "nbformat": 4,
 "nbformat_minor": 0
}
