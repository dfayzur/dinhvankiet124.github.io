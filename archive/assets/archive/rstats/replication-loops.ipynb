{
 "cells": [
  {
   "cell_type": "markdown",
   "metadata": {},
   "source": [
    "# Loops With Replicate\n",
    "Original source: Learning R"
   ]
  },
  {
   "cell_type": "markdown",
   "metadata": {},
   "source": [
    "Replicate applies an action individually to every element of a vector"
   ]
  },
  {
   "cell_type": "code",
   "execution_count": 5,
   "metadata": {
    "collapsed": false
   },
   "outputs": [
    {
     "data": {
      "text/plain": [
       "[1] 0.2769136 0.8304662 0.5407557 0.8074367 0.2867881"
      ]
     },
     "execution_count": 5,
     "metadata": {},
     "output_type": "execute_result"
    }
   ],
   "source": [
    "# Run runif(1) five times\n",
    "replicate(5, runif(1))"
   ]
  },
  {
   "cell_type": "markdown",
   "metadata": {},
   "source": [
    "The below more complicated example, we create a function that first chooses a method of transportation and then based on what method of transport was selection, calculates a travel time based on that method of transport (hence the switch function). rnorm and rlnorm are simply what the example uses to create fake travel time data"
   ]
  },
  {
   "cell_type": "code",
   "execution_count": 6,
   "metadata": {
    "collapsed": true
   },
   "outputs": [],
   "source": [
    "time_for_commute <- function() {\n",
    "  #Choose a mode of transport for the day\n",
    "  mode_of_transport <- sample(\n",
    "    c(\"car\", \"bus\", \"train\", \"bike\"),\n",
    "    size = 1,\n",
    "    prob = c(0.1, 0.2, 0.3, 0.4)\n",
    "  )\n",
    "  #Find the time to travel, depending upon mode of transport\n",
    "  time <- switch(\n",
    "    mode_of_transport,\n",
    "    car   = rlnorm(1, log(30), 0.5),\n",
    "    bus   = rlnorm(1, log(40), 0.5),\n",
    "    train = rnorm(1, 30, 10),\n",
    "    bike  = rnorm(1, 60, 5)\n",
    "  )\n",
    "  names(time) <- mode_of_transport\n",
    "  time\n",
    "}"
   ]
  },
  {
   "cell_type": "code",
   "execution_count": 7,
   "metadata": {
    "collapsed": false
   },
   "outputs": [
    {
     "data": {
      "text/plain": [
       "    bike \n",
       "60.55362 "
      ]
     },
     "execution_count": 7,
     "metadata": {},
     "output_type": "execute_result"
    }
   ],
   "source": [
    "# Run the function\n",
    "time_for_commute()"
   ]
  },
  {
   "cell_type": "code",
   "execution_count": 8,
   "metadata": {
    "collapsed": false
   },
   "outputs": [
    {
     "data": {
      "text/plain": [
       "    bike      bus    train    train     bike \n",
       "65.26913 71.15877 23.13382 29.23679 58.59026 "
      ]
     },
     "execution_count": 8,
     "metadata": {},
     "output_type": "execute_result"
    }
   ],
   "source": [
    "# Run the function five times\n",
    "replicate(5, time_for_commute())"
   ]
  }
 ],
 "metadata": {
  "kernelspec": {
   "display_name": "R",
   "language": "",
   "name": "ir"
  },
  "language_info": {
   "codemirror_mode": "r",
   "file_extension": ".r",
   "mimetype": "text/x-r-source",
   "name": "R",
   "pygments_lexer": "r"
  }
 },
 "nbformat": 4,
 "nbformat_minor": 0
}
