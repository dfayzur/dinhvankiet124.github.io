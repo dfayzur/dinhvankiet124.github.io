{
 "cells": [
  {
   "cell_type": "markdown",
   "metadata": {},
   "source": [
    "# Simple Random Sampling Of Rows"
   ]
  },
  {
   "cell_type": "code",
   "execution_count": 5,
   "metadata": {
    "collapsed": true
   },
   "outputs": [],
   "source": [
    "# create a dataframe with simulated values\n",
    "x <- runif(1000)\n",
    "y <- runif(1000)\n",
    "z <- runif(1000)\n",
    "a <- runif(1000)\n",
    "df <- data.frame(x, y, z, a)"
   ]
  },
  {
   "cell_type": "code",
   "execution_count": 6,
   "metadata": {
    "collapsed": true
   },
   "outputs": [],
   "source": [
    "# create a vector of weighs\n",
    "w <- runif(1000)"
   ]
  },
  {
   "cell_type": "code",
   "execution_count": 7,
   "metadata": {
    "collapsed": true
   },
   "outputs": [],
   "source": [
    "# sample 10 rows of the dataframe at pseudorandom, without replacement\n",
    "sample <- df[sample(1:nrow(df), 10, replace = F),]"
   ]
  },
  {
   "cell_type": "code",
   "execution_count": 8,
   "metadata": {
    "collapsed": false
   },
   "outputs": [
    {
     "data": {
      "text/plain": [
       "             x         y          z           a\n",
       "500 0.44885287 0.7228785 0.11504159 0.054208551\n",
       "980 0.08392782 0.4568137 0.04393736 0.639204705\n",
       "445 0.48527409 0.9822628 0.37823768 0.410292231\n",
       "734 0.54769226 0.8992187 0.58030521 0.178938602\n",
       "177 0.43245083 0.9172805 0.02955689 0.743852472\n",
       "266 0.94394635 0.7638428 0.43960561 0.942814638\n",
       "256 0.77091541 0.2714964 0.49622060 0.009319224\n",
       "944 0.92682962 0.4278643 0.87805822 0.283003822\n",
       "492 0.84598479 0.7312344 0.02114653 0.366224907\n",
       "409 0.71072941 0.8280846 0.03118358 0.196112987"
      ]
     },
     "execution_count": 8,
     "metadata": {},
     "output_type": "execute_result"
    }
   ],
   "source": [
    "sample"
   ]
  },
  {
   "cell_type": "code",
   "execution_count": 9,
   "metadata": {
    "collapsed": true
   },
   "outputs": [],
   "source": [
    "# sample 10 rows of the dataframe at pseudorandom, without replacement, with the selection of reach row weighted by w (note w doesn't need to add up to 1)\n",
    "sample.weighted <- df[sample(1:nrow(df), 10, replace = F, prob = w),]"
   ]
  },
  {
   "cell_type": "code",
   "execution_count": 10,
   "metadata": {
    "collapsed": false
   },
   "outputs": [
    {
     "data": {
      "text/plain": [
       "             x         y         z         a\n",
       "588 0.42359291 0.7747600 0.3443440 0.7502456\n",
       "417 0.23503932 0.2448383 0.8961582 0.2380380\n",
       "997 0.05755856 0.1587866 0.8144725 0.3183274\n",
       "789 0.46962589 0.5453313 0.3952169 0.5651571\n",
       "646 0.74493118 0.5151418 0.8717189 0.8330892\n",
       "231 0.60350137 0.2860977 0.8010951 0.7727321\n",
       "957 0.11192911 0.8962056 0.1051003 0.7203017\n",
       "947 0.38530976 0.7359524 0.1379156 0.7036205\n",
       "101 0.32523590 0.8928368 0.2648167 0.8808521\n",
       "208 0.84037450 0.8692373 0.5897262 0.2414655"
      ]
     },
     "execution_count": 10,
     "metadata": {},
     "output_type": "execute_result"
    }
   ],
   "source": [
    "sample.weighted"
   ]
  }
 ],
 "metadata": {
  "kernelspec": {
   "display_name": "R",
   "language": "",
   "name": "ir"
  },
  "language_info": {
   "codemirror_mode": "r",
   "file_extension": ".r",
   "mimetype": "text/x-r-source",
   "name": "R",
   "pygments_lexer": "r"
  }
 },
 "nbformat": 4,
 "nbformat_minor": 0
}
