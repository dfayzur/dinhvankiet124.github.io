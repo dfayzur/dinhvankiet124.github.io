{
 "cells": [
  {
   "cell_type": "markdown",
   "metadata": {},
   "source": [
    "# Time and Dates in R\n",
    "Original source: http://rforpublichealth.blogspot.com/2013/07/lets-make-date-date-and-time-classes-in.html"
   ]
  },
  {
   "cell_type": "code",
   "execution_count": 32,
   "metadata": {
    "collapsed": true
   },
   "outputs": [],
   "source": [
    "# create some simulated date data\n",
    "dates<-as.data.frame(cbind(\n",
    "  c(1,3,6,11,4,12,5,3), \n",
    "  c(30,14,NA,NA,16,NA,20,31), \n",
    "  c(1980, 1980, 1980, 1983,1983, 1983, 1986, 1980), \n",
    "  c(2, NA, NA, NA, NA, 12, 4, NA), \n",
    "  c(2, NA, NA, NA, NA, NA, 29, NA), \n",
    "  c(1980, NA, NA, 1985, NA, 1983, 1987, NA)))"
   ]
  },
  {
   "cell_type": "code",
   "execution_count": 33,
   "metadata": {
    "collapsed": true
   },
   "outputs": [],
   "source": [
    "# add column names to the data frame\n",
    "colnames(dates)<-c(\"birth_month\", \"birth_day\", \"birth_year\", \"death_month\", \"death_day\", \"death_year\")"
   ]
  },
  {
   "cell_type": "markdown",
   "metadata": {},
   "source": [
    "Dates can be easily manipulated if they are converted into ISO format\n",
    "\n",
    "ISO format uses the function: ISOdate(year, month, day, hour = 12, min = 0, sec = 0, tz = “GMT”)"
   ]
  },
  {
   "cell_type": "code",
   "execution_count": 34,
   "metadata": {
    "collapsed": true
   },
   "outputs": [],
   "source": [
    "# create a new variable called DOB that converts the birth date data into ISO\n",
    "dates$DOB <- ISOdate(dates$birth_year, dates$birth_month, dates$birth_day)"
   ]
  },
  {
   "cell_type": "code",
   "execution_count": 35,
   "metadata": {
    "collapsed": true
   },
   "outputs": [],
   "source": [
    "# ISOdate includes time by default, we can strip time from the DOB data using strptime()\n",
    "dates$DOB <- strptime(dates$DOB, format = \"%Y-%m-%d\")"
   ]
  },
  {
   "cell_type": "code",
   "execution_count": 36,
   "metadata": {
    "collapsed": true
   },
   "outputs": [],
   "source": [
    "# create date of death data combining the two commands we ran above\n",
    "dates$DOD <- strptime(ISOdate(dates$death_year, dates$death_month, dates$death_day), format = \"%Y-%m-%d\")"
   ]
  },
  {
   "cell_type": "markdown",
   "metadata": {},
   "source": [
    "We can use the difftime() function to calculate the difference in two dates/times\n",
    "\n",
    "The format of difftime() is: \n",
    "\n",
    "- difftime(time1, time2, tz,units = c(“auto”, “secs”, “mins”, “hours”,“days”, “weeks”))"
   ]
  },
  {
   "cell_type": "code",
   "execution_count": 37,
   "metadata": {
    "collapsed": true
   },
   "outputs": [],
   "source": [
    "# create a variable that is the difference between the birth and death date, ie their age (in days)\n",
    "dates$Age.atdeath <- difftime(dates$DOD, dates$DOB, unit = \"days\")"
   ]
  },
  {
   "cell_type": "code",
   "execution_count": 38,
   "metadata": {
    "collapsed": false
   },
   "outputs": [
    {
     "data": {
      "text/plain": [
       "[1] TRUE   NA   NA   NA   NA   NA TRUE   NA"
      ]
     },
     "execution_count": 38,
     "metadata": {},
     "output_type": "execute_result"
    }
   ],
   "source": [
    "# check if there were an infant mortalities\n",
    "dates$Age.atdeath < 365"
   ]
  },
  {
   "cell_type": "markdown",
   "metadata": {},
   "source": [
    "Clever trick: if day/time data is missing, you can set the missing date/time data to fixed numbers. Comments inline."
   ]
  },
  {
   "cell_type": "code",
   "execution_count": 39,
   "metadata": {
    "collapsed": true
   },
   "outputs": [],
   "source": [
    "# create a variable DOB2, strip the time off\n",
    "dates$DOB2<-strptime(\n",
    "  # convert the data into ISO format\n",
    "  ISOdate(year=dates$birth_year, \n",
    "          # if month observation is missing, set month to 1, else set it to birth month\n",
    "          month=ifelse(is.na(dates$birth_month), 1, dates$birth_month), \n",
    "          # if day observation is missing, set day to 1, else set it to birth day\n",
    "          day=ifelse(is.na(dates$birth_day),1, dates$birth_day)),\n",
    "          # format to display the date\n",
    "          format=\"%Y-%m-%d\")"
   ]
  },
  {
   "cell_type": "code",
   "execution_count": 40,
   "metadata": {
    "collapsed": true
   },
   "outputs": [],
   "source": [
    "# create a variable DOD2, strip the time off\n",
    "dates$DOD2<-strptime(\n",
    "  # convert the data into ISO format\n",
    "  ISOdate(year=dates$death_year,\n",
    "          # if month observation is missing, set month to 1, else set it to death month\n",
    "          month=ifelse(is.na(dates$death_month),12,dates$death_month), \n",
    "          # if day observation is missing, set day to 1, else set it to death day\n",
    "          day=ifelse(is.na(dates$death_day),30, dates$death_day)), \n",
    "          # format to display the date\n",
    "          format=\"%Y-%m-%d\")"
   ]
  },
  {
   "cell_type": "code",
   "execution_count": 41,
   "metadata": {
    "collapsed": true
   },
   "outputs": [],
   "source": [
    "# create a new variable that converts the differnce in time to numeric\n",
    "dates$Ageatdeath_2<-as.numeric(\n",
    "  difftime(dates$DOD2,dates$DOB2,unit=\"days\"))"
   ]
  },
  {
   "cell_type": "code",
   "execution_count": 42,
   "metadata": {
    "collapsed": false
   },
   "outputs": [
    {
     "data": {
      "text/plain": [
       "  birth_month birth_day birth_year death_month death_day death_year       DOB2\n",
       "1           1        30       1980           2         2       1980 1980-01-30\n",
       "2           3        14       1980          NA        NA         NA 1980-03-14\n",
       "3           6        NA       1980          NA        NA         NA 1980-06-01\n",
       "4          11        NA       1983          NA        NA       1985 1983-11-01\n",
       "5           4        16       1983          NA        NA         NA 1983-04-16\n",
       "6          12        NA       1983          12        NA       1983 1983-12-01\n",
       "7           5        20       1986           4        29       1987 1986-05-20\n",
       "8           3        31       1980          NA        NA         NA 1980-03-31\n",
       "        DOD2 Ageatdeath_2\n",
       "1 1980-02-02            3\n",
       "2       <NA>           NA\n",
       "3       <NA>           NA\n",
       "4 1985-12-30          790\n",
       "5       <NA>           NA\n",
       "6 1983-12-30           29\n",
       "7 1987-04-29          344\n",
       "8       <NA>           NA"
      ]
     },
     "execution_count": 42,
     "metadata": {},
     "output_type": "execute_result"
    }
   ],
   "source": [
    "# view columns 1 through 6, and 10 through 12\n",
    "dates[,c(1:6,10:12)]"
   ]
  }
 ],
 "metadata": {
  "kernelspec": {
   "display_name": "R",
   "language": "",
   "name": "ir"
  },
  "language_info": {
   "codemirror_mode": "r",
   "file_extension": ".r",
   "mimetype": "text/x-r-source",
   "name": "R",
   "pygments_lexer": "r"
  }
 },
 "nbformat": 4,
 "nbformat_minor": 0
}
