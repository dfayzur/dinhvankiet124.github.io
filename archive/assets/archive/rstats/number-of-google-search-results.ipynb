{
 "cells": [
  {
   "cell_type": "markdown",
   "metadata": {},
   "source": [
    "# Find Approximate Number Of Google Search Results For A String\n",
    "Original source: https://gist.github.com/drewconway/791559"
   ]
  },
  {
   "cell_type": "code",
   "execution_count": 1,
   "metadata": {
    "collapsed": false
   },
   "outputs": [
    {
     "name": "stderr",
     "output_type": "stream",
     "text": [
      "Loading required package: RCurl\n",
      "Loading required package: bitops\n",
      "Loading required package: XML\n"
     ]
    }
   ],
   "source": [
    "# load the RCurl package\n",
    "require(RCurl)\n",
    "\n",
    "# load the xml package\n",
    "require(XML)"
   ]
  },
  {
   "cell_type": "code",
   "execution_count": 2,
   "metadata": {
    "collapsed": true
   },
   "outputs": [],
   "source": [
    "# create a google.counts functions\n",
    "google.counts<-function(s){\n",
    "  # take the variable \"s\" and paste it into a google search url\n",
    "  search.url<-paste(\"http://www.google.com/search?q=\",gsub(\" \",\"+\",s),sep=\"\")\n",
    "  # grab the html contents of the search results page\n",
    "  search.html<-getURL(search.url)\n",
    "  # format the html contents\n",
    "  parse.search<-htmlTreeParse(search.html,useInternalNodes = TRUE)\n",
    "  # find a div with the id \"resultStats\"\n",
    "  search.nodes<-getNodeSet(parse.search,\"//div[@id='resultStats']\")\n",
    "  # Take the entire tag, remove tags themselves (xmlValue), seperate every string by the spaces (strsplit), and take the second string (strsplit()[[1]][2]). \n",
    "  search.value<-strsplit(xmlValue(search.nodes[[1]]),\" \",fixed=TRUE)[[1]][2]\n",
    "  # display, as numeric, the number of search results\n",
    "  return(as.numeric(gsub(\",\",\"\",search.value,fixed=TRUE)))\n",
    "}"
   ]
  },
  {
   "cell_type": "code",
   "execution_count": 3,
   "metadata": {
    "collapsed": false
   },
   "outputs": [
    {
     "data": {
      "text/plain": [
       "[1] 44200000"
      ]
     },
     "execution_count": 3,
     "metadata": {},
     "output_type": "execute_result"
    }
   ],
   "source": [
    "# an example of using the library\n",
    "google.counts(\"frogs\")"
   ]
  }
 ],
 "metadata": {
  "kernelspec": {
   "display_name": "R",
   "language": "",
   "name": "ir"
  },
  "language_info": {
   "codemirror_mode": "r",
   "file_extension": ".r",
   "mimetype": "text/x-r-source",
   "name": "R",
   "pygments_lexer": "r"
  }
 },
 "nbformat": 4,
 "nbformat_minor": 0
}
