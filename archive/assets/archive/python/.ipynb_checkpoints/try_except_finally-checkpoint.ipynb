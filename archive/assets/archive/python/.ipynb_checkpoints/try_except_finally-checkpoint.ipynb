{
 "cells": [
  {
   "cell_type": "markdown",
   "metadata": {},
   "source": [
    "# Try, Except, and Finally\n",
    "\n",
    "- **Author:** [Chris Albon](http://www.chrisalbon.com/), [@ChrisAlbon](https://twitter.com/chrisalbon)\n",
    "- **Date:** 19 April, 2016\n",
    "- **Repo:** [Python 3 code snippets for data science](https://github.com/chrisalbon/code_py)\n",
    "- **Note:** None."
   ]
  },
  {
   "cell_type": "markdown",
   "metadata": {},
   "source": [
    "## Create data"
   ]
  },
  {
   "cell_type": "code",
   "execution_count": 31,
   "metadata": {
    "collapsed": false
   },
   "outputs": [],
   "source": [
    "# Create some data\n",
    "scores = [23,453,54,235,74,234]"
   ]
  },
  {
   "cell_type": "markdown",
   "metadata": {},
   "source": [
    "## Try something that doesn't work"
   ]
  },
  {
   "cell_type": "code",
   "execution_count": 32,
   "metadata": {
    "collapsed": false
   },
   "outputs": [
    {
     "name": "stdout",
     "output_type": "stream",
     "text": [
      "Error: can only concatenate list (not \"str\") to list\n",
      "End Program\n"
     ]
    }
   ],
   "source": [
    "# Try to:\n",
    "try:\n",
    "    # Add a list of integers and a string\n",
    "    scores + 'A string of characters.'\n",
    "# If you get an error, set the error as 'e',\n",
    "except Exception as e:\n",
    "    # print the error, e\n",
    "    print('Error:', e)\n",
    "# Then,\n",
    "finally:\n",
    "    # print end program\n",
    "    print('End Program')"
   ]
  },
  {
   "cell_type": "markdown",
   "metadata": {},
   "source": [
    "## Try something that works"
   ]
  },
  {
   "cell_type": "code",
   "execution_count": 33,
   "metadata": {
    "collapsed": false
   },
   "outputs": [
    {
     "name": "stdout",
     "output_type": "stream",
     "text": [
      "Worked! [23, 453, 54, 235, 74, 234]\n",
      "End program\n"
     ]
    }
   ],
   "source": [
    "# Try to:\n",
    "try:\n",
    "    # Print scores\n",
    "    print('Worked!', scores)\n",
    "# If you get an error, set the error as 'e',\n",
    "except Exception as e:\n",
    "    # print the error, e\n",
    "    print('Error:', e)\n",
    "# Then,\n",
    "finally:\n",
    "    # print end program\n",
    "    print('End program')"
   ]
  }
 ],
 "metadata": {
  "kernelspec": {
   "display_name": "Python 3",
   "language": "python",
   "name": "python3"
  },
  "language_info": {
   "codemirror_mode": {
    "name": "ipython",
    "version": 3
   },
   "file_extension": ".py",
   "mimetype": "text/x-python",
   "name": "python",
   "nbconvert_exporter": "python",
   "pygments_lexer": "ipython3",
   "version": "3.4.3"
  }
 },
 "nbformat": 4,
 "nbformat_minor": 0
}
