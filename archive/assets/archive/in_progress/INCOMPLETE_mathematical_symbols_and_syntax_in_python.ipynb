{
 "cells": [
  {
   "cell_type": "markdown",
   "metadata": {},
   "source": [
    "# Mathematical Symbols And Syntax As Python Code"
   ]
  },
  {
   "cell_type": "markdown",
   "metadata": {},
   "source": [
    "## Equals\n",
    "\n",
    "**Mathematical Concept In Plain English:**\n",
    "\n",
    "One object is the same as a different object.\n",
    "\n",
    "**Mathematical Symbol:**\n",
    "\n",
    "$=$\n",
    "\n",
    "**Python code:**"
   ]
  },
  {
   "cell_type": "code",
   "execution_count": 2,
   "metadata": {
    "collapsed": false
   },
   "outputs": [
    {
     "data": {
      "text/plain": [
       "True"
      ]
     },
     "execution_count": 2,
     "metadata": {},
     "output_type": "execute_result"
    }
   ],
   "source": [
    "# Is 3 the same as 3?\n",
    "3 == 3"
   ]
  },
  {
   "cell_type": "markdown",
   "metadata": {},
   "source": [
    "## Not Equal\n",
    "\n",
    "**Mathematical Concept In Plain English:**\n",
    "\n",
    "One object is different from a second object.\n",
    "\n",
    "**Mathematical Symbol:**\n",
    "\n",
    "$\\neq$\n",
    "\n",
    "**Python code:**"
   ]
  },
  {
   "cell_type": "code",
   "execution_count": 3,
   "metadata": {
    "collapsed": false
   },
   "outputs": [
    {
     "data": {
      "text/plain": [
       "True"
      ]
     },
     "execution_count": 3,
     "metadata": {},
     "output_type": "execute_result"
    }
   ],
   "source": [
    "# Is 3 different than 4?\n",
    "3 != 4"
   ]
  },
  {
   "cell_type": "markdown",
   "metadata": {},
   "source": [
    "## Strict Inequality\n",
    "\n",
    "**Mathematical Concept In Plain English:**\n",
    "\n",
    "One object is less than or greater than a second object\n",
    "\n",
    "**Mathematical Symbol:**\n",
    "\n",
    "$>$ or $<$\n",
    "\n",
    "**Python code:**"
   ]
  },
  {
   "cell_type": "code",
   "execution_count": 13,
   "metadata": {
    "collapsed": false
   },
   "outputs": [
    {
     "data": {
      "text/plain": [
       "False"
      ]
     },
     "execution_count": 13,
     "metadata": {},
     "output_type": "execute_result"
    }
   ],
   "source": [
    "# Is 3 greater than or equal to 4?\n",
    "3 > 4"
   ]
  },
  {
   "cell_type": "code",
   "execution_count": 15,
   "metadata": {
    "collapsed": false
   },
   "outputs": [
    {
     "data": {
      "text/plain": [
       "True"
      ]
     },
     "execution_count": 15,
     "metadata": {},
     "output_type": "execute_result"
    }
   ],
   "source": [
    "# Is 3 less than or equal to 4?\n",
    "3 < 4"
   ]
  },
  {
   "cell_type": "markdown",
   "metadata": {},
   "source": [
    "## Inequality\n",
    "\n",
    "**Mathematical Concept In Plain English:**\n",
    "\n",
    "One object is less than or equal to, or greater than or equal to, a second object\n",
    "\n",
    "**Mathematical Symbol:**\n",
    "\n",
    "$\\geq$ or $\\leq$\n",
    "\n",
    "**Python code:**"
   ]
  },
  {
   "cell_type": "code",
   "execution_count": 18,
   "metadata": {
    "collapsed": false
   },
   "outputs": [
    {
     "data": {
      "text/plain": [
       "False"
      ]
     },
     "execution_count": 18,
     "metadata": {},
     "output_type": "execute_result"
    }
   ],
   "source": [
    "# Is 3 greater than or equal to 4?\n",
    "3 >= 4"
   ]
  },
  {
   "cell_type": "code",
   "execution_count": 19,
   "metadata": {
    "collapsed": false
   },
   "outputs": [
    {
     "data": {
      "text/plain": [
       "True"
      ]
     },
     "execution_count": 19,
     "metadata": {},
     "output_type": "execute_result"
    }
   ],
   "source": [
    "# Is 3 less than or equal to 4?\n",
    "3 <= 4"
   ]
  },
  {
   "cell_type": "markdown",
   "metadata": {},
   "source": [
    "## Parentheses and brackets\n",
    "\n",
    "**Mathematical Concept In Plain English:**\n",
    "\n",
    "Calculate the expression inside the parentheses or brackets first.\n",
    "\n",
    "**Mathematical Symbol:**\n",
    "\n",
    "$()$ or $[]$\n",
    "\n",
    "**Python code:**"
   ]
  },
  {
   "cell_type": "code",
   "execution_count": 34,
   "metadata": {
    "collapsed": false
   },
   "outputs": [
    {
     "data": {
      "text/plain": [
       "15"
      ]
     },
     "execution_count": 34,
     "metadata": {},
     "output_type": "execute_result"
    }
   ],
   "source": [
    "# Note in Python brackets denote a list datatype object. Use multiple parentheses instead of brackets.\n",
    "\n",
    "# Add 1 and 2, then multiply by 5\n",
    "(1+2)*5"
   ]
  },
  {
   "cell_type": "markdown",
   "metadata": {},
   "source": [
    "## Multiplication\n",
    "\n",
    "**Mathematical Concept In Plain English:**\n",
    "\n",
    "Multiply one value by another value.\n",
    "\n",
    "**Mathematical Symbol:**\n",
    "\n",
    "$*$ or $\\times$\n",
    "\n",
    "**Python code:**"
   ]
  },
  {
   "cell_type": "code",
   "execution_count": 35,
   "metadata": {
    "collapsed": false
   },
   "outputs": [
    {
     "data": {
      "text/plain": [
       "10"
      ]
     },
     "execution_count": 35,
     "metadata": {},
     "output_type": "execute_result"
    }
   ],
   "source": [
    "#Multiply 2 by 5\n",
    "2*5"
   ]
  },
  {
   "cell_type": "markdown",
   "metadata": {},
   "source": [
    "## Division\n",
    "\n",
    "**Mathematical Concept In Plain English:**\n",
    "\n",
    "Divide one value by another value.\n",
    "\n",
    "**Mathematical Symbol:**\n",
    "\n",
    "$\\setminus$ or $\\div$\n",
    "\n",
    "**Python code:**"
   ]
  },
  {
   "cell_type": "code",
   "execution_count": 31,
   "metadata": {
    "collapsed": false
   },
   "outputs": [
    {
     "data": {
      "text/plain": [
       "5.0"
      ]
     },
     "execution_count": 31,
     "metadata": {},
     "output_type": "execute_result"
    }
   ],
   "source": [
    "# Divide 10 by 2\n",
    "10/2"
   ]
  },
  {
   "cell_type": "markdown",
   "metadata": {},
   "source": [
    "## Modulo\n",
    "\n",
    "**Mathematical Concept In Plain English:**\n",
    "\n",
    "Find the remainder of the division of two values\n",
    "\n",
    "**Mathematical Symbol:**\n",
    "\n",
    "$mod$\n",
    "\n",
    "**Python code:**"
   ]
  },
  {
   "cell_type": "code",
   "execution_count": 33,
   "metadata": {
    "collapsed": false
   },
   "outputs": [
    {
     "data": {
      "text/plain": [
       "1"
      ]
     },
     "execution_count": 33,
     "metadata": {},
     "output_type": "execute_result"
    }
   ],
   "source": [
    "# What is the remainder of the divison of 7 by 2\n",
    "7%2"
   ]
  },
  {
   "cell_type": "markdown",
   "metadata": {},
   "source": [
    "floor"
   ]
  },
  {
   "cell_type": "markdown",
   "metadata": {},
   "source": [
    "ceiling"
   ]
  },
  {
   "cell_type": "markdown",
   "metadata": {},
   "source": [
    "factorial"
   ]
  },
  {
   "cell_type": "markdown",
   "metadata": {},
   "source": [
    "pie"
   ]
  },
  {
   "cell_type": "markdown",
   "metadata": {},
   "source": [
    "power"
   ]
  },
  {
   "cell_type": "markdown",
   "metadata": {},
   "source": [
    "square root"
   ]
  },
  {
   "cell_type": "markdown",
   "metadata": {},
   "source": [
    "absolutely value"
   ]
  },
  {
   "cell_type": "markdown",
   "metadata": {},
   "source": [
    "sigma"
   ]
  },
  {
   "cell_type": "markdown",
   "metadata": {},
   "source": [
    "sigma double"
   ]
  },
  {
   "cell_type": "markdown",
   "metadata": {},
   "source": [
    "capital pi"
   ]
  },
  {
   "cell_type": "markdown",
   "metadata": {},
   "source": [
    "delta"
   ]
  },
  {
   "cell_type": "markdown",
   "metadata": {},
   "source": []
  },
  {
   "cell_type": "markdown",
   "metadata": {},
   "source": []
  },
  {
   "cell_type": "markdown",
   "metadata": {},
   "source": []
  },
  {
   "cell_type": "markdown",
   "metadata": {},
   "source": []
  }
 ],
 "metadata": {
  "kernelspec": {
   "display_name": "Python 3",
   "language": "python",
   "name": "python3"
  },
  "language_info": {
   "codemirror_mode": {
    "name": "ipython",
    "version": 3
   },
   "file_extension": ".py",
   "mimetype": "text/x-python",
   "name": "python",
   "nbconvert_exporter": "python",
   "pygments_lexer": "ipython3",
   "version": "3.4.3"
  }
 },
 "nbformat": 4,
 "nbformat_minor": 0
}
