{
 "cells": [
  {
   "cell_type": "code",
   "execution_count": 8,
   "metadata": {
    "collapsed": true
   },
   "outputs": [],
   "source": [
    "# Create a class called recruit,\n",
    "class recruit(object):\n",
    "    \n",
    "    # When called, create an instance of \n",
    "    # the recruit class with name, unit, age\n",
    "    def __init__(self, name, unit, age):\n",
    "        # name is the name of the recruit instance\n",
    "        self.name = name\n",
    "        # unit is the unit of the recruit instance\n",
    "        self.unit = unit\n",
    "        # age is the age of the recruit instance\n",
    "        self.age = age\n",
    "        https://www.google.com/search?q=site%3Anbviewer.ipython.org\n",
    "    # Create a function that,\n",
    "    def getName(self):\n",
    "        # returns the name of the instance\n",
    "        return self.name\n",
    "    \n",
    "    # Create a function that,\n",
    "    def getAge(self):\n",
    "        # returns the age of the instance\n",
    "        return self.age\n",
    "    \n",
    "    # Create a function that,\n",
    "    def birthday(self):\n",
    "        # adds 1 to the age of the recruit instance\n",
    "        self.age = self.age + 1"
   ]
  },
  {
   "cell_type": "code",
   "execution_count": 9,
   "metadata": {
    "collapsed": false
   },
   "outputs": [],
   "source": [
    "jake = recruit('jake', 'nighthawks', 32)"
   ]
  },
  {
   "cell_type": "code",
   "execution_count": 10,
   "metadata": {
    "collapsed": false
   },
   "outputs": [
    {
     "data": {
      "text/plain": [
       "32"
      ]
     },
     "execution_count": 10,
     "metadata": {},
     "output_type": "execute_result"
    }
   ],
   "source": [
    "jake.getAge()"
   ]
  },
  {
   "cell_type": "code",
   "execution_count": 11,
   "metadata": {
    "collapsed": true
   },
   "outputs": [],
   "source": [
    "jake.birthday()"
   ]
  },
  {
   "cell_type": "code",
   "execution_count": 12,
   "metadata": {
    "collapsed": false
   },
   "outputs": [
    {
     "data": {
      "text/plain": [
       "33"
      ]
     },
     "execution_count": 12,
     "metadata": {},
     "output_type": "execute_result"
    }
   ],
   "source": [
    "jake.getAge()"
   ]
  }
 ],
 "metadata": {
  "kernelspec": {
   "display_name": "Python 3",
   "language": "python",
   "name": "python3"
  },
  "language_info": {
   "codemirror_mode": {
    "name": "ipython",
    "version": 3
   },
   "file_extension": ".py",
   "mimetype": "text/x-python",
   "name": "python",
   "nbconvert_exporter": "python",
   "pygments_lexer": "ipython3",
   "version": "3.4.3"
  }
 },
 "nbformat": 4,
 "nbformat_minor": 0
}
