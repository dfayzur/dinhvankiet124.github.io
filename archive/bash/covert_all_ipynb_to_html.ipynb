{
 "cells": [
  {
   "cell_type": "markdown",
   "metadata": {},
   "source": [
    "# Convert All IPython Notesbooks In A Folder To Basic HTML Using Bash"
   ]
  },
  {
   "cell_type": "code",
   "execution_count": 2,
   "metadata": {
    "collapsed": false
   },
   "outputs": [
    {
     "name": "stderr",
     "output_type": "stream",
     "text": [
      "discarding /Users/chrisralbon/anaconda/envs/py3k/bin from PATH\n",
      "prepending /Users/chrisralbon/anaconda/envs/py3k/bin to PATH\n",
      "[NbConvertApp] Using existing profile dir: '/Users/chrisralbon/.ipython/profile_default'\n",
      "[NbConvertApp] Converting notebook covert_all_ipynb_to_html.ipynb to html\n",
      "[NbConvertApp] Support files will be in covert_all_ipynb_to_html_files/\n",
      "[NbConvertApp] Loaded template basic.tpl\n",
      "[NbConvertApp] Writing 2959 bytes to covert_all_ipynb_to_html.html\n",
      "[NbConvertApp] Using existing profile dir: '/Users/chrisralbon/.ipython/profile_default'\n",
      "[NbConvertApp] Converting notebook list_all_files_and_folders_in_a_directory.ipynb to html\n",
      "[NbConvertApp] Support files will be in list_all_files_and_folders_in_a_directory_files/\n",
      "[NbConvertApp] Loaded template basic.tpl\n",
      "[NbConvertApp] Writing 2123 bytes to list_all_files_and_folders_in_a_directory.html\n"
     ]
    }
   ],
   "source": [
    "%%bash\n",
    "# #!/bin/bash\n",
    "\n",
    "# activates a python 3.x environment called py3k\n",
    "source activate py3k\n",
    "\n",
    "# sets the working directory to the current directory\n",
    "cd \"$(dirname \"$0\")\"\n",
    "\n",
    "# converts all iPython Notebook files to basic html\n",
    "for f in *.ipynb; do ipython nbconvert --to html --template basic $f; done"
   ]
  }
 ],
 "metadata": {
  "kernelspec": {
   "display_name": "Python 3",
   "language": "python",
   "name": "python3"
  },
  "language_info": {
   "codemirror_mode": {
    "name": "ipython",
    "version": 3
   },
   "file_extension": ".py",
   "mimetype": "text/x-python",
   "name": "python",
   "nbconvert_exporter": "python",
   "pygments_lexer": "ipython3",
   "version": "3.4.3"
  }
 },
 "nbformat": 4,
 "nbformat_minor": 0
}
