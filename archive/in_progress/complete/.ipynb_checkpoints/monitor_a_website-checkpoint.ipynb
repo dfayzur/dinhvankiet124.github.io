{
 "cells": [
  {
   "cell_type": "markdown",
   "metadata": {},
   "source": [
    "# Monitor A Website For Changes With Python\n",
    "\n",
    "In this snippet, we create a continous loop that, at set times, scrapes a website, checks to see if it contains some text and if so, emails me. Specifically I used this script to find when Venture Beat had published an article about my company.\n",
    "\n",
    "It should be noted that there are more efficient ways of setting scripts to run at certain times, notable cron. However, this is a quick and dirty solution."
   ]
  },
  {
   "cell_type": "markdown",
   "metadata": {},
   "source": [
    "## Preliminaries"
   ]
  },
  {
   "cell_type": "code",
   "execution_count": 3,
   "metadata": {
    "collapsed": false
   },
   "outputs": [],
   "source": [
    "# Import requests (to download the page)\n",
    "import requests\n",
    "\n",
    "# Import BeautifulSoup (to parse what we download)\n",
    "from bs4 import BeautifulSoup\n",
    "\n",
    "# Import Time (to add a delay between the times the scape runs)\n",
    "import time\n",
    "\n",
    "# Import smtplib (to allow us to email)\n",
    "import smtplib"
   ]
  },
  {
   "cell_type": "markdown",
   "metadata": {},
   "source": [
    "## Monitoring Script"
   ]
  },
  {
   "cell_type": "code",
   "execution_count": null,
   "metadata": {
    "collapsed": false
   },
   "outputs": [],
   "source": [
    "# This is a pretty simple script. The script downloads the homepage of VentureBeat, and if it finds some text, emails me.\n",
    "# If it does not find some text, it waits 60 seconds and downloads the homepage again.\n",
    "\n",
    "# while this is true (it is true by default),\n",
    "while True:\n",
    "    # set the url as VentureBeat,\n",
    "    url = \"http://venturebeat.com/\"\n",
    "    # set the headers like we are a browser,\n",
    "    headers = {'User-Agent': 'Mozilla/5.0 (Macintosh; Intel Mac OS X 10_10_1) AppleWebKit/537.36 (KHTML, like Gecko) Chrome/39.0.2171.95 Safari/537.36'}\n",
    "    # download the homepage\n",
    "    response = requests.get(url, headers=headers)\n",
    "    # parse the downloaded homepage and grab all text, then,\n",
    "    soup = BeautifulSoup(response.text)\n",
    "    \n",
    "    # if the number of times the word Popily occurs on the page is less than 1,\n",
    "    if str(soup).find(\"Popily\") == -1:\n",
    "        # wait 60 seconds,\n",
    "        time.sleep(60)\n",
    "        # continue with the script,\n",
    "        continue\n",
    "        \n",
    "    # but if the word \"Popily\" occurs any other number of times,\n",
    "    else:\n",
    "        # create an email message with just a subject line,\n",
    "        msg = 'Subject: This is Chris\\'s script talking, CHECK VENTURE BEAT!'\n",
    "        # set the 'from' address,\n",
    "        fromaddr = 'YOUR_EMAIL_ADDRESS'\n",
    "        # set the 'to' addresses,\n",
    "        toaddrs  = ['YOUR_EMAIL_ADDRESS','A_SECOND_EMAIL_ADDRESS', 'A_THIRD_EMAIL_ADDRESS']\n",
    "        \n",
    "        # setup the email server,\n",
    "        server = smtplib.SMTP('smtp.gmail.com', 587)\n",
    "        server.starttls()\n",
    "        # add my account login name and password,\n",
    "        server.login(\"YOUR_EMAIL_ADDRESS\", \"YOUR_PASSWORD\")\n",
    "        \n",
    "        # send the email\n",
    "        server.sendmail(fromaddr, toaddrs, msg)\n",
    "        # disconnect from the server\n",
    "        server.quit()"
   ]
  }
 ],
 "metadata": {
  "kernelspec": {
   "display_name": "Python 3",
   "language": "python",
   "name": "python3"
  },
  "language_info": {
   "codemirror_mode": {
    "name": "ipython",
    "version": 3
   },
   "file_extension": ".py",
   "mimetype": "text/x-python",
   "name": "python",
   "nbconvert_exporter": "python",
   "pygments_lexer": "ipython3",
   "version": "3.5.1"
  }
 },
 "nbformat": 4,
 "nbformat_minor": 0
}
