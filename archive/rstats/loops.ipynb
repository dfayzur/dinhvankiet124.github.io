{
 "cells": [
  {
   "cell_type": "markdown",
   "metadata": {},
   "source": [
    "# Loops\n",
    "\n",
    "R has three types of loops: repeat, while, and for."
   ]
  },
  {
   "cell_type": "markdown",
   "metadata": {},
   "source": [
    "## repeat Loops\n",
    "\n",
    "Repeat loops executes the same code again and again until told to stop."
   ]
  },
  {
   "cell_type": "code",
   "execution_count": 1,
   "metadata": {
    "collapsed": false
   },
   "outputs": [
    {
     "name": "stdout",
     "output_type": "stream",
     "text": [
      "[1] \"i = 1\"\n",
      "[1] \"i = 2\"\n",
      "[1] \"i = 3\"\n",
      "[1] \"i = 4\"\n",
      "[1] \"i = 5\"\n",
      "[1] \"i = 6\"\n",
      "[1] \"i = 7\"\n",
      "[1] \"i = 8\"\n",
      "[1] \"i = 9\"\n",
      "[1] \"i = 10\"\n"
     ]
    }
   ],
   "source": [
    "# print 1 to 10, stop at 10\n",
    "for(i in 1:10)\n",
    "{\n",
    "  print(paste(\"i =\", i));\n",
    "}"
   ]
  },
  {
   "cell_type": "markdown",
   "metadata": {},
   "source": [
    "## while Loops\n",
    "\n",
    "Unlike repeat loops, while loops check at the beginning of the code if that code should end, and then (maybe) execute. This is the oppsite to repeat loops that execute and then check if they should end."
   ]
  },
  {
   "cell_type": "code",
   "execution_count": 2,
   "metadata": {
    "collapsed": false
   },
   "outputs": [
    {
     "name": "stderr",
     "output_type": "stream",
     "text": [
      "Make burritos\n",
      "Make tacos\n"
     ]
    }
   ],
   "source": [
    "# create an object that samples one of the three character strings\n",
    "action <- sample(\n",
    "  c(\n",
    "    \"Make pancakes\",\n",
    "    \"Make burritos\",\n",
    "    \"Make tacos\"\n",
    "  ),\n",
    "  1\n",
    ")\n",
    "\n",
    "# If the variable \"action\" (created above) is not \"Make tacos\" then run action (recreated in the loop) again. Do so until it is make tacos.\n",
    "while(action != \"Make tacos\")\n",
    "{\n",
    "  action <- sample(\n",
    "    c(\n",
    "      \"Make pancakes\",\n",
    "      \"Make burritos\",\n",
    "      \"Make tacos\"\n",
    "    ),\n",
    "    1\n",
    "  )\n",
    "  message(action)\n",
    "}"
   ]
  },
  {
   "cell_type": "markdown",
   "metadata": {},
   "source": [
    "## for Loops\n",
    "\n",
    "For loops are for when you want to repeat a code for a known and finite amount of time. for loops operate on each element of the vector."
   ]
  },
  {
   "cell_type": "code",
   "execution_count": 3,
   "metadata": {
    "collapsed": false
   },
   "outputs": [
    {
     "name": "stderr",
     "output_type": "stream",
     "text": [
      "i = 1\n",
      "i = 2\n",
      "i = 3\n",
      "i = 4\n",
      "i = 5\n",
      "The month of January\n",
      "The month of February\n",
      "The month of March\n",
      "The month of April\n",
      "The month of May\n",
      "The month of June\n",
      "The month of July\n",
      "The month of August\n",
      "The month of September\n",
      "The month of October\n",
      "The month of November\n",
      "The month of December\n"
     ]
    }
   ],
   "source": [
    "# for each element in a 1:5 vector, say a message\n",
    "for(i in 1:5) message(\"i = \", i)\n",
    "\n",
    "# For each month in the variable, month.name, say a message\n",
    "for(month in month.name)\n",
    "{\n",
    "  message(\"The month of \", month)\n",
    "}"
   ]
  }
 ],
 "metadata": {
  "kernelspec": {
   "display_name": "R",
   "language": "",
   "name": "ir"
  },
  "language_info": {
   "codemirror_mode": "r",
   "file_extension": ".r",
   "mimetype": "text/x-r-source",
   "name": "R",
   "pygments_lexer": "r"
  }
 },
 "nbformat": 4,
 "nbformat_minor": 0
}
