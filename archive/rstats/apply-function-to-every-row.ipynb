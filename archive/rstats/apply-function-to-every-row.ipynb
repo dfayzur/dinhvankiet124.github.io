{
 "cells": [
  {
   "cell_type": "markdown",
   "metadata": {},
   "source": [
    "# Apply A Function On Every Row Of A Dataframe\n",
    "original source: http://stackoverflow.com/questions/2074606/doing-a-plyr-operation-on-every-row-of-a-data-frame-in-r"
   ]
  },
  {
   "cell_type": "code",
   "execution_count": 3,
   "metadata": {
    "collapsed": true
   },
   "outputs": [],
   "source": [
    "# Load packages\n",
    "library(plyr)"
   ]
  },
  {
   "cell_type": "code",
   "execution_count": 4,
   "metadata": {
    "collapsed": true
   },
   "outputs": [],
   "source": [
    "# create a simulated dataframe\n",
    "x <- rnorm(10)\n",
    "y <- rnorm(10)\n",
    "df <- data.frame(x,y)"
   ]
  },
  {
   "cell_type": "code",
   "execution_count": 5,
   "metadata": {
    "collapsed": false
   },
   "outputs": [
    {
     "data": {
      "text/plain": [
       "            x          y        max\n",
       "1  -1.0286311  0.6621974  0.6621974\n",
       "2   0.5466022  0.2977963  0.5466022\n",
       "3  -0.6559125 -2.0830247 -0.6559125\n",
       "4  -1.6942847 -0.2205220 -0.2205220\n",
       "5   2.2678281 -0.4791234  2.2678281\n",
       "6  -1.6849528 -0.4873940 -0.4873940\n",
       "7   1.1627351  0.5137251  1.1627351\n",
       "8   1.4182618  0.9697840  1.4182618\n",
       "9   0.2025052 -0.3519337  0.2025052\n",
       "10 -0.7100003 -0.6827529 -0.6827529"
      ]
     },
     "execution_count": 5,
     "metadata": {},
     "output_type": "execute_result"
    }
   ],
   "source": [
    "# array to dataframe apply, on df, for each row, apply transform() to create a variable called \"max\" whose values are the maximum value of x or y (whichever is higher).\n",
    "adply(df, 1, transform, max = max(x, y))"
   ]
  }
 ],
 "metadata": {
  "kernelspec": {
   "display_name": "R",
   "language": "",
   "name": "ir"
  },
  "language_info": {
   "codemirror_mode": "r",
   "file_extension": ".r",
   "mimetype": "text/x-r-source",
   "name": "R",
   "pygments_lexer": "r"
  }
 },
 "nbformat": 4,
 "nbformat_minor": 0
}
