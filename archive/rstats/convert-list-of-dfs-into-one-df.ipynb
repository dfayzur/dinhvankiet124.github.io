{
 "cells": [
  {
   "cell_type": "markdown",
   "metadata": {},
   "source": [
    "# Converting List Of Dataframes Into A Single Dataframe\n",
    "original source: http://stackoverflow.com/questions/2851327/converting-a-list-of-data-frames-into-one-data-frame-in-r"
   ]
  },
  {
   "cell_type": "markdown",
   "metadata": {},
   "source": [
    "Imagine we have two dataframes of numeric data contained within a single list, and  we want to combine that data by stacking them on top of each other as a single dataframe"
   ]
  },
  {
   "cell_type": "code",
   "execution_count": 1,
   "metadata": {
    "collapsed": true
   },
   "outputs": [],
   "source": [
    "# create some simulated data\n",
    "high <- data.frame(a = 1001:1005, b = 1006:1010)\n",
    "low <- data.frame(a = 1:5, b = 6:10)"
   ]
  },
  {
   "cell_type": "code",
   "execution_count": 2,
   "metadata": {
    "collapsed": true
   },
   "outputs": [],
   "source": [
    "# combine them into a list\n",
    "df.list <- list(low, high)"
   ]
  },
  {
   "cell_type": "code",
   "execution_count": 3,
   "metadata": {
    "collapsed": false
   },
   "outputs": [
    {
     "data": {
      "text/plain": [
       "      a    b\n",
       "1     1    6\n",
       "2     2    7\n",
       "3     3    8\n",
       "4     4    9\n",
       "5     5   10\n",
       "6  1001 1006\n",
       "7  1002 1007\n",
       "8  1003 1008\n",
       "9  1004 1009\n",
       "10 1005 1010"
      ]
     },
     "execution_count": 3,
     "metadata": {},
     "output_type": "execute_result"
    }
   ],
   "source": [
    "# rbind across every item of df.list and view it\n",
    "df <- do.call(\"rbind\", df.list);df"
   ]
  }
 ],
 "metadata": {
  "kernelspec": {
   "display_name": "R",
   "language": "",
   "name": "ir"
  },
  "language_info": {
   "codemirror_mode": "r",
   "file_extension": ".r",
   "mimetype": "text/x-r-source",
   "name": "R",
   "pygments_lexer": "r"
  }
 },
 "nbformat": 4,
 "nbformat_minor": 0
}
