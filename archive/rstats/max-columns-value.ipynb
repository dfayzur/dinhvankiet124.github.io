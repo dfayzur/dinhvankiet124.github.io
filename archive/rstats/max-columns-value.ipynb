{
 "cells": [
  {
   "cell_type": "markdown",
   "metadata": {},
   "source": [
    "# Find Which Column Has The Greatest Value In Each Row\n",
    "Original source: the r book"
   ]
  },
  {
   "cell_type": "code",
   "execution_count": 3,
   "metadata": {
    "collapsed": true
   },
   "outputs": [],
   "source": [
    "# create a dataframe with simulated values\n",
    "x <- runif(50)\n",
    "y <- runif(50)\n",
    "z <- runif(50)\n",
    "a <- runif(50)\n",
    "df <- data.frame(x, y, z, a)"
   ]
  },
  {
   "cell_type": "code",
   "execution_count": 4,
   "metadata": {
    "collapsed": false
   },
   "outputs": [
    {
     "data": {
      "text/plain": [
       " [1] 1 2 4 4 2 1 3 2 2 3 3 2 2 3 3 3 2 2 3 2 3 3 2 2 2 1 4 1 3 4 2 3 4 3 2 4 4 1\n",
       "[39] 1 4 1 4 4 3 2 4 4 2 3 1"
      ]
     },
     "execution_count": 4,
     "metadata": {},
     "output_type": "execute_result"
    }
   ],
   "source": [
    "# go through each row, and find the column index with the maximum value\n",
    "max.col(df)"
   ]
  },
  {
   "cell_type": "code",
   "execution_count": 5,
   "metadata": {
    "collapsed": false
   },
   "outputs": [
    {
     "data": {
      "text/plain": [
       " [1] 2 4 3 2 4 3 2 1 3 2 4 4 1 4 2 4 3 4 1 3 4 4 1 4 4 4 2 3 1 1 4 4 1 1 3 3 2 4\n",
       "[39] 4 3 3 3 2 2 4 2 2 3 1 4"
      ]
     },
     "execution_count": 5,
     "metadata": {},
     "output_type": "execute_result"
    }
   ],
   "source": [
    "# go through each row, and find the column index with the minimum value\n",
    "max.col(-df)"
   ]
  }
 ],
 "metadata": {
  "kernelspec": {
   "display_name": "R",
   "language": "",
   "name": "ir"
  },
  "language_info": {
   "codemirror_mode": "r",
   "file_extension": ".r",
   "mimetype": "text/x-r-source",
   "name": "R",
   "pygments_lexer": "r"
  }
 },
 "nbformat": 4,
 "nbformat_minor": 0
}
