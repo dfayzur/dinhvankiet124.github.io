{
 "cells": [
  {
   "cell_type": "markdown",
   "metadata": {},
   "source": [
    "# Object Basics\n",
    "\n",
    "R treats almost everything in the software as an object. Objects can be individual numbers to variable names to strings of plain text. Working in R meaning manipulating these objects to make them how you want them.\n",
    "\n",
    "In R, a collection of one or more values is called a vector. Think of vectors as a collection of numbers."
   ]
  },
  {
   "cell_type": "code",
   "execution_count": 1,
   "metadata": {
    "collapsed": false
   },
   "outputs": [
    {
     "data": {
      "text/plain": [
       "[1] 29"
      ]
     },
     "execution_count": 1,
     "metadata": {},
     "output_type": "execute_result"
    }
   ],
   "source": [
    "# We can create a vector by creating a variable\n",
    "my.age <- 29 # create an vector variable called my.age that contains the value \"29\"\n",
    "my.age # view the contents of our.ages"
   ]
  },
  {
   "cell_type": "code",
   "execution_count": 2,
   "metadata": {
    "collapsed": false
   },
   "outputs": [
    {
     "data": {
      "text/plain": [
       "[1] 29 29 43  4"
      ]
     },
     "execution_count": 2,
     "metadata": {},
     "output_type": "execute_result"
    }
   ],
   "source": [
    "our.ages <- c(29, 29, 43, 4) # create a vector variable called our.ages containing the values 29, 29, 43, and 4\n",
    "our.ages # view the contents of our.ages"
   ]
  }
 ],
 "metadata": {
  "kernelspec": {
   "display_name": "R",
   "language": "",
   "name": "ir"
  },
  "language_info": {
   "codemirror_mode": "r",
   "file_extension": ".r",
   "mimetype": "text/x-r-source",
   "name": "R",
   "pygments_lexer": "r"
  }
 },
 "nbformat": 4,
 "nbformat_minor": 0
}
