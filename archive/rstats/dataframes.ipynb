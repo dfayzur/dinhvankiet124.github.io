{
 "cells": [
  {
   "cell_type": "markdown",
   "metadata": {},
   "source": [
    "# Data Frames"
   ]
  },
  {
   "cell_type": "code",
   "execution_count": 8,
   "metadata": {
    "collapsed": true
   },
   "outputs": [],
   "source": [
    "# Create two variables of 50 observations, note that we only use 10 month names, because to be combined into a dataset all variables must have the same number of lengths OR be a multiple of the longest length.\n",
    "percent.sms <- runif(50)\n",
    "state <- state.name\n",
    "month <- month.name[1:10]"
   ]
  },
  {
   "cell_type": "code",
   "execution_count": 9,
   "metadata": {
    "collapsed": true
   },
   "outputs": [],
   "source": [
    "# Create a dataframe of those two variables\n",
    "usa <- data.frame(state, percent.sms, month)"
   ]
  },
  {
   "cell_type": "code",
   "execution_count": 10,
   "metadata": {
    "collapsed": false
   },
   "outputs": [
    {
     "data": {
      "text/plain": [
       "[1] 3"
      ]
     },
     "execution_count": 10,
     "metadata": {},
     "output_type": "execute_result"
    }
   ],
   "source": [
    "# Find the number of columns in the data frame\n",
    "length(usa)"
   ]
  },
  {
   "cell_type": "code",
   "execution_count": 11,
   "metadata": {
    "collapsed": false
   },
   "outputs": [
    {
     "data": {
      "text/plain": [
       "    state percent.sms\n",
       "2  Alaska   0.5466144\n",
       "3 Arizona   0.3224463"
      ]
     },
     "execution_count": 11,
     "metadata": {},
     "output_type": "execute_result"
    }
   ],
   "source": [
    "# Select the second and third rows of the first two columns\n",
    "usa[2:3, -3]"
   ]
  },
  {
   "cell_type": "code",
   "execution_count": 12,
   "metadata": {
    "collapsed": false
   },
   "outputs": [
    {
     "data": {
      "text/plain": [
       "[1] Alaska  Arizona\n",
       "50 Levels: Alabama Alaska Arizona Arkansas California Colorado ... Wyoming"
      ]
     },
     "execution_count": 12,
     "metadata": {},
     "output_type": "execute_result"
    }
   ],
   "source": [
    "# Select the second and third rows of the first column\n",
    "usa[[1]][2:3]"
   ]
  },
  {
   "cell_type": "code",
   "execution_count": 13,
   "metadata": {
    "collapsed": false
   },
   "outputs": [
    {
     "data": {
      "text/plain": [
       "[1] Alaska  Arizona\n",
       "50 Levels: Alabama Alaska Arizona Arkansas California Colorado ... Wyoming"
      ]
     },
     "execution_count": 13,
     "metadata": {},
     "output_type": "execute_result"
    }
   ],
   "source": [
    "# Select the second and third rows of the first column\n",
    "usa$state[2:3]"
   ]
  },
  {
   "cell_type": "code",
   "execution_count": 14,
   "metadata": {
    "collapsed": true
   },
   "outputs": [],
   "source": [
    "# Transpose the data frame\n",
    "usa.t <- t(usa)"
   ]
  },
  {
   "cell_type": "code",
   "execution_count": 15,
   "metadata": {
    "collapsed": false
   },
   "outputs": [
    {
     "data": {
      "text/plain": [
       "            [,1]          [,2]          [,3]          [,4]         \n",
       "state       \"Alabama\"     \"Alaska\"      \"Arizona\"     \"Arkansas\"   \n",
       "percent.sms \"0.289356397\" \"0.546614370\" \"0.322446264\" \"0.667867042\"\n",
       "month       \"January\"     \"February\"    \"March\"       \"April\"      \n",
       "            [,5]          [,6]          [,7]          [,8]         \n",
       "state       \"California\"  \"Colorado\"    \"Connecticut\" \"Delaware\"   \n",
       "percent.sms \"0.030940904\" \"0.515846089\" \"0.993535078\" \"0.054146395\"\n",
       "month       \"May\"         \"June\"        \"July\"        \"August\"     \n",
       "            [,9]          [,10]         [,11]         [,12]        \n",
       "state       \"Florida\"     \"Georgia\"     \"Hawaii\"      \"Idaho\"      \n",
       "percent.sms \"0.713894582\" \"0.006578350\" \"0.005815321\" \"0.422469396\"\n",
       "month       \"September\"   \"October\"     \"January\"     \"February\"   \n",
       "            [,13]         [,14]         [,15]         [,16]        \n",
       "state       \"Illinois\"    \"Indiana\"     \"Iowa\"        \"Kansas\"     \n",
       "percent.sms \"0.613361941\" \"0.584833625\" \"0.574096752\" \"0.561261341\"\n",
       "month       \"March\"       \"April\"       \"May\"         \"June\"       \n",
       "            [,17]         [,18]         [,19]         [,20]        \n",
       "state       \"Kentucky\"    \"Louisiana\"   \"Maine\"       \"Maryland\"   \n",
       "percent.sms \"0.915215752\" \"0.110033265\" \"0.250408646\" \"0.508217647\"\n",
       "month       \"July\"        \"August\"      \"September\"   \"October\"    \n",
       "            [,21]           [,22]         [,23]         [,24]        \n",
       "state       \"Massachusetts\" \"Michigan\"    \"Minnesota\"   \"Mississippi\"\n",
       "percent.sms \"0.274783572\"   \"0.572157144\" \"0.839305733\" \"0.980407253\"\n",
       "month       \"January\"       \"February\"    \"March\"       \"April\"      \n",
       "            [,25]         [,26]         [,27]         [,28]        \n",
       "state       \"Missouri\"    \"Montana\"     \"Nebraska\"    \"Nevada\"     \n",
       "percent.sms \"0.683278756\" \"0.211364157\" \"0.820996565\" \"0.664138581\"\n",
       "month       \"May\"         \"June\"        \"July\"        \"August\"     \n",
       "            [,29]           [,30]         [,31]         [,32]        \n",
       "state       \"New Hampshire\" \"New Jersey\"  \"New Mexico\"  \"New York\"   \n",
       "percent.sms \"0.958563818\"   \"0.479107255\" \"0.619247351\" \"0.561255713\"\n",
       "month       \"September\"     \"October\"     \"January\"     \"February\"   \n",
       "            [,33]            [,34]          [,35]         [,36]        \n",
       "state       \"North Carolina\" \"North Dakota\" \"Ohio\"        \"Oklahoma\"   \n",
       "percent.sms \"0.368069716\"    \"0.963833767\"  \"0.945773752\" \"0.864754913\"\n",
       "month       \"March\"          \"April\"        \"May\"         \"June\"       \n",
       "            [,37]         [,38]          [,39]          [,40]           \n",
       "state       \"Oregon\"      \"Pennsylvania\" \"Rhode Island\" \"South Carolina\"\n",
       "percent.sms \"0.059036551\" \"0.424518585\"  \"0.131782993\"  \"0.362164821\"   \n",
       "month       \"July\"        \"August\"       \"September\"    \"October\"       \n",
       "            [,41]          [,42]         [,43]         [,44]        \n",
       "state       \"South Dakota\" \"Tennessee\"   \"Texas\"       \"Utah\"       \n",
       "percent.sms \"0.082731801\"  \"0.314073189\" \"0.042029392\" \"0.466627718\"\n",
       "month       \"January\"      \"February\"    \"March\"       \"April\"      \n",
       "            [,45]         [,46]         [,47]         [,48]          \n",
       "state       \"Vermont\"     \"Virginia\"    \"Washington\"  \"West Virginia\"\n",
       "percent.sms \"0.560203050\" \"0.715840876\" \"0.077936989\" \"0.814920678\"  \n",
       "month       \"May\"         \"June\"        \"July\"        \"August\"       \n",
       "            [,49]         [,50]        \n",
       "state       \"Wisconsin\"   \"Wyoming\"    \n",
       "percent.sms \"0.287602357\" \"0.953510491\"\n",
       "month       \"September\"   \"October\"    "
      ]
     },
     "execution_count": 15,
     "metadata": {},
     "output_type": "execute_result"
    }
   ],
   "source": [
    "usa.t"
   ]
  }
 ],
 "metadata": {
  "kernelspec": {
   "display_name": "R",
   "language": "",
   "name": "ir"
  },
  "language_info": {
   "codemirror_mode": "r",
   "file_extension": ".r",
   "mimetype": "text/x-r-source",
   "name": "R",
   "pygments_lexer": "r"
  }
 },
 "nbformat": 4,
 "nbformat_minor": 0
}
