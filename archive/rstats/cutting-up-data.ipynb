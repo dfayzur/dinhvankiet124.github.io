{
 "cells": [
  {
   "cell_type": "markdown",
   "metadata": {},
   "source": [
    "# Cutting Up Data\n",
    "Original source: http://rforpublichealth.blogspot.com"
   ]
  },
  {
   "cell_type": "code",
   "execution_count": 6,
   "metadata": {
    "collapsed": true
   },
   "outputs": [],
   "source": [
    "# create some simulated data\n",
    "ID <- 1:10\n",
    "Age <- c(26, 65, 15, 7, 88, 43, 28, 66 ,45, 12)\n",
    "Sex <- c(1, 0, 1, 1, 0 ,1, 1, 1, 0, 1)\n",
    "Weight <- c(132, 122, 184, 145, 118, NA, 128, 154, 166, 164)\n",
    "Height <- c(60, 63, 57, 59, 64, NA, 67, 65, NA, 60)\n",
    "Married <- c(0, 0, 0, 0, 0, 0, 1, 1, 0, 1)"
   ]
  },
  {
   "cell_type": "code",
   "execution_count": 7,
   "metadata": {
    "collapsed": true
   },
   "outputs": [],
   "source": [
    "# create a dataframe of the simulated data\n",
    "mydata <- data.frame(ID, Age, Sex, Weight, Height, Married)"
   ]
  },
  {
   "cell_type": "code",
   "execution_count": 8,
   "metadata": {
    "collapsed": true
   },
   "outputs": [],
   "source": [
    "# cut up Age by 0-5, 6-10, 11-15, 16-20 and label each category 1-6.\n",
    "mydata$Agecat1<-cut(mydata$Age, c(0,5,10,15,20,25,30), labels=c(1:6))"
   ]
  },
  {
   "cell_type": "code",
   "execution_count": 9,
   "metadata": {
    "collapsed": false
   },
   "outputs": [
    {
     "data": {
      "text/plain": [
       "[1] \"factor\""
      ]
     },
     "execution_count": 9,
     "metadata": {},
     "output_type": "execute_result"
    }
   ],
   "source": [
    "# it is a factor\n",
    "class(mydata$Agecat1)"
   ]
  }
 ],
 "metadata": {
  "kernelspec": {
   "display_name": "R",
   "language": "",
   "name": "ir"
  },
  "language_info": {
   "codemirror_mode": "r",
   "file_extension": ".r",
   "mimetype": "text/x-r-source",
   "name": "R",
   "pygments_lexer": "r"
  }
 },
 "nbformat": 4,
 "nbformat_minor": 0
}
