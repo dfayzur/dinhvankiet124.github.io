{
 "cells": [
  {
   "cell_type": "markdown",
   "metadata": {},
   "source": [
    "# Scraping Web Pages\n",
    "Original source: Learning R"
   ]
  },
  {
   "cell_type": "code",
   "execution_count": 10,
   "metadata": {
    "collapsed": false
   },
   "outputs": [],
   "source": [
    "# Load RCurl Library\n",
    "library(RCurl)"
   ]
  },
  {
   "cell_type": "code",
   "execution_count": 11,
   "metadata": {
    "collapsed": true
   },
   "outputs": [],
   "source": [
    "# Create a string with the URL to the website\n",
    "time_url <- \"http://tycho.usno.navy.mil/cgi-bin/timer.pl\""
   ]
  },
  {
   "cell_type": "code",
   "execution_count": 12,
   "metadata": {
    "collapsed": true
   },
   "outputs": [],
   "source": [
    "# Download the HTML\n",
    "time_page <- getURL(time_url)"
   ]
  },
  {
   "cell_type": "code",
   "execution_count": 13,
   "metadata": {
    "collapsed": false
   },
   "outputs": [
    {
     "name": "stdout",
     "output_type": "stream",
     "text": [
      "<!DOCTYPE HTML PUBLIC \"-//W3C//DTD HTML 3.2 Final\"//EN>\n",
      "<html>\n",
      "<body>\n",
      "<TITLE>What time is it?</TITLE>\n",
      "<H2> US Naval Observatory Master Clock Time</H2> <H3><PRE>\n",
      "<BR>Mar. 14, 18:14:26 UTC\t\tUniversal Time\n",
      "<BR>Mar. 14, 02:14:26 PM EDT\t\tEastern Time\n",
      "<BR>Mar. 14, 01:14:26 PM CDT\t\tCentral Time\n",
      "<BR>Mar. 14, 12:14:26 PM MDT\t\tMountain Time\n",
      "<BR>Mar. 14, 11:14:26 AM PDT\t\tPacific Time\n",
      "<BR>Mar. 14, 10:14:26 AM AKDT\tAlaska Time\n",
      "<BR>Mar. 14, 08:14:26 AM HAST\tHawaii-Aleutian Time\n",
      "</PRE></H3><P><A HREF=\"http://www.usno.navy.mil\"> US Naval Observatory</A>\n",
      "\n",
      "</body></html>\n",
      "\n"
     ]
    }
   ],
   "source": [
    "# Use concatenate and view the html in a pretty way\n",
    "cat(time_page)"
   ]
  },
  {
   "cell_type": "code",
   "execution_count": 14,
   "metadata": {
    "collapsed": true
   },
   "outputs": [],
   "source": [
    "# load XML library\n",
    "library(XML)"
   ]
  },
  {
   "cell_type": "code",
   "execution_count": 15,
   "metadata": {
    "collapsed": false
   },
   "outputs": [
    {
     "data": {
      "text/plain": [
       "<!DOCTYPE HTML PUBLIC \"-//W3C//DTD HTML 3.2 Final\">\n",
       "<html><body>\n",
       "<p>/EN&gt;\n",
       "\n",
       "</p>\n",
       "<title>What time is it?</title>\n",
       "<h2> US Naval Observatory Master Clock Time</h2> <h3><pre>\n",
       "<br>Mar. 14, 18:14:26 UTC\t\tUniversal Time\n",
       "<br>Mar. 14, 02:14:26 PM EDT\t\tEastern Time\n",
       "<br>Mar. 14, 01:14:26 PM CDT\t\tCentral Time\n",
       "<br>Mar. 14, 12:14:26 PM MDT\t\tMountain Time\n",
       "<br>Mar. 14, 11:14:26 AM PDT\t\tPacific Time\n",
       "<br>Mar. 14, 10:14:26 AM AKDT\tAlaska Time\n",
       "<br>Mar. 14, 08:14:26 AM HAST\tHawaii-Aleutian Time\n",
       "</pre></h3>\n",
       "<p><a href=\"http://www.usno.navy.mil\"> US Naval Observatory</a>\n",
       "\n",
       "</p>\n",
       "</body></html>\n",
       " "
      ]
     },
     "execution_count": 15,
     "metadata": {},
     "output_type": "execute_result"
    }
   ],
   "source": [
    "# parse the HTML\n",
    "time_doc <- htmlParse(time_page); time_doc"
   ]
  },
  {
   "cell_type": "code",
   "execution_count": 16,
   "metadata": {
    "collapsed": true
   },
   "outputs": [],
   "source": [
    "# extract everything within the \"pre\" tag. The // denotes that we are searching the entire document. The [[1]] refers to the fact we are not moving a list to pre but moving the contents of the list.\n",
    "pre <- xpathSApply(time_doc, \"//pre\")[[1]]"
   ]
  },
  {
   "cell_type": "code",
   "execution_count": 17,
   "metadata": {
    "collapsed": true
   },
   "outputs": [],
   "source": [
    "# split along newline \\n, divides up each time\n",
    "values <- strsplit(xmlValue(pre), \"\\n\")[[1]][-1]"
   ]
  },
  {
   "cell_type": "code",
   "execution_count": 18,
   "metadata": {
    "collapsed": true
   },
   "outputs": [],
   "source": [
    "# split along the tabs \\t+ divides each time into time the time and timezone\n",
    "times <- strsplit(values, \"\\t+\")"
   ]
  },
  {
   "cell_type": "code",
   "execution_count": 19,
   "metadata": {
    "collapsed": false
   },
   "outputs": [
    {
     "data": {
      "text/plain": [
       "[[1]]\n",
       "[1] \"Mar. 14, 18:14:26 UTC\" \"Universal Time\"       \n",
       "\n",
       "[[2]]\n",
       "[1] \"Mar. 14, 02:14:26 PM EDT\" \"Eastern Time\"            \n",
       "\n",
       "[[3]]\n",
       "[1] \"Mar. 14, 01:14:26 PM CDT\" \"Central Time\"            \n",
       "\n",
       "[[4]]\n",
       "[1] \"Mar. 14, 12:14:26 PM MDT\" \"Mountain Time\"           \n",
       "\n",
       "[[5]]\n",
       "[1] \"Mar. 14, 11:14:26 AM PDT\" \"Pacific Time\"            \n",
       "\n",
       "[[6]]\n",
       "[1] \"Mar. 14, 10:14:26 AM AKDT\" \"Alaska Time\"              \n",
       "\n",
       "[[7]]\n",
       "[1] \"Mar. 14, 08:14:26 AM HAST\" \"Hawaii-Aleutian Time\"     \n"
      ]
     },
     "execution_count": 19,
     "metadata": {},
     "output_type": "execute_result"
    }
   ],
   "source": [
    "times"
   ]
  }
 ],
 "metadata": {
  "kernelspec": {
   "display_name": "R",
   "language": "",
   "name": "ir"
  },
  "language_info": {
   "codemirror_mode": "r",
   "file_extension": ".r",
   "mimetype": "text/x-r-source",
   "name": "R",
   "pygments_lexer": "r"
  }
 },
 "nbformat": 4,
 "nbformat_minor": 0
}
