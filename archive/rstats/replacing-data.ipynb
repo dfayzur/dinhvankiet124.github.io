{
 "cells": [
  {
   "cell_type": "markdown",
   "metadata": {},
   "source": [
    "# Replacing Data"
   ]
  },
  {
   "cell_type": "code",
   "execution_count": 1,
   "metadata": {
    "collapsed": true
   },
   "outputs": [],
   "source": [
    "# create simulated crime data of 20 observations\n",
    "number.of.crimes <- runif(20)"
   ]
  },
  {
   "cell_type": "code",
   "execution_count": 2,
   "metadata": {
    "collapsed": false
   },
   "outputs": [
    {
     "data": {
      "text/plain": [
       " [1]  0.76663091  0.90760481  0.17940086  0.73056629  0.10152773  0.79474331\n",
       " [7]  0.85948238  0.75014760  0.08862732 14.00000000  1.00000000  0.77783735\n",
       "[13]  0.34835337  0.97988156  0.06695829  0.47863876  0.48860696  0.19188663\n",
       "[19]  0.66221872  0.74794979"
      ]
     },
     "execution_count": 2,
     "metadata": {},
     "output_type": "execute_result"
    }
   ],
   "source": [
    "# replace the 10th and 11th value in number of crimes with 14 and 1, respectively\n",
    "replace(number.of.crimes, c(10,11), c(14,1))"
   ]
  }
 ],
 "metadata": {
  "kernelspec": {
   "display_name": "R",
   "language": "",
   "name": "ir"
  },
  "language_info": {
   "codemirror_mode": "r",
   "file_extension": ".r",
   "mimetype": "text/x-r-source",
   "name": "R",
   "pygments_lexer": "r"
  }
 },
 "nbformat": 4,
 "nbformat_minor": 0
}
