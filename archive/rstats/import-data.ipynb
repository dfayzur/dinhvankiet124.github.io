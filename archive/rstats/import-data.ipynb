{
 "cells": [
  {
   "cell_type": "markdown",
   "metadata": {},
   "source": [
    "# Importing Baltimore's 2010 Monthly Crime Data "
   ]
  },
  {
   "cell_type": "code",
   "execution_count": 1,
   "metadata": {
    "collapsed": false
   },
   "outputs": [
    {
     "name": "stderr",
     "output_type": "stream",
     "text": [
      "Warning message:\n",
      "In file(file, \"rt\"): cannot open file '/Users/chrisralbon/cra/cra_projects/code_peoples-data/The People's Data/data_files/Crime_2010_Count_By_District.csv': No such file or directory"
     ]
    },
    {
     "ename": "ERROR",
     "evalue": "Error in file(file, \"rt\"): cannot open the connection\n",
     "output_type": "error",
     "traceback": [
      "Error in file(file, \"rt\"): cannot open the connection\n"
     ]
    }
   ],
   "source": [
    "# create an object called bmore.crime from the csv file called Crime_2010_Count_By_District.csv\n",
    "bmore.crime <- read.csv(\"~/cra/cra_projects/code_peoples-data/The People's Data/data_files/Crime_2010_Count_By_District.csv\")"
   ]
  }
 ],
 "metadata": {
  "kernelspec": {
   "display_name": "R",
   "language": "",
   "name": "ir"
  },
  "language_info": {
   "codemirror_mode": "r",
   "file_extension": ".r",
   "mimetype": "text/x-r-source",
   "name": "R",
   "pygments_lexer": "r"
  }
 },
 "nbformat": 4,
 "nbformat_minor": 0
}
