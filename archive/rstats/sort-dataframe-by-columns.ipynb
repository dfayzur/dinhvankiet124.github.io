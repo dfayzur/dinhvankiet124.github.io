{
 "cells": [
  {
   "cell_type": "markdown",
   "metadata": {},
   "source": [
    "# Sorting A Data Frame By A Single Column\n",
    "Original source: http://onertipaday.blogspot.com/2007/08/sortingordering-dataframe-according.html"
   ]
  },
  {
   "cell_type": "code",
   "execution_count": 1,
   "metadata": {
    "collapsed": true
   },
   "outputs": [],
   "source": [
    "# Create three vectors of data\n",
    "x = rnorm(20)\n",
    "y = sample(rep(1:2, each = 10))\n",
    "z = sample(rep(1:4, 5))"
   ]
  },
  {
   "cell_type": "code",
   "execution_count": 2,
   "metadata": {
    "collapsed": true
   },
   "outputs": [],
   "source": [
    "# Create a dataframe containing those vectors\n",
    "data.df <- data.frame(x, y, z)"
   ]
  },
  {
   "cell_type": "code",
   "execution_count": 3,
   "metadata": {
    "collapsed": true
   },
   "outputs": [],
   "source": [
    "# Sort the entire dataframe by column y, then by column z \n",
    "sort.by <- c(\"y\", \"z\")\n",
    "data.df.sorted = data.df[do.call(order, data.df[sort.by]), ]"
   ]
  },
  {
   "cell_type": "code",
   "execution_count": 4,
   "metadata": {
    "collapsed": false
   },
   "outputs": [
    {
     "name": "stdout",
     "output_type": "stream",
     "text": [
      "            x y z\n",
      "2   0.6573883 1 1\n",
      "7   0.7038443 1 1\n",
      "5  -0.8647954 1 2\n",
      "17  0.6415467 1 2\n",
      "20 -2.0368409 1 2\n",
      "16 -0.1966456 1 3\n",
      "18 -0.1435698 1 3\n",
      "19  1.7946029 1 3\n",
      "9   0.4068842 1 4\n",
      "11 -1.4022449 1 4\n",
      "3  -0.3688571 2 1\n",
      "4  -1.6158611 2 1\n",
      "14 -0.4293812 2 1\n",
      "1  -0.2070859 2 2\n",
      "13 -0.8712713 2 2\n",
      "6   0.4727199 2 3\n",
      "10 -0.7866490 2 3\n",
      "8   0.3843080 2 4\n",
      "12  0.7966665 2 4\n",
      "15  1.4994587 2 4\n"
     ]
    }
   ],
   "source": [
    "# View the sorted data frame\n",
    "print(data.df.sorted)"
   ]
  }
 ],
 "metadata": {
  "kernelspec": {
   "display_name": "R",
   "language": "",
   "name": "ir"
  },
  "language_info": {
   "codemirror_mode": "r",
   "file_extension": ".r",
   "mimetype": "text/x-r-source",
   "name": "R",
   "pygments_lexer": "r"
  }
 },
 "nbformat": 4,
 "nbformat_minor": 0
}
