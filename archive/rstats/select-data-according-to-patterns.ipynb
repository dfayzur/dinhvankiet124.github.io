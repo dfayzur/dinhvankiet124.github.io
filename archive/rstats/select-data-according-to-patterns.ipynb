{
 "cells": [
  {
   "cell_type": "markdown",
   "metadata": {},
   "source": [
    "# Selecting Data According To Patterns"
   ]
  },
  {
   "cell_type": "code",
   "execution_count": 1,
   "metadata": {
    "collapsed": true
   },
   "outputs": [],
   "source": [
    "# create simulated district names\n",
    "district <- factor(c(\"NORTH\", \"NORTHWEST\", \"CENTRAL\", \"SOUTH\", \"SOUTHWEST\", \"WESTERN\"))"
   ]
  },
  {
   "cell_type": "code",
   "execution_count": 2,
   "metadata": {
    "collapsed": false
   },
   "outputs": [
    {
     "data": {
      "text/plain": [
       "[1] NORTH     NORTHWEST\n",
       "Levels: CENTRAL NORTH NORTHWEST SOUTH SOUTHWEST WESTERN"
      ]
     },
     "execution_count": 2,
     "metadata": {},
     "output_type": "execute_result"
    }
   ],
   "source": [
    "#Select all the cases where Baltimore's district name is \"North\"\n",
    "district[grep(\"NORTH\", as.character(district))]"
   ]
  }
 ],
 "metadata": {
  "kernelspec": {
   "display_name": "R",
   "language": "",
   "name": "ir"
  },
  "language_info": {
   "codemirror_mode": "r",
   "file_extension": ".r",
   "mimetype": "text/x-r-source",
   "name": "R",
   "pygments_lexer": "r"
  }
 },
 "nbformat": 4,
 "nbformat_minor": 0
}
