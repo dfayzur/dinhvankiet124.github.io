{
 "cells": [
  {
   "cell_type": "markdown",
   "metadata": {},
   "source": [
    "# Indexing Lists\n",
    "Source: The R Book"
   ]
  },
  {
   "cell_type": "code",
   "execution_count": 1,
   "metadata": {
    "collapsed": true
   },
   "outputs": [],
   "source": [
    "# create a list with simulated values\n",
    "score <- runif(100)\n",
    "states.df <- data.frame(state1 = state.name[1:10], state2 = state.name[11:20], state3 = state.name[21:30])\n",
    "name <- letters[1:20]\n",
    "data.ls <- list(score, states.df, name)\n",
    "rm(score, states.df, name)"
   ]
  },
  {
   "cell_type": "code",
   "execution_count": 2,
   "metadata": {
    "collapsed": false
   },
   "outputs": [
    {
     "data": {
      "text/plain": [
       "[[1]]\n",
       "  [1] 0.63621710 0.59751371 0.01766910 0.73041249 0.54653846 0.43043145\n",
       "  [7] 0.11636422 0.89274444 0.44612503 0.39206699 0.12284822 0.26404920\n",
       " [13] 0.92865699 0.95513231 0.58906710 0.10746887 0.60970037 0.22867149\n",
       " [19] 0.35527089 0.60892570 0.35784036 0.72655682 0.84694322 0.39318969\n",
       " [25] 0.62687130 0.43777173 0.66495234 0.20309509 0.59805951 0.83228360\n",
       " [31] 0.03682167 0.65222574 0.39590677 0.84520655 0.65905423 0.58668714\n",
       " [37] 0.97529621 0.03153370 0.21449200 0.60840212 0.11533601 0.98922948\n",
       " [43] 0.28021083 0.93354662 0.87155782 0.13732277 0.32347877 0.41667773\n",
       " [49] 0.78557746 0.03647728 0.14362887 0.75381004 0.83698159 0.47739142\n",
       " [55] 0.49435061 0.93762428 0.76667158 0.43727024 0.92981355 0.47720586\n",
       " [61] 0.25126170 0.52683971 0.23403415 0.93919411 0.38310410 0.93215790\n",
       " [67] 0.32509680 0.46385170 0.52321614 0.11183669 0.49761109 0.12499426\n",
       " [73] 0.32904283 0.10927183 0.51750471 0.24286425 0.59768396 0.56955455\n",
       " [79] 0.86041375 0.83515259 0.20773829 0.69600639 0.83626496 0.36528740\n",
       " [85] 0.70885737 0.72743847 0.14066207 0.65039423 0.43245807 0.13238103\n",
       " [91] 0.35716796 0.24420694 0.76592652 0.43970478 0.36873838 0.48452003\n",
       " [97] 0.25268138 0.69132921 0.48043993 0.54034955\n",
       "\n",
       "[[2]]\n",
       "        state1    state2        state3\n",
       "1      Alabama    Hawaii Massachusetts\n",
       "2       Alaska     Idaho      Michigan\n",
       "3      Arizona  Illinois     Minnesota\n",
       "4     Arkansas   Indiana   Mississippi\n",
       "5   California      Iowa      Missouri\n",
       "6     Colorado    Kansas       Montana\n",
       "7  Connecticut  Kentucky      Nebraska\n",
       "8     Delaware Louisiana        Nevada\n",
       "9      Florida     Maine New Hampshire\n",
       "10     Georgia  Maryland    New Jersey\n",
       "\n",
       "[[3]]\n",
       " [1] \"a\" \"b\" \"c\" \"d\" \"e\" \"f\" \"g\" \"h\" \"i\" \"j\" \"k\" \"l\" \"m\" \"n\" \"o\" \"p\" \"q\" \"r\" \"s\"\n",
       "[20] \"t\"\n"
      ]
     },
     "execution_count": 2,
     "metadata": {},
     "output_type": "execute_result"
    }
   ],
   "source": [
    "# view the list\n",
    "data.ls"
   ]
  },
  {
   "cell_type": "code",
   "execution_count": 3,
   "metadata": {
    "collapsed": false
   },
   "outputs": [
    {
     "data": {
      "text/plain": [
       "  [1] 0.63621710 0.59751371 0.01766910 0.73041249 0.54653846 0.43043145\n",
       "  [7] 0.11636422 0.89274444 0.44612503 0.39206699 0.12284822 0.26404920\n",
       " [13] 0.92865699 0.95513231 0.58906710 0.10746887 0.60970037 0.22867149\n",
       " [19] 0.35527089 0.60892570 0.35784036 0.72655682 0.84694322 0.39318969\n",
       " [25] 0.62687130 0.43777173 0.66495234 0.20309509 0.59805951 0.83228360\n",
       " [31] 0.03682167 0.65222574 0.39590677 0.84520655 0.65905423 0.58668714\n",
       " [37] 0.97529621 0.03153370 0.21449200 0.60840212 0.11533601 0.98922948\n",
       " [43] 0.28021083 0.93354662 0.87155782 0.13732277 0.32347877 0.41667773\n",
       " [49] 0.78557746 0.03647728 0.14362887 0.75381004 0.83698159 0.47739142\n",
       " [55] 0.49435061 0.93762428 0.76667158 0.43727024 0.92981355 0.47720586\n",
       " [61] 0.25126170 0.52683971 0.23403415 0.93919411 0.38310410 0.93215790\n",
       " [67] 0.32509680 0.46385170 0.52321614 0.11183669 0.49761109 0.12499426\n",
       " [73] 0.32904283 0.10927183 0.51750471 0.24286425 0.59768396 0.56955455\n",
       " [79] 0.86041375 0.83515259 0.20773829 0.69600639 0.83626496 0.36528740\n",
       " [85] 0.70885737 0.72743847 0.14066207 0.65039423 0.43245807 0.13238103\n",
       " [91] 0.35716796 0.24420694 0.76592652 0.43970478 0.36873838 0.48452003\n",
       " [97] 0.25268138 0.69132921 0.48043993 0.54034955"
      ]
     },
     "execution_count": 3,
     "metadata": {},
     "output_type": "execute_result"
    }
   ],
   "source": [
    "# select 1st list element\n",
    "data.ls[[1]]"
   ]
  },
  {
   "cell_type": "code",
   "execution_count": 4,
   "metadata": {
    "collapsed": false
   },
   "outputs": [
    {
     "data": {
      "text/plain": [
       "[1] 0.5975137"
      ]
     },
     "execution_count": 4,
     "metadata": {},
     "output_type": "execute_result"
    }
   ],
   "source": [
    "# select the 1st list element, then select it's 2nd value\n",
    "data.ls[[1]][2]"
   ]
  },
  {
   "cell_type": "code",
   "execution_count": 5,
   "metadata": {
    "collapsed": false
   },
   "outputs": [
    {
     "data": {
      "text/plain": [
       "[1] Arizona\n",
       "10 Levels: Alabama Alaska Arizona Arkansas California Colorado ... Georgia"
      ]
     },
     "execution_count": 5,
     "metadata": {},
     "output_type": "execute_result"
    }
   ],
   "source": [
    "# select the 2nd list element, then select it's value in the 3rd row and 1st column\n",
    "data.ls[[2]][3,1]"
   ]
  }
 ],
 "metadata": {
  "kernelspec": {
   "display_name": "R",
   "language": "",
   "name": "ir"
  },
  "language_info": {
   "codemirror_mode": "r",
   "file_extension": ".r",
   "mimetype": "text/x-r-source",
   "name": "R",
   "pygments_lexer": "r"
  }
 },
 "nbformat": 4,
 "nbformat_minor": 0
}
