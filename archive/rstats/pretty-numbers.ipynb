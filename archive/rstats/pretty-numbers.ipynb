{
 "cells": [
  {
   "cell_type": "markdown",
   "metadata": {},
   "source": [
    "# Making Pretty Numbers with prettyNum\n",
    "\n",
    "We are taking two input numbers 1e10 and 1e-14, and formatting them with commas after zero and peroids before."
   ]
  },
  {
   "cell_type": "code",
   "execution_count": 1,
   "metadata": {
    "collapsed": false
   },
   "outputs": [
    {
     "data": {
      "text/plain": [
       "[1] \"10,000,000,000\"     \"0.00000.00000.0001\""
      ]
     },
     "execution_count": 1,
     "metadata": {},
     "output_type": "execute_result"
    }
   ],
   "source": [
    "prettyNum(\n",
    "  c(1e10, 1e-14),\n",
    "  big.mark = \",\",\n",
    "  small.mark = \".\",\n",
    "  preserve.width = \"individual\",\n",
    "  scientific = FALSE\n",
    ")"
   ]
  }
 ],
 "metadata": {
  "kernelspec": {
   "display_name": "R",
   "language": "",
   "name": "ir"
  },
  "language_info": {
   "codemirror_mode": "r",
   "file_extension": ".r",
   "mimetype": "text/x-r-source",
   "name": "R",
   "pygments_lexer": "r"
  }
 },
 "nbformat": 4,
 "nbformat_minor": 0
}
