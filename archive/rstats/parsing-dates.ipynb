{
 "cells": [
  {
   "cell_type": "markdown",
   "metadata": {},
   "source": [
    "# Parsing Dates\n",
    "\n",
    "Often imported data will need to be parsed. If the dates are character strings, you can use strptime to parse the date-time."
   ]
  },
  {
   "cell_type": "code",
   "execution_count": 3,
   "metadata": {
    "collapsed": true
   },
   "outputs": [],
   "source": [
    "# Import some moon landing day/times\n",
    "moon_landings_str <- c(\n",
    "  \"20:17:40 20/07/1969\",\n",
    "  \"06:54:35 19/11/1969\",\n",
    "  \"09:18:11 05/02/1971\",\n",
    "  \"22:16:29 30/07/1971\",\n",
    "  \"02:23:35 21/04/1972\",\n",
    "  \"19:54:57 11/12/1972\"\n",
    ")"
   ]
  },
  {
   "cell_type": "code",
   "execution_count": 4,
   "metadata": {
    "collapsed": false
   },
   "outputs": [
    {
     "data": {
      "text/plain": [
       "[1] \"20:17:40 20/07/1969\" \"06:54:35 19/11/1969\" \"09:18:11 05/02/1971\"\n",
       "[4] \"22:16:29 30/07/1971\" \"02:23:35 21/04/1972\" \"19:54:57 11/12/1972\""
      ]
     },
     "execution_count": 4,
     "metadata": {},
     "output_type": "execute_result"
    }
   ],
   "source": [
    "moon_landings_str"
   ]
  },
  {
   "cell_type": "code",
   "execution_count": 5,
   "metadata": {
    "collapsed": true
   },
   "outputs": [],
   "source": [
    "# convert the date-time character strings into dates\n",
    "moon_landings_lt <- strptime(\n",
    "  moon_landings_str,\n",
    "  \"%H:%M:%S %d/%m/%Y\",\n",
    "  tz = \"UTC\")"
   ]
  },
  {
   "cell_type": "code",
   "execution_count": 6,
   "metadata": {
    "collapsed": false
   },
   "outputs": [
    {
     "data": {
      "text/plain": [
       "[1] \"1969-07-20 20:17:40 UTC\" \"1969-11-19 06:54:35 UTC\"\n",
       "[3] \"1971-02-05 09:18:11 UTC\" \"1971-07-30 22:16:29 UTC\"\n",
       "[5] \"1972-04-21 02:23:35 UTC\" \"1972-12-11 19:54:57 UTC\""
      ]
     },
     "execution_count": 6,
     "metadata": {},
     "output_type": "execute_result"
    }
   ],
   "source": [
    "moon_landings_lt"
   ]
  }
 ],
 "metadata": {
  "kernelspec": {
   "display_name": "R",
   "language": "",
   "name": "ir"
  },
  "language_info": {
   "codemirror_mode": "r",
   "file_extension": ".r",
   "mimetype": "text/x-r-source",
   "name": "R",
   "pygments_lexer": "r"
  }
 },
 "nbformat": 4,
 "nbformat_minor": 0
}
