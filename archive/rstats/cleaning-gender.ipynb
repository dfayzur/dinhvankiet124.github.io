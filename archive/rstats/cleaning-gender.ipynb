{
 "cells": [
  {
   "cell_type": "markdown",
   "metadata": {},
   "source": [
    "# Cleaning Up Gender\n",
    "Original source: Learning R"
   ]
  },
  {
   "cell_type": "code",
   "execution_count": 15,
   "metadata": {
    "collapsed": true
   },
   "outputs": [],
   "source": [
    "# create some messy fake gender data\n",
    "gender <- c(\"MALE\", \"Male\", \"male\", \"M\", \"FEMALE\", \"Female\", \"female\", \"f\", NA)"
   ]
  },
  {
   "cell_type": "code",
   "execution_count": 16,
   "metadata": {
    "collapsed": true
   },
   "outputs": [],
   "source": [
    "# find strings that start with m and optionally ending in ale\n",
    "clean_gender <- str_replace(\n",
    "  gender,\n",
    "  ignore.case(\"^m(ale)?$\"),\n",
    "  \"Male\"\n",
    ")"
   ]
  },
  {
   "cell_type": "code",
   "execution_count": 17,
   "metadata": {
    "collapsed": true
   },
   "outputs": [],
   "source": [
    "# find strings the start with f and optionally end in emale\n",
    "clean_gender <- str_replace(\n",
    "  clean_gender,\n",
    "  ignore.case(\"^f(emale)?$\"),\n",
    "  \"Female\"\n",
    ")"
   ]
  },
  {
   "cell_type": "code",
   "execution_count": 18,
   "metadata": {
    "collapsed": false
   },
   "outputs": [
    {
     "data": {
      "text/plain": [
       "[1] \"Male\"   \"Male\"   \"Male\"   \"Male\"   \"Female\" \"Female\" \"Female\" \"Female\"\n",
       "[9] NA      "
      ]
     },
     "execution_count": 18,
     "metadata": {},
     "output_type": "execute_result"
    }
   ],
   "source": [
    "clean_gender"
   ]
  }
 ],
 "metadata": {
  "kernelspec": {
   "display_name": "R",
   "language": "",
   "name": "ir"
  },
  "language_info": {
   "codemirror_mode": "r",
   "file_extension": ".r",
   "mimetype": "text/x-r-source",
   "name": "R",
   "pygments_lexer": "r"
  }
 },
 "nbformat": 4,
 "nbformat_minor": 0
}
