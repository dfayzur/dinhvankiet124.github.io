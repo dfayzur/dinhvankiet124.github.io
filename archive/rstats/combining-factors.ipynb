{
 "cells": [
  {
   "cell_type": "markdown",
   "metadata": {},
   "source": [
    "# Combining Factors\n",
    "\n",
    "Combining factors acts like interacting two variables. In other words, like interacting two binary variables to create all four possible combinations."
   ]
  },
  {
   "cell_type": "code",
   "execution_count": 1,
   "metadata": {
    "collapsed": true
   },
   "outputs": [],
   "source": [
    "# Create a binary variable for treatment or control\n",
    "treatment <- gl(2, 1, labels = c(\"treatment\", \"control\"))\n",
    "\n",
    "# Create a binary variable for female or male\n",
    "gender <- gl(2, 1, labels = c(\"female\", \"male\"))"
   ]
  },
  {
   "cell_type": "code",
   "execution_count": 2,
   "metadata": {
    "collapsed": false
   },
   "outputs": [
    {
     "data": {
      "text/plain": [
       "[1] treatment.female control.male    \n",
       "Levels: treatment.female control.female treatment.male control.male"
      ]
     },
     "execution_count": 2,
     "metadata": {},
     "output_type": "execute_result"
    }
   ],
   "source": [
    "# Interact the factors by combining them\n",
    "interaction(treatment, gender)"
   ]
  }
 ],
 "metadata": {
  "kernelspec": {
   "display_name": "R",
   "language": "",
   "name": "ir"
  },
  "language_info": {
   "codemirror_mode": "r",
   "file_extension": ".r",
   "mimetype": "text/x-r-source",
   "name": "R",
   "pygments_lexer": "r"
  }
 },
 "nbformat": 4,
 "nbformat_minor": 0
}
