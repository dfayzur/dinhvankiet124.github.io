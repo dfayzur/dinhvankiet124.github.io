{
 "cells": [
  {
   "cell_type": "markdown",
   "metadata": {},
   "source": [
    "# Aggregate Data By Week Or Month\n",
    "\n",
    "original source: http://stackoverflow.com/questions/19716244/aggregate-data-by-week-month-etc-in-r?lq=1"
   ]
  },
  {
   "cell_type": "code",
   "execution_count": 1,
   "metadata": {
    "collapsed": false
   },
   "outputs": [
    {
     "name": "stderr",
     "output_type": "stream",
     "text": [
      "Loading required package: zoo\n",
      "\n",
      "Attaching package: ‘zoo’\n",
      "\n",
      "The following objects are masked from ‘package:base’:\n",
      "\n",
      "    as.Date, as.Date.numeric\n",
      "\n"
     ]
    }
   ],
   "source": [
    "# load the xts package\n",
    "library(xts)"
   ]
  },
  {
   "cell_type": "markdown",
   "metadata": {},
   "source": [
    "## Create some simulated data"
   ]
  },
  {
   "cell_type": "code",
   "execution_count": 2,
   "metadata": {
    "collapsed": true
   },
   "outputs": [],
   "source": [
    "# create an element for every year between two dates\n",
    "date <- seq(as.Date(\"2006-01-01\"), as.Date(\"2007-01-01\"), by = \"1 day\")\n",
    "\n",
    "# create some simulated values\n",
    "score <- runif(366)\n",
    "\n",
    "# create a zoo time series object of score and ata\n",
    "zoo <- zoo(score, date)"
   ]
  },
  {
   "cell_type": "markdown",
   "metadata": {},
   "source": [
    "## Create some averages"
   ]
  },
  {
   "cell_type": "code",
   "execution_count": 3,
   "metadata": {
    "collapsed": true
   },
   "outputs": [],
   "source": [
    "# create a weekly average\n",
    "weekly.avg <- apply.weekly(zoo, mean)"
   ]
  },
  {
   "cell_type": "code",
   "execution_count": 4,
   "metadata": {
    "collapsed": false
   },
   "outputs": [
    {
     "data": {
      "text/plain": [
       "2006-01-01 2006-01-08 2006-01-15 2006-01-22 2006-01-29 2006-02-05 2006-02-12 \n",
       " 0.6463105  0.3696941  0.4492466  0.5587588  0.3330893  0.7490642  0.3463500 \n",
       "2006-02-19 2006-02-26 2006-03-05 2006-03-12 2006-03-19 2006-03-26 2006-04-02 \n",
       " 0.4594144  0.3015816  0.5016827  0.3824588  0.4501046  0.5086366  0.6927037 \n",
       "2006-04-09 2006-04-16 2006-04-23 2006-04-30 2006-05-07 2006-05-14 2006-05-21 \n",
       " 0.5238080  0.6618441  0.4366701  0.6187016  0.6110044  0.5724795  0.5267836 \n",
       "2006-05-28 2006-06-04 2006-06-11 2006-06-18 2006-06-25 2006-07-02 2006-07-09 \n",
       " 0.4003268  0.3999404  0.6366840  0.4546525  0.5675619  0.4411083  0.5747285 \n",
       "2006-07-16 2006-07-23 2006-07-30 2006-08-06 2006-08-13 2006-08-20 2006-08-27 \n",
       " 0.4136250  0.4936679  0.4814989  0.4419165  0.3644543  0.6385395  0.5230308 \n",
       "2006-09-03 2006-09-10 2006-09-17 2006-09-24 2006-10-01 2006-10-08 2006-10-15 \n",
       " 0.5259253  0.5474812  0.4658602  0.4771834  0.6106620  0.4471343  0.4576065 \n",
       "2006-10-22 2006-10-29 2006-11-05 2006-11-12 2006-11-19 2006-11-26 2006-12-03 \n",
       " 0.6124155  0.5418694  0.3136825  0.4227544  0.2406943  0.3723846  0.6079556 \n",
       "2006-12-10 2006-12-17 2006-12-24 2006-12-31 2007-01-01 \n",
       " 0.5289365  0.4426345  0.6362102  0.4849858  0.1102631 "
      ]
     },
     "execution_count": 4,
     "metadata": {},
     "output_type": "execute_result"
    }
   ],
   "source": [
    "weekly.avg"
   ]
  },
  {
   "cell_type": "code",
   "execution_count": 5,
   "metadata": {
    "collapsed": true
   },
   "outputs": [],
   "source": [
    "# create a monthly average\n",
    "monthly.avg <- apply.monthly(zoo, mean)"
   ]
  },
  {
   "cell_type": "code",
   "execution_count": 6,
   "metadata": {
    "collapsed": false
   },
   "outputs": [
    {
     "data": {
      "text/plain": [
       "2006-01-31 2006-02-28 2006-03-31 2006-04-30 2006-05-31 2006-06-30 2006-07-31 \n",
       " 0.4636550  0.4345047  0.4883293  0.5791776  0.5045688  0.5301847  0.4698487 \n",
       "2006-08-31 2006-09-30 2006-10-31 2006-11-30 2006-12-31 2007-01-01 \n",
       " 0.5033712  0.5218908  0.5171836  0.3661705  0.5341010  0.1102631 "
      ]
     },
     "execution_count": 6,
     "metadata": {},
     "output_type": "execute_result"
    }
   ],
   "source": [
    "monthly.avg"
   ]
  }
 ],
 "metadata": {
  "kernelspec": {
   "display_name": "R",
   "language": "",
   "name": "ir"
  },
  "language_info": {
   "codemirror_mode": "r",
   "file_extension": ".r",
   "mimetype": "text/x-r-source",
   "name": "R",
   "pygments_lexer": "r"
  }
 },
 "nbformat": 4,
 "nbformat_minor": 0
}
