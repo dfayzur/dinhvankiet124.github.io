{
 "cells": [
  {
   "cell_type": "markdown",
   "metadata": {},
   "source": [
    "# Loops With Lists"
   ]
  },
  {
   "cell_type": "code",
   "execution_count": 1,
   "metadata": {
    "collapsed": true
   },
   "outputs": [],
   "source": [
    "# create list object of fake data\n",
    "names <- c(\"John\", \"Jack\", \"John\", \"Jack\", \"Jack\")\n",
    "numbers <- c(3434, 4352, 3452, 3452, 2345)\n",
    "numbers2 <- c(3434, 4352, 3452, 3452, 2345)\n",
    "win <- c(T, F, T, F, T, F)\n",
    "data.list <- list(names, numbers, win)\n",
    "data.list.numbers <- list(numbers, numbers2)"
   ]
  },
  {
   "cell_type": "code",
   "execution_count": 2,
   "metadata": {
    "collapsed": false
   },
   "outputs": [
    {
     "data": {
      "text/plain": [
       "[[1]]\n",
       "[1] \"John\" \"Jack\"\n",
       "\n",
       "[[2]]\n",
       "[1] 3434 4352 3452 2345\n",
       "\n",
       "[[3]]\n",
       "[1]  TRUE FALSE\n"
      ]
     },
     "execution_count": 2,
     "metadata": {},
     "output_type": "execute_result"
    }
   ],
   "source": [
    "# apply (via list apply) the unique() function to every element in the list\n",
    "lapply(data.list, unique)"
   ]
  },
  {
   "cell_type": "markdown",
   "metadata": {},
   "source": [
    "## vapply is like lapply, but it returns a vector"
   ]
  },
  {
   "cell_type": "code",
   "execution_count": 3,
   "metadata": {
    "collapsed": false
   },
   "outputs": [
    {
     "data": {
      "text/plain": [
       "     [,1] [,2]\n",
       "[1,] 3434 3434\n",
       "[2,] 4352 4352\n",
       "[3,] 3452 3452\n",
       "[4,] 2345 2345"
      ]
     },
     "execution_count": 3,
     "metadata": {},
     "output_type": "execute_result"
    }
   ],
   "source": [
    "# apply (via list apply) the unique() function to every element in the list\n",
    "vapply(data.list.numbers, unique, numeric(4))"
   ]
  }
 ],
 "metadata": {
  "kernelspec": {
   "display_name": "R",
   "language": "",
   "name": "ir"
  },
  "language_info": {
   "codemirror_mode": "r",
   "file_extension": ".r",
   "mimetype": "text/x-r-source",
   "name": "R",
   "pygments_lexer": "r"
  }
 },
 "nbformat": 4,
 "nbformat_minor": 0
}
