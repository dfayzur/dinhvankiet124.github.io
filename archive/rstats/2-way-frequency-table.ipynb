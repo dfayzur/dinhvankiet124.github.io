{
 "cells": [
  {
   "cell_type": "markdown",
   "metadata": {},
   "source": [
    "# Two Way Frequency Table\n",
    "\n",
    "Original source: http://www.statmethods.net/stats/frequencies.html"
   ]
  },
  {
   "cell_type": "code",
   "execution_count": 3,
   "metadata": {
    "collapsed": false
   },
   "outputs": [],
   "source": [
    "A <- c(\"yes\", \"no\",\"yes\", \"no\",\"yes\", \"no\",\"yes\", \"no\")\n",
    "B <- c(\"male\", \"female\",\"female\", \"male\",\"male\", \"male\",\"male\", \"male\")"
   ]
  },
  {
   "cell_type": "code",
   "execution_count": 4,
   "metadata": {
    "collapsed": false
   },
   "outputs": [
    {
     "data": {
      "text/plain": [
       "     B\n",
       "A     female male\n",
       "  no       1    3\n",
       "  yes      1    3"
      ]
     },
     "execution_count": 4,
     "metadata": {},
     "output_type": "execute_result"
    }
   ],
   "source": [
    "mytable <- table(A,B) # A will be rows, B will be columns\n",
    "mytable # print table"
   ]
  },
  {
   "cell_type": "code",
   "execution_count": 5,
   "metadata": {
    "collapsed": false
   },
   "outputs": [
    {
     "data": {
      "text/plain": [
       "A\n",
       " no yes \n",
       "  4   4 "
      ]
     },
     "execution_count": 5,
     "metadata": {},
     "output_type": "execute_result"
    },
    {
     "data": {
      "text/plain": [
       "B\n",
       "female   male \n",
       "     2      6 "
      ]
     },
     "execution_count": 5,
     "metadata": {},
     "output_type": "execute_result"
    }
   ],
   "source": [
    "margin.table(mytable, 1) # A frequencies (summed over B)\n",
    "margin.table(mytable, 2) # B frequencies (summed over A)"
   ]
  },
  {
   "cell_type": "code",
   "execution_count": 6,
   "metadata": {
    "collapsed": false
   },
   "outputs": [
    {
     "data": {
      "text/plain": [
       "     B\n",
       "A     female  male\n",
       "  no   0.125 0.375\n",
       "  yes  0.125 0.375"
      ]
     },
     "execution_count": 6,
     "metadata": {},
     "output_type": "execute_result"
    },
    {
     "data": {
      "text/plain": [
       "     B\n",
       "A     female male\n",
       "  no    0.25 0.75\n",
       "  yes   0.25 0.75"
      ]
     },
     "execution_count": 6,
     "metadata": {},
     "output_type": "execute_result"
    },
    {
     "data": {
      "text/plain": [
       "     B\n",
       "A     female male\n",
       "  no     0.5  0.5\n",
       "  yes    0.5  0.5"
      ]
     },
     "execution_count": 6,
     "metadata": {},
     "output_type": "execute_result"
    }
   ],
   "source": [
    "prop.table(mytable) # cell percentages\n",
    "prop.table(mytable, 1) # row percentages\n",
    "prop.table(mytable, 2) # column percentages "
   ]
  }
 ],
 "metadata": {
  "kernelspec": {
   "display_name": "R",
   "language": "",
   "name": "ir"
  },
  "language_info": {
   "codemirror_mode": "r",
   "file_extension": ".r",
   "mimetype": "text/x-r-source",
   "name": "R",
   "pygments_lexer": "r"
  }
 },
 "nbformat": 4,
 "nbformat_minor": 0
}
