{
 "cells": [
  {
   "cell_type": "markdown",
   "metadata": {},
   "source": [
    "# Advanced Applying With Plyr"
   ]
  },
  {
   "cell_type": "markdown",
   "metadata": {},
   "source": [
    "**The plyr package uses \\*\\*ply() functions, where the first star in the input and the second star is the output. For example, llplyr takes a list in and spits a list out.**"
   ]
  },
  {
   "cell_type": "code",
   "execution_count": 5,
   "metadata": {
    "collapsed": true
   },
   "outputs": [],
   "source": [
    "# load the plyr package\n",
    "library(plyr)"
   ]
  },
  {
   "cell_type": "code",
   "execution_count": 6,
   "metadata": {
    "collapsed": true
   },
   "outputs": [],
   "source": [
    "#generate some fake list data\n",
    "war.name <- c(\"WWII\", \"WWII\", \"WWI\", \"WWI\", \"Franco-Prussian\", \"Franco-Prussian\", \"Franco-Prussian\", \"Boer War\", \"Boer War\", \"Boer War\")\n",
    "deaths <- c(938, 9480, 2049, 1039, 3928, 9202, 10933, 40293, 10394, 20394)\n",
    "allies <- c(9, 5, 4, 6, 3, 2, 4, 1, 2, 3)\n",
    "casualties <- list(war.name, deaths, allies)\n",
    "casualties.df <- data.frame(war.name, deaths, allies)"
   ]
  },
  {
   "cell_type": "code",
   "execution_count": 7,
   "metadata": {
    "collapsed": false
   },
   "outputs": [
    {
     "data": {
      "text/plain": [
       "[[1]]\n",
       "[1] \"WWII\"            \"WWI\"             \"Franco-Prussian\" \"Boer War\"       \n",
       "\n",
       "[[2]]\n",
       " [1]   938  9480  2049  1039  3928  9202 10933 40293 10394 20394\n",
       "\n",
       "[[3]]\n",
       "[1] 9 5 4 6 3 2 1\n"
      ]
     },
     "execution_count": 7,
     "metadata": {},
     "output_type": "execute_result"
    }
   ],
   "source": [
    "# split up the list by casualties, find all the unique elements, output them as a list\n",
    "llply(casualties, unique)"
   ]
  },
  {
   "cell_type": "markdown",
   "metadata": {},
   "source": [
    "**r\\*ply replaces replicate, with the \\* denoting the output**"
   ]
  },
  {
   "cell_type": "code",
   "execution_count": 8,
   "metadata": {
    "collapsed": false
   },
   "outputs": [
    {
     "data": {
      "text/plain": [
       "  .n         V1\n",
       "1  1 0.09292281\n",
       "2  2 0.06861817\n",
       "3  3 0.04870200\n",
       "4  4 0.57864348\n",
       "5  5 0.21716079"
      ]
     },
     "execution_count": 8,
     "metadata": {},
     "output_type": "execute_result"
    }
   ],
   "source": [
    "# run runif(1) five times, outputting a data frame\n",
    "rdply(5, runif(1))"
   ]
  },
  {
   "cell_type": "markdown",
   "metadata": {},
   "source": [
    "**ddply replaces tapply, it inputs a data frame and outputs a data frame**"
   ]
  },
  {
   "cell_type": "code",
   "execution_count": 9,
   "metadata": {
    "collapsed": false
   },
   "outputs": [
    {
     "data": {
      "text/plain": [
       "         war.name   deaths allies\n",
       "1        Boer War 23693.67      2\n",
       "2 Franco-Prussian  8021.00      3\n",
       "3             WWI  1544.00      5\n",
       "4            WWII  5209.00      7"
      ]
     },
     "execution_count": 9,
     "metadata": {},
     "output_type": "execute_result"
    }
   ],
   "source": [
    "# take the data frame casualties.df, split it up by war.name (for some reasons it uses the .() function, the find the mean)\n",
    "ddply(\n",
    "  casualties.df,\n",
    "  .(war.name),\n",
    "  colwise(mean)\n",
    ")"
   ]
  }
 ],
 "metadata": {
  "kernelspec": {
   "display_name": "R",
   "language": "",
   "name": "ir"
  },
  "language_info": {
   "codemirror_mode": "r",
   "file_extension": ".r",
   "mimetype": "text/x-r-source",
   "name": "R",
   "pygments_lexer": "r"
  }
 },
 "nbformat": 4,
 "nbformat_minor": 0
}
