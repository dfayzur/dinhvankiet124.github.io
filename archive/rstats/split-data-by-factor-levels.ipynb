{
 "cells": [
  {
   "cell_type": "markdown",
   "metadata": {},
   "source": [
    "# Data can be split up by levels of a factor \n",
    "(i.e. categories in a nominal variable)"
   ]
  },
  {
   "cell_type": "code",
   "execution_count": 4,
   "metadata": {
    "collapsed": true
   },
   "outputs": [],
   "source": [
    "district <- factor(c(\"NORTH\", \"NORTHWEST\", \"CENTRAL\", \"SOUTH\", \"SOUTHWEST\", \"WESTERN\"))\n",
    "number.crimes <- runif(6)\n",
    "year <- c(2009, 2009, 2009, 2010, 2010, 2009)\n",
    "crime <- data.frame(year, district, number.crimes)"
   ]
  },
  {
   "cell_type": "code",
   "execution_count": 5,
   "metadata": {
    "collapsed": false
   },
   "outputs": [
    {
     "data": {
      "text/plain": [
       "$CENTRAL\n",
       "  year district number.crimes\n",
       "3 2009  CENTRAL     0.9478017\n",
       "\n",
       "$NORTH\n",
       "  year district number.crimes\n",
       "1 2009    NORTH     0.6461916\n",
       "\n",
       "$NORTHWEST\n",
       "  year  district number.crimes\n",
       "2 2009 NORTHWEST     0.1150372\n",
       "\n",
       "$SOUTH\n",
       "  year district number.crimes\n",
       "4 2010    SOUTH     0.8126506\n",
       "\n",
       "$SOUTHWEST\n",
       "  year  district number.crimes\n",
       "5 2010 SOUTHWEST     0.6700562\n",
       "\n",
       "$WESTERN\n",
       "  year district number.crimes\n",
       "6 2009  WESTERN     0.5597461\n"
      ]
     },
     "execution_count": 5,
     "metadata": {},
     "output_type": "execute_result"
    }
   ],
   "source": [
    "# split up the crime data by district\n",
    "split(crime, district) "
   ]
  },
  {
   "cell_type": "markdown",
   "metadata": {},
   "source": [
    "Imagine if you also can crime data for 2009, you can use the combination of split() and sapply() to create a nice 2x2 table"
   ]
  },
  {
   "cell_type": "code",
   "execution_count": 6,
   "metadata": {
    "collapsed": false
   },
   "outputs": [
    {
     "data": {
      "text/plain": [
       "  numberCrimes09 year  district number.crimes\n",
       "1      0.6461916 2009     NORTH     0.6461916\n",
       "2      0.1150372 2009 NORTHWEST     0.1150372\n",
       "3      0.9478017 2009   CENTRAL     0.9478017\n",
       "4      0.8126506 2010     SOUTH     0.8126506\n",
       "5      0.6700562 2010 SOUTHWEST     0.6700562\n",
       "6      0.5597461 2009   WESTERN     0.5597461"
      ]
     },
     "execution_count": 6,
     "metadata": {},
     "output_type": "execute_result"
    },
    {
     "data": {
      "text/plain": [
       "  CENTRAL     NORTH NORTHWEST     SOUTH SOUTHWEST   WESTERN \n",
       "1.8956034 1.2923833 0.2300744 1.6253013 1.3401124 1.1194923 "
      ]
     },
     "execution_count": 6,
     "metadata": {},
     "output_type": "execute_result"
    }
   ],
   "source": [
    "# create 2009 crime data, for this example we are keeping the data the same for both years\n",
    "numberCrimes09 <- number.crimes \n",
    "\n",
    "# add a column in bmore.crime for numberCrime09\n",
    "crime <- cbind(numberCrimes09, crime) \n",
    "\n",
    "# display the top few rows of bmore.crime to check everything looks good\n",
    "head(crime) \n",
    "\n",
    "#find the combined sum of the both annual crime total columns, by district\n",
    "sapply(split(crime[,c('numberCrimes09','number.crimes')], district), sum) "
   ]
  }
 ],
 "metadata": {
  "kernelspec": {
   "display_name": "R",
   "language": "",
   "name": "ir"
  },
  "language_info": {
   "codemirror_mode": "r",
   "file_extension": ".r",
   "mimetype": "text/x-r-source",
   "name": "R",
   "pygments_lexer": "r"
  }
 },
 "nbformat": 4,
 "nbformat_minor": 0
}
