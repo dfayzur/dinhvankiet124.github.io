{
 "cells": [
  {
   "cell_type": "markdown",
   "metadata": {},
   "source": [
    "# Inner, Outer, Right, And Left Joins\n",
    "\n",
    "Additional explaination: http://www.codinghorror.com/blog/2007/10/a-visual-explanation-of-sql-joins.html\n",
    "\n",
    "Original source: http://stackoverflow.com/questions/1299871/how-to-join-data-frames-in-r-inner-outer-left-right"
   ]
  },
  {
   "cell_type": "code",
   "execution_count": 1,
   "metadata": {
    "collapsed": true
   },
   "outputs": [],
   "source": [
    "# create two dataframes are fake data\n",
    "survey.1 <- data.frame(response.id = c(1:6), region = c(rep(\"Kisumu\",3),rep(\"Mumbasa\",3)))\n",
    "survey.2 <- data.frame(response.id = c(2,4,6), region = c(rep(\"Nairobi\",2),rep(\"Tankana\",1)))"
   ]
  },
  {
   "cell_type": "markdown",
   "metadata": {},
   "source": [
    "## Inner Join Only Merges Observations Shared By Both Data Frames"
   ]
  },
  {
   "cell_type": "code",
   "execution_count": 2,
   "metadata": {
    "collapsed": false
   },
   "outputs": [
    {
     "data": {
      "text/plain": [
       "  response.id region.x region.y\n",
       "1           2   Kisumu  Nairobi\n",
       "2           4  Mumbasa  Nairobi\n",
       "3           6  Mumbasa  Tankana"
      ]
     },
     "execution_count": 2,
     "metadata": {},
     "output_type": "execute_result"
    }
   ],
   "source": [
    "# merge survey.1 and survey.2 by response.id\n",
    "merge(survey.1, survey.2, by=\"response.id\")"
   ]
  },
  {
   "cell_type": "markdown",
   "metadata": {},
   "source": [
    "## Outer Join Includes Merges All Observations, Leaving A NULL Observation When There Is No Match"
   ]
  },
  {
   "cell_type": "code",
   "execution_count": 3,
   "metadata": {
    "collapsed": false
   },
   "outputs": [
    {
     "data": {
      "text/plain": [
       "  response.id region.x region.y\n",
       "1           1   Kisumu     <NA>\n",
       "2           2   Kisumu  Nairobi\n",
       "3           3   Kisumu     <NA>\n",
       "4           4  Mumbasa  Nairobi\n",
       "5           5  Mumbasa     <NA>\n",
       "6           6  Mumbasa  Tankana"
      ]
     },
     "execution_count": 3,
     "metadata": {},
     "output_type": "execute_result"
    }
   ],
   "source": [
    "# merge survey.1 and survey.2 by response.id, but include observations that don't match\n",
    "merge(x = survey.1, y = survey.2, by = \"response.id\", all = TRUE)"
   ]
  },
  {
   "cell_type": "markdown",
   "metadata": {},
   "source": [
    "## Left Join Includes All Observations From The First Dataframe But Only Matching Observations From The Second Dataframe"
   ]
  },
  {
   "cell_type": "code",
   "execution_count": 4,
   "metadata": {
    "collapsed": false
   },
   "outputs": [
    {
     "data": {
      "text/plain": [
       "  response.id region.x region.y\n",
       "1           1   Kisumu     <NA>\n",
       "2           2   Kisumu  Nairobi\n",
       "3           3   Kisumu     <NA>\n",
       "4           4  Mumbasa  Nairobi\n",
       "5           5  Mumbasa     <NA>\n",
       "6           6  Mumbasa  Tankana"
      ]
     },
     "execution_count": 4,
     "metadata": {},
     "output_type": "execute_result"
    }
   ],
   "source": [
    "# merge survey.1 and survey.2 by response.id, but include survey.1 observations\n",
    "merge(x = survey.1, y = survey.2, by = \"response.id\", all.x=TRUE)"
   ]
  },
  {
   "cell_type": "markdown",
   "metadata": {},
   "source": [
    "## Left Join Includes All Observations From The Second Dataframe But Only Matching Observations From The First Dataframe"
   ]
  },
  {
   "cell_type": "code",
   "execution_count": 5,
   "metadata": {
    "collapsed": false
   },
   "outputs": [
    {
     "data": {
      "text/plain": [
       "  response.id region.x region.y\n",
       "1           2   Kisumu  Nairobi\n",
       "2           4  Mumbasa  Nairobi\n",
       "3           6  Mumbasa  Tankana"
      ]
     },
     "execution_count": 5,
     "metadata": {},
     "output_type": "execute_result"
    }
   ],
   "source": [
    "# merge survey.1 and survey.2 by response.id, but include survey.2 observations\n",
    "merge(x = survey.1, y = survey.2, by = \"response.id\", all.y=TRUE)"
   ]
  }
 ],
 "metadata": {
  "kernelspec": {
   "display_name": "R",
   "language": "",
   "name": "ir"
  },
  "language_info": {
   "codemirror_mode": "r",
   "file_extension": ".r",
   "mimetype": "text/x-r-source",
   "name": "R",
   "pygments_lexer": "r"
  }
 },
 "nbformat": 4,
 "nbformat_minor": 0
}
