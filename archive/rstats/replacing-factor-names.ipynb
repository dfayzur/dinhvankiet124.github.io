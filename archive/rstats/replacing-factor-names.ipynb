{
 "cells": [
  {
   "cell_type": "markdown",
   "metadata": {},
   "source": [
    "# Replacing Factor Names Using Match"
   ]
  },
  {
   "cell_type": "code",
   "execution_count": 5,
   "metadata": {
    "collapsed": true
   },
   "outputs": [],
   "source": [
    "# create simulated factor names\n",
    "district <- factor(c(\"NORTH\", \"NORTHWEST\", \"CENTRAL\", \"SOUTH\", \"SOUTHWEST\", \"WESTERN\"))"
   ]
  },
  {
   "cell_type": "code",
   "execution_count": 6,
   "metadata": {
    "collapsed": true
   },
   "outputs": [],
   "source": [
    "# for the levels of the Baltimore crime district variable, find instances where the names of the levels are WESTERN and replace with WEST\n",
    "levels(district)[match(\"WESTERN\",levels(district))] <- \"WEST\""
   ]
  },
  {
   "cell_type": "markdown",
   "metadata": {},
   "source": [
    "You can also do another way. Since every level in a factor can be identified by both a name (as done in the previous example) and a number."
   ]
  },
  {
   "cell_type": "code",
   "execution_count": 7,
   "metadata": {
    "collapsed": false
   },
   "outputs": [
    {
     "data": {
      "text/plain": [
       "[1] \"CENTRAL\"   \"NORTH\"     \"NORTHWEST\" \"SOUTH\"     \"SOUTHWEST\" \"WEST\"     "
      ]
     },
     "execution_count": 7,
     "metadata": {},
     "output_type": "execute_result"
    }
   ],
   "source": [
    "# view the levels of the district factor\n",
    "levels(district)"
   ]
  },
  {
   "cell_type": "code",
   "execution_count": 8,
   "metadata": {
    "collapsed": true
   },
   "outputs": [],
   "source": [
    "# replace the name of the third factor, NORTHEASTERN, with NORTHEAST\n",
    "levels(district)[3] <- 'NORTHEAST' "
   ]
  },
  {
   "cell_type": "code",
   "execution_count": 9,
   "metadata": {
    "collapsed": false
   },
   "outputs": [
    {
     "data": {
      "text/plain": [
       "[1] NORTH     NORTHEAST CENTRAL   SOUTH     SOUTHWEST WEST     \n",
       "Levels: CENTRAL NORTH NORTHEAST SOUTH SOUTHWEST WEST"
      ]
     },
     "execution_count": 9,
     "metadata": {},
     "output_type": "execute_result"
    }
   ],
   "source": [
    "district"
   ]
  }
 ],
 "metadata": {
  "kernelspec": {
   "display_name": "R",
   "language": "",
   "name": "ir"
  },
  "language_info": {
   "codemirror_mode": "r",
   "file_extension": ".r",
   "mimetype": "text/x-r-source",
   "name": "R",
   "pygments_lexer": "r"
  }
 },
 "nbformat": 4,
 "nbformat_minor": 0
}
