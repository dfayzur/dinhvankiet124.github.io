{
 "cells": [
  {
   "cell_type": "markdown",
   "metadata": {},
   "source": [
    "# Character Dates"
   ]
  },
  {
   "cell_type": "code",
   "execution_count": 8,
   "metadata": {
    "collapsed": true
   },
   "outputs": [],
   "source": [
    "# create a dates2 variable with simulated data\n",
    "dates2 <- as.data.frame(\n",
    "  cbind(c(1:5),\n",
    "  c(\"8/31/70\", \"NA\", \"10/12/60\", \"1/1/66\", \"12/31/80\"), \n",
    "  c(\"8/31/56\", \"12-31-1977\", \"12Aug55\", \"July 31 1965\" ,\"30jan1952\")))"
   ]
  },
  {
   "cell_type": "code",
   "execution_count": 9,
   "metadata": {
    "collapsed": false
   },
   "outputs": [
    {
     "data": {
      "text/plain": [
       "  ID date_factor date_horrible\n",
       "1  1     8/31/70       8/31/56\n",
       "2  2          NA    12-31-1977\n",
       "3  3    10/12/60       12Aug55\n",
       "4  4      1/1/66  July 31 1965\n",
       "5  5    12/31/80     30jan1952"
      ]
     },
     "execution_count": 9,
     "metadata": {},
     "output_type": "execute_result"
    }
   ],
   "source": [
    "# add column names\n",
    "colnames(dates2) <- c(\"ID\", \"date_factor\", \"date_horrible\")\n",
    "\n",
    "# view the dataframe\n",
    "dates2"
   ]
  },
  {
   "cell_type": "code",
   "execution_count": 10,
   "metadata": {
    "collapsed": false
   },
   "outputs": [],
   "source": [
    "# load the chron packaage\n",
    "library(chron)"
   ]
  },
  {
   "cell_type": "code",
   "execution_count": 11,
   "metadata": {
    "collapsed": false
   },
   "outputs": [
    {
     "name": "stderr",
     "output_type": "stream",
     "text": [
      "Warning message:\n",
      "In unpaste(dates., sep = fmt$sep, fnames = fmt$periods, nfields = 3): wrong number of fields in entry(ies) 2Warning message:\n",
      "In unpaste(dates., sep = fmt$sep, fnames = fmt$periods, nfields = 3): wrong number of fields in entry(ies) 2"
     ]
    },
    {
     "data": {
      "text/plain": [
       "[1] September 01 1970 <NA>              October 13 1960   January 02 1966  \n",
       "[5] January 01 1981  "
      ]
     },
     "execution_count": 11,
     "metadata": {},
     "output_type": "execute_result"
    },
    {
     "data": {
      "text/plain": [
       "[1] FALSE    NA  TRUE FALSE FALSE"
      ]
     },
     "execution_count": 11,
     "metadata": {},
     "output_type": "execute_result"
    }
   ],
   "source": [
    "# convert date_factor into characters and the translate it into date format using format = \n",
    "dates2$date.fmt <- chron(as.character(dates2$date_factor), format = \"m/d/y\")\n",
    "\n",
    "# same as above but change the output format\n",
    "dates2$date.fmt <- chron(as.character(dates2$date_factor), format = \"m/d/y\", out.format = \"month day year\")\n",
    "\n",
    "# create a new variable that is their age in years (thus divide by 360), the floor() function converts the number into integers\n",
    "dates2$age <- as.numeric(floor(difftime(chron(\"03/01/2013\"), dates2$date.fmt, unit = \"days\")/360))\n",
    "\n",
    "# Add a day to each element of a vector of ages\n",
    "dates2$date.fmt + 1\n",
    "\n",
    "# Ask which dates in a vector came before a set date\n",
    "dates2$date.fmt < chron(\"04/02/62\")"
   ]
  },
  {
   "cell_type": "code",
   "execution_count": 12,
   "metadata": {
    "collapsed": false
   },
   "outputs": [],
   "source": [
    "# load the date package\n",
    "library(date)"
   ]
  },
  {
   "cell_type": "code",
   "execution_count": 13,
   "metadata": {
    "collapsed": false
   },
   "outputs": [
    {
     "data": {
      "text/plain": [
       "  ID date_horrible date_autofmt\n",
       "1  1       8/31/56        -1218\n",
       "2  2    12-31-1977         6574\n",
       "3  3       12Aug55        -1603\n",
       "4  4  July 31 1965         2038\n",
       "5  5     30jan1952        -2893"
      ]
     },
     "execution_count": 13,
     "metadata": {},
     "output_type": "execute_result"
    }
   ],
   "source": [
    "dates2$date_autofmt <- as.date(as.character(dates2$date_horrible))\n",
    "dates2[, c(1, 3, 6)]"
   ]
  },
  {
   "cell_type": "code",
   "execution_count": 14,
   "metadata": {
    "collapsed": false
   },
   "outputs": [
    {
     "data": {
      "text/plain": [
       "  ID date_horrible date_amazing\n",
       "1  1       8/31/56   1956-08-31\n",
       "2  2    12-31-1977   1977-12-31\n",
       "3  3       12Aug55   1955-08-12\n",
       "4  4  July 31 1965   1965-07-31\n",
       "5  5     30jan1952   1952-01-30"
      ]
     },
     "execution_count": 14,
     "metadata": {},
     "output_type": "execute_result"
    }
   ],
   "source": [
    "# take the horribly formatted dates, convert them into characters, auto convert the messy dates into clean dates (using as.date) then convert it into R's date class (as.Date). Notice the capitalization of as.date and as.Date.\n",
    "dates2$date_amazing <- as.Date(as.date(as.character(dates2$date_horrible)))\n",
    "\n",
    "dates2[, c(1, 3, 7)]"
   ]
  }
 ],
 "metadata": {
  "kernelspec": {
   "display_name": "R",
   "language": "",
   "name": "ir"
  },
  "language_info": {
   "codemirror_mode": "r",
   "file_extension": ".r",
   "mimetype": "text/x-r-source",
   "name": "R",
   "pygments_lexer": "r"
  }
 },
 "nbformat": 4,
 "nbformat_minor": 0
}
