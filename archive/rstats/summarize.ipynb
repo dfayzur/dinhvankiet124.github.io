{
 "cells": [
  {
   "cell_type": "markdown",
   "metadata": {},
   "source": [
    "# Summarize A Variable"
   ]
  },
  {
   "cell_type": "code",
   "execution_count": 1,
   "metadata": {
    "collapsed": true
   },
   "outputs": [],
   "source": [
    "# Create two variables of 50 observations\n",
    "percent.sms <- runif(50)\n",
    "location <- state.name"
   ]
  },
  {
   "cell_type": "code",
   "execution_count": 2,
   "metadata": {
    "collapsed": true
   },
   "outputs": [],
   "source": [
    "# Create a dataframe of those two variables\n",
    "usa <- data.frame(location, percent.sms)"
   ]
  },
  {
   "cell_type": "code",
   "execution_count": 3,
   "metadata": {
    "collapsed": false
   },
   "outputs": [
    {
     "data": {
      "text/plain": [
       "       location   percent.sms       \n",
       " Alabama   : 1   Min.   :0.0002011  \n",
       " Alaska    : 1   1st Qu.:0.2562950  \n",
       " Arizona   : 1   Median :0.5068584  \n",
       " Arkansas  : 1   Mean   :0.4832696  \n",
       " California: 1   3rd Qu.:0.7120861  \n",
       " Colorado  : 1   Max.   :0.9816996  \n",
       " (Other)   :44                      "
      ]
     },
     "execution_count": 3,
     "metadata": {},
     "output_type": "execute_result"
    }
   ],
   "source": [
    "# Summarize the dataframe\n",
    "summary(usa)"
   ]
  },
  {
   "cell_type": "code",
   "execution_count": 4,
   "metadata": {
    "collapsed": false
   },
   "outputs": [
    {
     "data": {
      "text/plain": [
       "    location percent.sms\n",
       "1    Alabama   0.8962870\n",
       "2     Alaska   0.5507513\n",
       "3    Arizona   0.5061370\n",
       "4   Arkansas   0.9779650\n",
       "5 California   0.6913123\n",
       "6   Colorado   0.4087530"
      ]
     },
     "execution_count": 4,
     "metadata": {},
     "output_type": "execute_result"
    }
   ],
   "source": [
    "# View the top few rows of the dataframe\n",
    "head(usa)"
   ]
  },
  {
   "cell_type": "code",
   "execution_count": 5,
   "metadata": {
    "collapsed": false
   },
   "outputs": [
    {
     "name": "stdout",
     "output_type": "stream",
     "text": [
      "'data.frame':\t50 obs. of  2 variables:\n",
      " $ location   : Factor w/ 50 levels \"Alabama\",\"Alaska\",..: 1 2 3 4 5 6 7 8 9 10 ...\n",
      " $ percent.sms: num  0.896 0.551 0.506 0.978 0.691 ...\n"
     ]
    }
   ],
   "source": [
    "# View the structure of the dataframe\n",
    "str(usa)"
   ]
  },
  {
   "cell_type": "code",
   "execution_count": 6,
   "metadata": {
    "collapsed": false
   },
   "outputs": [
    {
     "data": {
      "text/plain": [
       "$names\n",
       "[1] \"location\"    \"percent.sms\"\n",
       "\n",
       "$row.names\n",
       " [1]  1  2  3  4  5  6  7  8  9 10 11 12 13 14 15 16 17 18 19 20 21 22 23 24 25\n",
       "[26] 26 27 28 29 30 31 32 33 34 35 36 37 38 39 40 41 42 43 44 45 46 47 48 49 50\n",
       "\n",
       "$class\n",
       "[1] \"data.frame\"\n"
      ]
     },
     "execution_count": 6,
     "metadata": {},
     "output_type": "execute_result"
    }
   ],
   "source": [
    "# View the attributes of the dataframe\n",
    "attributes(usa)"
   ]
  },
  {
   "cell_type": "code",
   "execution_count": 7,
   "metadata": {
    "collapsed": true
   },
   "outputs": [],
   "source": [
    "# View the dataframe\n",
    "View(usa)"
   ]
  }
 ],
 "metadata": {
  "kernelspec": {
   "display_name": "R",
   "language": "",
   "name": "ir"
  },
  "language_info": {
   "codemirror_mode": "r",
   "file_extension": ".r",
   "mimetype": "text/x-r-source",
   "name": "R",
   "pygments_lexer": "r"
  }
 },
 "nbformat": 4,
 "nbformat_minor": 0
}
