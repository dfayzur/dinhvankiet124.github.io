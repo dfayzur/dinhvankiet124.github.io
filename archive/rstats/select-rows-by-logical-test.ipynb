{
 "cells": [
  {
   "cell_type": "markdown",
   "metadata": {},
   "source": [
    "# Select Rows By Logical Test\n",
    "Original source: the r book"
   ]
  },
  {
   "cell_type": "code",
   "execution_count": 1,
   "metadata": {
    "collapsed": true
   },
   "outputs": [],
   "source": [
    "# create a dataframe with simulated values\n",
    "x <- runif(10)\n",
    "y <- runif(10)\n",
    "z <- runif(10)\n",
    "a <- runif(10)\n",
    "data <- data.frame(x, y, z, a)\n",
    "rm(x, y, z, a)"
   ]
  },
  {
   "cell_type": "code",
   "execution_count": 2,
   "metadata": {
    "collapsed": false
   },
   "outputs": [
    {
     "data": {
      "text/plain": [
       "          x         y          z         a\n",
       "2 0.3617916 0.5513793 0.73714905 0.8678027\n",
       "3 0.4121965 0.8947345 0.00735662 0.3614312\n",
       "6 0.7360850 0.8569630 0.97564971 0.6338547\n",
       "8 0.2491201 0.3543410 0.41584055 0.5313946\n",
       "9 0.1619093 0.6615272 0.51492096 0.9567799"
      ]
     },
     "execution_count": 2,
     "metadata": {},
     "output_type": "execute_result"
    }
   ],
   "source": [
    "# select all rows where y is greater than x\n",
    "data[data$y > data$x,]"
   ]
  },
  {
   "cell_type": "code",
   "execution_count": 3,
   "metadata": {
    "collapsed": false
   },
   "outputs": [
    {
     "data": {
      "text/plain": [
       "           x         y         z          a\n",
       "1  0.8097187 0.4683501 0.9130371 0.18605450\n",
       "4  0.8210452 0.2808778 0.1992804 0.03930297\n",
       "5  0.2189346 0.1651140 0.2851813 0.64965427\n",
       "7  0.6266258 0.2833319 0.7272680 0.92645638\n",
       "10 0.8173277 0.3407574 0.7902216 0.11055400"
      ]
     },
     "execution_count": 3,
     "metadata": {},
     "output_type": "execute_result"
    }
   ],
   "source": [
    "# select all rows where y IS NOT greater than x\n",
    "data[!(data$y > data$x),]"
   ]
  }
 ],
 "metadata": {
  "kernelspec": {
   "display_name": "R",
   "language": "",
   "name": "ir"
  },
  "language_info": {
   "codemirror_mode": "r",
   "file_extension": ".r",
   "mimetype": "text/x-r-source",
   "name": "R",
   "pygments_lexer": "r"
  }
 },
 "nbformat": 4,
 "nbformat_minor": 0
}
