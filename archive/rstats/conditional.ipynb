{
 "cells": [
  {
   "cell_type": "markdown",
   "metadata": {},
   "source": [
    "# Conditional execution"
   ]
  },
  {
   "cell_type": "code",
   "execution_count": 8,
   "metadata": {
    "collapsed": true
   },
   "outputs": [],
   "source": [
    "# Make some data\n",
    "my.age <- 20\n",
    "our.ages <- cbind(20,30,40)"
   ]
  },
  {
   "cell_type": "code",
   "execution_count": 9,
   "metadata": {
    "collapsed": false
   },
   "outputs": [
    {
     "data": {
      "text/plain": [
       "[1] TRUE"
      ]
     },
     "execution_count": 9,
     "metadata": {},
     "output_type": "execute_result"
    }
   ],
   "source": [
    "# Sometimes we might only want R to do one thing under certain conditions and another thing under other conditions. Conditional execution let's us do that.\n",
    "if (my.age < 30) { # if my.age is greater than 30\n",
    "  under.30 <- TRUE # then set under.30 as TRUE\n",
    "} else { # if my.age is not greater than 30\n",
    "  under.30 <- FALSE # then set under.30 as FALSE\n",
    "} # close this conditional execution\n",
    "under.30 # display under.30"
   ]
  },
  {
   "cell_type": "code",
   "execution_count": 10,
   "metadata": {
    "collapsed": false
   },
   "outputs": [],
   "source": [
    "# If we want to run a conditional execution on all values in a vector, we can use the ifelse function\n",
    "old.or.young <- ifelse(our.ages < mean(our.ages), \"OLDER\", \"YOUNGER\") # create an object old.or.young and add to label a value as older if the age of someone in our.age is older than the average (mean) age of the vector and \"younger\" if they are younger than the average age."
   ]
  },
  {
   "cell_type": "code",
   "execution_count": 11,
   "metadata": {
    "collapsed": false
   },
   "outputs": [
    {
     "data": {
      "text/plain": [
       "     [,1]    [,2]      [,3]     \n",
       "[1,] \"OLDER\" \"YOUNGER\" \"YOUNGER\""
      ]
     },
     "execution_count": 11,
     "metadata": {},
     "output_type": "execute_result"
    }
   ],
   "source": [
    "old.or.young # display old.or.young"
   ]
  }
 ],
 "metadata": {
  "kernelspec": {
   "display_name": "R",
   "language": "",
   "name": "ir"
  },
  "language_info": {
   "codemirror_mode": "r",
   "file_extension": ".r",
   "mimetype": "text/x-r-source",
   "name": "R",
   "pygments_lexer": "r"
  }
 },
 "nbformat": 4,
 "nbformat_minor": 0
}
