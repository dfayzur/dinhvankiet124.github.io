{
 "cells": [
  {
   "cell_type": "markdown",
   "metadata": {},
   "source": [
    "# Convert A List Into A Dataframe"
   ]
  },
  {
   "cell_type": "code",
   "execution_count": 1,
   "metadata": {
    "collapsed": false
   },
   "outputs": [
    {
     "data": {
      "text/plain": [
       "$scores\n",
       " [1] 0.72770677 0.61598787 0.96234018 0.19366523 0.26006986 0.07253386\n",
       " [7] 0.73779295 0.58013676 0.18979002 0.72309143 0.48458231 0.51446047\n",
       "[13] 0.88990973 0.53759564 0.62698847 0.08148905 0.31585633 0.88666670\n",
       "[19] 0.87910724 0.59395343\n",
       "\n",
       "$states\n",
       " [1] \"Alabama\"     \"Alaska\"      \"Arizona\"     \"Arkansas\"    \"California\" \n",
       " [6] \"Colorado\"    \"Connecticut\" \"Delaware\"    \"Florida\"     \"Georgia\"    \n",
       "[11] \"Hawaii\"      \"Idaho\"       \"Illinois\"    \"Indiana\"     \"Iowa\"       \n",
       "[16] \"Kansas\"      \"Kentucky\"    \"Louisiana\"   \"Maine\"       \"Maryland\"   \n"
      ]
     },
     "execution_count": 1,
     "metadata": {},
     "output_type": "execute_result"
    }
   ],
   "source": [
    "# create a list of two elements, the first a vector of 20 obs, the second 20 state names\n",
    "the.list <- list(scores = runif(20), states = state.name[1:20]); the.list"
   ]
  },
  {
   "cell_type": "code",
   "execution_count": 2,
   "metadata": {
    "collapsed": false
   },
   "outputs": [
    {
     "data": {
      "text/plain": [
       "   the.list.scores the.list.states\n",
       "1       0.72770677         Alabama\n",
       "2       0.61598787          Alaska\n",
       "3       0.96234018         Arizona\n",
       "4       0.19366523        Arkansas\n",
       "5       0.26006986      California\n",
       "6       0.07253386        Colorado\n",
       "7       0.73779295     Connecticut\n",
       "8       0.58013676        Delaware\n",
       "9       0.18979002         Florida\n",
       "10      0.72309143         Georgia\n",
       "11      0.48458231          Hawaii\n",
       "12      0.51446047           Idaho\n",
       "13      0.88990973        Illinois\n",
       "14      0.53759564         Indiana\n",
       "15      0.62698847            Iowa\n",
       "16      0.08148905          Kansas\n",
       "17      0.31585633        Kentucky\n",
       "18      0.88666670       Louisiana\n",
       "19      0.87910724           Maine\n",
       "20      0.59395343        Maryland"
      ]
     },
     "execution_count": 2,
     "metadata": {},
     "output_type": "execute_result"
    }
   ],
   "source": [
    "# create a dataframe with identifying each element of the list as a dataframe column \n",
    "df <- data.frame(the.list$scores, the.list$states); df"
   ]
  }
 ],
 "metadata": {
  "kernelspec": {
   "display_name": "R",
   "language": "",
   "name": "ir"
  },
  "language_info": {
   "codemirror_mode": "r",
   "file_extension": ".r",
   "mimetype": "text/x-r-source",
   "name": "R",
   "pygments_lexer": "r"
  }
 },
 "nbformat": 4,
 "nbformat_minor": 0
}
