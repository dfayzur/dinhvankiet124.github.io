{
 "cells": [
  {
   "cell_type": "markdown",
   "metadata": {},
   "source": [
    "# Removing Variables"
   ]
  },
  {
   "cell_type": "code",
   "execution_count": 11,
   "metadata": {
    "collapsed": true
   },
   "outputs": [],
   "source": [
    "# Create two variables of 50 observations\n",
    "percent.sms <- runif(50)\n",
    "location <- state.name"
   ]
  },
  {
   "cell_type": "code",
   "execution_count": 12,
   "metadata": {
    "collapsed": false
   },
   "outputs": [
    {
     "data": {
      "text/plain": [
       " [1] 0.58913023 0.54043206 0.14073087 0.68065186 0.74324175 0.75807962\n",
       " [7] 0.29425877 0.27024361 0.95795936 0.59034216 0.56754098 0.59455496\n",
       "[13] 0.21656371 0.60917559 0.73271437 0.22795936 0.45305943 0.42421408\n",
       "[19] 0.40083340 0.17028350 0.88662551 0.17400449 0.42711263 0.10408158\n",
       "[25] 0.43336437 0.32618460 0.90744570 0.53893304 0.36471753 0.29214559\n",
       "[31] 0.91914909 0.83578129 0.10637126 0.15559371 0.35368828 0.19322608\n",
       "[37] 0.23442976 0.33605854 0.17083567 0.87818844 0.51282318 0.89569921\n",
       "[43] 0.65206229 0.06575875 0.81599312 0.99551732 0.04941348 0.80749258\n",
       "[49] 0.68767939 0.21466972"
      ]
     },
     "execution_count": 12,
     "metadata": {},
     "output_type": "execute_result"
    },
    {
     "data": {
      "text/plain": [
       " [1] \"Alabama\"        \"Alaska\"         \"Arizona\"        \"Arkansas\"      \n",
       " [5] \"California\"     \"Colorado\"       \"Connecticut\"    \"Delaware\"      \n",
       " [9] \"Florida\"        \"Georgia\"        \"Hawaii\"         \"Idaho\"         \n",
       "[13] \"Illinois\"       \"Indiana\"        \"Iowa\"           \"Kansas\"        \n",
       "[17] \"Kentucky\"       \"Louisiana\"      \"Maine\"          \"Maryland\"      \n",
       "[21] \"Massachusetts\"  \"Michigan\"       \"Minnesota\"      \"Mississippi\"   \n",
       "[25] \"Missouri\"       \"Montana\"        \"Nebraska\"       \"Nevada\"        \n",
       "[29] \"New Hampshire\"  \"New Jersey\"     \"New Mexico\"     \"New York\"      \n",
       "[33] \"North Carolina\" \"North Dakota\"   \"Ohio\"           \"Oklahoma\"      \n",
       "[37] \"Oregon\"         \"Pennsylvania\"   \"Rhode Island\"   \"South Carolina\"\n",
       "[41] \"South Dakota\"   \"Tennessee\"      \"Texas\"          \"Utah\"          \n",
       "[45] \"Vermont\"        \"Virginia\"       \"Washington\"     \"West Virginia\" \n",
       "[49] \"Wisconsin\"      \"Wyoming\"       "
      ]
     },
     "execution_count": 12,
     "metadata": {},
     "output_type": "execute_result"
    }
   ],
   "source": [
    "percent.sms\n",
    "location"
   ]
  },
  {
   "cell_type": "code",
   "execution_count": 13,
   "metadata": {
    "collapsed": true
   },
   "outputs": [],
   "source": [
    "# Remove the location variable\n",
    "rm(location)"
   ]
  },
  {
   "cell_type": "code",
   "execution_count": 14,
   "metadata": {
    "collapsed": false
   },
   "outputs": [
    {
     "data": {
      "text/plain": [
       " [1] 0.58913023 0.54043206 0.14073087 0.68065186 0.74324175 0.75807962\n",
       " [7] 0.29425877 0.27024361 0.95795936 0.59034216 0.56754098 0.59455496\n",
       "[13] 0.21656371 0.60917559 0.73271437 0.22795936 0.45305943 0.42421408\n",
       "[19] 0.40083340 0.17028350 0.88662551 0.17400449 0.42711263 0.10408158\n",
       "[25] 0.43336437 0.32618460 0.90744570 0.53893304 0.36471753 0.29214559\n",
       "[31] 0.91914909 0.83578129 0.10637126 0.15559371 0.35368828 0.19322608\n",
       "[37] 0.23442976 0.33605854 0.17083567 0.87818844 0.51282318 0.89569921\n",
       "[43] 0.65206229 0.06575875 0.81599312 0.99551732 0.04941348 0.80749258\n",
       "[49] 0.68767939 0.21466972"
      ]
     },
     "execution_count": 14,
     "metadata": {},
     "output_type": "execute_result"
    },
    {
     "ename": "ERROR",
     "evalue": "Error in eval(expr, envir, enclos): object 'location' not found\n",
     "output_type": "error",
     "traceback": [
      "Error in eval(expr, envir, enclos): object 'location' not found\n"
     ]
    }
   ],
   "source": [
    "percent.sms\n",
    "location"
   ]
  }
 ],
 "metadata": {
  "kernelspec": {
   "display_name": "R",
   "language": "",
   "name": "ir"
  },
  "language_info": {
   "codemirror_mode": "r",
   "file_extension": ".r",
   "mimetype": "text/x-r-source",
   "name": "R",
   "pygments_lexer": "r"
  }
 },
 "nbformat": 4,
 "nbformat_minor": 0
}
