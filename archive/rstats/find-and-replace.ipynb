{
 "cells": [
  {
   "cell_type": "markdown",
   "metadata": {},
   "source": [
    "# Find And Replace\n",
    "Original source: http://christophergandrud.blogspot.com/2013/12/three-quick-and-simple-data-cleaning.html"
   ]
  },
  {
   "cell_type": "code",
   "execution_count": 5,
   "metadata": {
    "collapsed": false
   },
   "outputs": [],
   "source": [
    "# load the DataCombine package\n",
    "library(DataCombine)"
   ]
  },
  {
   "cell_type": "code",
   "execution_count": 6,
   "metadata": {
    "collapsed": true
   },
   "outputs": [],
   "source": [
    "# create a dataframe of simulated values\n",
    "data.df <- data.frame(cities = c(\"London, UK\", \"Oxford, UK\", \"Berlin, DE\", \"Hamburg, DE\", \"Oslo, NO\"), score = c(8, 0.1, 3, 2, 1))"
   ]
  },
  {
   "cell_type": "code",
   "execution_count": 7,
   "metadata": {
    "collapsed": true
   },
   "outputs": [],
   "source": [
    "# create a dataframe of two vectors, one with the characters to be replaced and the other with what to replace it with\n",
    "replace.values <- data.frame(short = c(\"UK\", \"DE\"), long = c(\"England\", \"Germany\"))"
   ]
  },
  {
   "cell_type": "code",
   "execution_count": 8,
   "metadata": {
    "collapsed": false
   },
   "outputs": [
    {
     "name": "stderr",
     "output_type": "stream",
     "text": [
      "Only exact matches will be replaced.\n"
     ]
    },
    {
     "data": {
      "text/plain": [
       "       cities score\n",
       "1  London, UK   8.0\n",
       "2  Oxford, UK   0.1\n",
       "3  Berlin, DE   3.0\n",
       "4 Hamburg, DE   2.0\n",
       "5    Oslo, NO   1.0"
      ]
     },
     "execution_count": 8,
     "metadata": {},
     "output_type": "execute_result"
    }
   ],
   "source": [
    "# find and replace the character strings\n",
    "data.longnames.df <- FindReplace(data = data.df, Var = \"cities\", replaceData = replace.values, from = \"short\", to = \"long\"); data.longnames.df"
   ]
  }
 ],
 "metadata": {
  "kernelspec": {
   "display_name": "R",
   "language": "",
   "name": "ir"
  },
  "language_info": {
   "codemirror_mode": "r",
   "file_extension": ".r",
   "mimetype": "text/x-r-source",
   "name": "R",
   "pygments_lexer": "r"
  }
 },
 "nbformat": 4,
 "nbformat_minor": 0
}
