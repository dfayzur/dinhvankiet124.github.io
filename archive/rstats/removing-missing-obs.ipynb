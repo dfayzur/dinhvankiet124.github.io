{
 "cells": [
  {
   "cell_type": "markdown",
   "metadata": {},
   "source": [
    "# Removing Observations In Data Frames With Missing Data"
   ]
  },
  {
   "cell_type": "code",
   "execution_count": 1,
   "metadata": {
    "collapsed": true
   },
   "outputs": [],
   "source": [
    "# create a data frame of fake data\n",
    "names <- c(\"Gob\", \"George Michael\", \"Michael\", \"Maebe\", \"Jake\", \"NA\", \"Taylor\", \"NA\", \"Jack\")\n",
    "score.1 <- c(4355, NA, 435345, 435435, 347754, 5754364, 34534543, 43534534, NA)\n",
    "score.2 <- c(4355, 324, 435345, 435435, 347754, NA, NA, NA, 9230)\n",
    "df <- data.frame(names, score.1, score.2)"
   ]
  },
  {
   "cell_type": "code",
   "execution_count": 2,
   "metadata": {
    "collapsed": false
   },
   "outputs": [
    {
     "data": {
      "text/plain": [
       "    names score.1 score.2\n",
       "1     Gob    4355    4355\n",
       "3 Michael  435345  435345\n",
       "4   Maebe  435435  435435\n",
       "5    Jake  347754  347754"
      ]
     },
     "execution_count": 2,
     "metadata": {},
     "output_type": "execute_result"
    }
   ],
   "source": [
    "# index only the rows with no missing data\n",
    "df[complete.cases(df),]"
   ]
  }
 ],
 "metadata": {
  "kernelspec": {
   "display_name": "R",
   "language": "",
   "name": "ir"
  },
  "language_info": {
   "codemirror_mode": "r",
   "file_extension": ".r",
   "mimetype": "text/x-r-source",
   "name": "R",
   "pygments_lexer": "r"
  }
 },
 "nbformat": 4,
 "nbformat_minor": 0
}
