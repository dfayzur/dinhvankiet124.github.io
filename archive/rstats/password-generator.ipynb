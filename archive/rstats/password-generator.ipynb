{
 "cells": [
  {
   "cell_type": "markdown",
   "metadata": {},
   "source": [
    "# Password Generator\n",
    "\n",
    "Credit to: http://ryouready.wordpress.com/2008/12/18/generate-random-string-name/\n",
    "\n",
    "Credit to: http://stats.stackexchange.com/questions/7900/generate-random-strings-based-on-regular-expressions-in-r"
   ]
  },
  {
   "cell_type": "code",
   "execution_count": 1,
   "metadata": {
    "collapsed": true
   },
   "outputs": [],
   "source": [
    "# enter the url here:\n",
    "url <- \"http://chrisralbon.com\""
   ]
  },
  {
   "cell_type": "code",
   "execution_count": 2,
   "metadata": {
    "collapsed": true
   },
   "outputs": [],
   "source": [
    "# password generating function\n",
    "password <- function(x)\n",
    "{\n",
    "  length=nchar(x) - sample(1:10, 5) # take length of url minus a random five digit number\n",
    "  random.string <- c(1:1) # create a atomic vector of length 1\n",
    "  for (i in 1:1)\n",
    "  {\n",
    "    random.string[i] <- paste(sample(c(0:9, letters, LETTERS), length, replace=TRUE), collapse=\"\") # for that vector add random upper and lower case numbers, with replacement of length \"length\"\n",
    "  }\n",
    "  return(random.string) # display the created string\n",
    "}"
   ]
  },
  {
   "cell_type": "code",
   "execution_count": 3,
   "metadata": {
    "collapsed": false
   },
   "outputs": [
    {
     "data": {
      "text/plain": [
       "[1] \"0bd4Kaqy3CPjCV\""
      ]
     },
     "execution_count": 3,
     "metadata": {},
     "output_type": "execute_result"
    }
   ],
   "source": [
    "# generate the password\n",
    "password(url)"
   ]
  }
 ],
 "metadata": {
  "kernelspec": {
   "display_name": "R",
   "language": "",
   "name": "ir"
  },
  "language_info": {
   "codemirror_mode": "r",
   "file_extension": ".r",
   "mimetype": "text/x-r-source",
   "name": "R",
   "pygments_lexer": "r"
  }
 },
 "nbformat": 4,
 "nbformat_minor": 0
}
